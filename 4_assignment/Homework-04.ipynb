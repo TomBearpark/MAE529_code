{
 "cells": [
  {
   "cell_type": "markdown",
   "metadata": {},
   "source": [
    "# Homework 4"
   ]
  },
  {
   "cell_type": "markdown",
   "metadata": {},
   "source": [
    "This Notebook builds on the DCOPF model introduced in [Notebook 6](https://github.com/east-winds/power-systems-optimization/tree/master/Notebooks) and incorporates some elements of Economic Dispatch introduced in [Notebook 4](https://github.com/east-winds/power-systems-optimization/tree/master/Notebooks).\n",
    "\n",
    "First, load (or install if necessary) a set of packages you'll need for this assignment..."
   ]
  },
  {
   "cell_type": "code",
   "execution_count": 1,
   "metadata": {},
   "outputs": [
    {
     "name": "stderr",
     "output_type": "stream",
     "text": [
      "┌ Warning: ORCA.jl has been deprecated and all savefig functionality\n",
      "│ has been implemented directly in PlotlyBase itself.\n",
      "│ \n",
      "│ By implementing in PlotlyBase.jl, the savefig routines are automatically\n",
      "│ available to PlotlyJS.jl also.\n",
      "└ @ ORCA /Users/tombearpark/.julia/packages/ORCA/U5XaN/src/ORCA.jl:8\n"
     ]
    }
   ],
   "source": [
    "using JuMP;             # optimisation\n",
    "using GLPK;             # solver package\n",
    "using DataFrames;       # data manipulation\n",
    "using CSV;              # load in csv data\n",
    "using Plots; plotly();  # base plots\n",
    "using VegaLite;         # nice plots\n",
    "using Query;            # dplyr like data analysis tools"
   ]
  },
  {
   "cell_type": "markdown",
   "metadata": {},
   "source": [
    "## Question 1: Modifying IEEE-14\n",
    "\n",
    "**A. Increased generation costs**\n",
    "\n",
    "Copy the IEEE 14 bus system and DCOPF solver function from Notebook 6. In addition, add the following line to the return call of the function:\n",
    "```julia\n",
    "status = termination_status(DCOPF)\n",
    "```\n",
    "This tells you the solver termination status for the problem: e.g. was an optimal solution found, was the solution infeasible, was it unbounded, etc.\n",
    "\n",
    "Make the following change to the system:\n",
    "\n",
    "- Increase the variable cost of Generator 1 to \\$30 / MWh\n",
    "\n",
    "Run the DCOPF and output generation, flows, and prices."
   ]
  },
  {
   "cell_type": "code",
   "execution_count": null,
   "metadata": {},
   "outputs": [],
   "source": [
    "# Load and format the data\n",
    "\n",
    "# Note - tweaked this to use an absolute path, since i'm writing this code \n",
    "# outside of the repo. Left in option for someone else to run it though\n",
    "if ENV[\"USER\"] == \"tombearpark\"\n",
    "    pso_dir = \"/Users/tombearpark/Documents/princeton/1st_year/MAE529/\" *\n",
    "                    \"power-systems-optimization\"\n",
    "    datadir = joinpath(pso_dir,\"Notebooks\",\"ieee_test_cases\") \n",
    "else\n",
    "    datadir = joinpath(\"..\",\"Notebooks\",\"ieee_test_cases\") \n",
    "end\n",
    "\n",
    "\n",
    "gens = CSV.read(joinpath(datadir,\"Gen14.csv\"), DataFrame);\n",
    "lines = CSV.read(joinpath(datadir,\"Tran14.csv\"), DataFrame);\n",
    "loads = CSV.read(joinpath(datadir,\"Load14.csv\"), DataFrame);\n",
    "\n",
    "# Rename all columns to lowercase (by convention)\n",
    "for f in [gens, lines, loads]\n",
    "    rename!(f,lowercase.(names(f)))\n",
    "end\n",
    "\n",
    "# create generator ids \n",
    "gens.id = 1:nrow(gens);\n",
    "\n",
    "# create line ids \n",
    "lines.id = 1:nrow(lines);\n",
    "# add set of rows for reverse direction with same parameters\n",
    "lines2 = copy(lines)\n",
    "lines2.f = lines2.fromnode\n",
    "lines2.fromnode = lines.tonode\n",
    "lines2.tonode = lines2.f\n",
    "lines2 = lines2[:,names(lines)]\n",
    "append!(lines,lines2)\n",
    "\n",
    "# calculate simple susceptance, ignoring resistance as earlier \n",
    "lines.b = 1 ./ lines.reactance\n",
    "\n",
    "# keep only a single time period\n",
    "loads = loads[:,[\"connnode\",\"interval-1_load\"]]\n",
    "rename!(loads,\"interval-1_load\" => \"demand\");"
   ]
  },
  {
   "cell_type": "code",
   "execution_count": null,
   "metadata": {},
   "outputs": [],
   "source": [
    "#=\n",
    "# Copy the IEEE 14 bus system and DCOPF solver function from Notebook 6.\n",
    "# In addition, add the following line to the return call of the function:\n",
    "# status = termination_status(DCOPF)\n",
    "\n",
    "Function to solve DC OPF problem using IEEE test cases\n",
    "Inputs:\n",
    "    gen_info -- dataframe with generator info\n",
    "    line_info -- dataframe with transmission lines info\n",
    "    loads  -- dataframe with load info\n",
    "=#\n",
    "function dcopf_ieee(gens, lines, loads)\n",
    "    DCOPF = Model(GLPK.Optimizer) # You could use Clp as well, with Clp.Optimizer\n",
    "    \n",
    "    # Define sets based on data\n",
    "      # Set of generator buses\n",
    "    G = gens.connnode\n",
    "    \n",
    "      # Set of all nodes\n",
    "    N = sort(union(unique(lines.fromnode), \n",
    "            unique(lines.tonode)))\n",
    "    \n",
    "      # sets J_i and G_i will be described using dataframe indexing below\n",
    "\n",
    "    # Define per unit base units for the system \n",
    "    # used to convert from per unit values to standard unit\n",
    "    # values (e.g. p.u. power flows to MW/MVA)\n",
    "    baseMVA = 100 # base MVA is 100 MVA for this system\n",
    "    \n",
    "    # Decision variables   \n",
    "    @variables(DCOPF, begin\n",
    "        GEN[N]  >= 0     # generation        \n",
    "        # Note: we assume Pmin = 0 for all resources for simplicty here\n",
    "        THETA[N]         # voltage phase angle of bus\n",
    "        FLOW[N,N]        # flows between all pairs of nodes\n",
    "    end)\n",
    "    \n",
    "    # Create slack bus with reference angle = 0; use bus 1 with generator\n",
    "    fix(THETA[1],0)\n",
    "                \n",
    "    # Objective function\n",
    "    @objective(DCOPF, Min, \n",
    "        sum( gens[g,:c1] * GEN[g] for g in G)\n",
    "    )\n",
    "    \n",
    "    # Supply demand balances\n",
    "    @constraint(DCOPF, cBalance[i in N], \n",
    "        sum(GEN[g] for g in gens[gens.connnode .== i,:connnode]) \n",
    "            + sum(load for load in loads[loads.connnode .== i,:demand]) \n",
    "        == sum(FLOW[i,j] for j in lines[lines.fromnode .== i,:tonode])\n",
    "    )\n",
    "\n",
    "    # Max generation constraint\n",
    "    @constraint(DCOPF, cMaxGen[g in G],\n",
    "                    GEN[g] <= gens[g,:pgmax])\n",
    "\n",
    "    # Flow constraints on each branch; \n",
    "    # In DCOPF, line flow is a function of voltage angles\n",
    "       # Create an array of references to the line constraints, \n",
    "       # which we \"fill\" below in loop\n",
    "    cLineFlows = JuMP.Containers.DenseAxisArray{Any}(undef, 1:nrow(lines)) \n",
    "    for l in 1:nrow(lines)\n",
    "        cLineFlows[l] = @constraint(DCOPF, \n",
    "            FLOW[lines[l,:fromnode],lines[l,:tonode]] == \n",
    "            baseMVA * lines[l,:b] * \n",
    "            (THETA[lines[l,:fromnode]] - THETA[lines[l,:tonode]])\n",
    "        )\n",
    "    end\n",
    "    \n",
    "    # Max line flow limits\n",
    "       # Create an array of references to the line constraints, \n",
    "       # which we \"fill\" below in loop\n",
    "    cLineLimits = JuMP.Containers.DenseAxisArray{Any}(undef, 1:nrow(lines)) \n",
    "    for l in 1:nrow(lines)\n",
    "        cLineLimits[l] = @constraint(DCOPF,\n",
    "            FLOW[lines[l,:fromnode],lines[l,:tonode]] <=\n",
    "            lines[l,:capacity]\n",
    "        ) \n",
    "    end\n",
    "\n",
    "    # Solve statement (! indicates runs in place)\n",
    "    optimize!(DCOPF)\n",
    "\n",
    "    # Output variables\n",
    "    generation = DataFrame(\n",
    "        node = gens.connnode,\n",
    "        gen = value.(GEN).data[gens.connnode]\n",
    "        )\n",
    "    \n",
    "    angles = value.(THETA).data\n",
    "    \n",
    "    flows = DataFrame(\n",
    "        fbus = lines.fromnode,\n",
    "        tbus = lines.tonode,\n",
    "        flow = baseMVA * lines.b .* (angles[lines.fromnode] .- \n",
    "                        angles[lines.tonode]))\n",
    "    \n",
    "    # We output the marginal values of the demand constraints, \n",
    "    # which will in fact be the prices to deliver power at a given bus.\n",
    "    prices = DataFrame(\n",
    "        node = N,\n",
    "        value = dual.(cBalance).data)\n",
    "    \n",
    "    # Return the solution and objective as named tuple\n",
    "    return (\n",
    "        generation = generation, \n",
    "        angles,\n",
    "        flows,\n",
    "        prices,\n",
    "        cost = objective_value(DCOPF),\n",
    "        status = termination_status(DCOPF)\n",
    "    )\n",
    "end"
   ]
  },
  {
   "cell_type": "code",
   "execution_count": null,
   "metadata": {},
   "outputs": [],
   "source": [
    "# helper function for printing cost info\n",
    "# input: solution: an optimised JuMP object\n",
    "\n",
    "function print_cost_and_status(solution)\n",
    "    println(\"Termination status was \" * string(solution.status))\n",
    "    println(\"Optimised cost was \" * string(round(solution.cost)))\n",
    "end"
   ]
  },
  {
   "cell_type": "code",
   "execution_count": null,
   "metadata": {},
   "outputs": [],
   "source": [
    "# First - run the model with baseline numbers to get a comparison\n",
    "\n",
    "solution = dcopf_ieee(gens, lines, loads);\n",
    "print_cost_and_status(solution)"
   ]
  },
  {
   "cell_type": "code",
   "execution_count": null,
   "metadata": {},
   "outputs": [],
   "source": [
    "# Now - Problem 1a)\n",
    "\n",
    "# Make the following change to the system:\n",
    "# Increase the variable cost of Generator 1 to $30 / MWh\n",
    "# Run the DCOPF and output generation, flows, and prices.\n",
    "\n",
    "# Increase the variable cost of generator 1\n",
    "gens_1a = copy(gens) \n",
    "gens_1a.c1[gens_1a.id .==1] .= 30\n",
    "\n",
    "solution_1a = dcopf_ieee(gens_1a, lines, loads);\n",
    "print_cost_and_status(solution_1a)"
   ]
  },
  {
   "cell_type": "code",
   "execution_count": null,
   "metadata": {},
   "outputs": [],
   "source": [
    "# Compare generation across models \n",
    "\n",
    "gen_comparison_df = DataFrame(\n",
    "    baseline = solution.generation.gen, \n",
    "    increased_price_scen = solution_1a.generation.gen)"
   ]
  },
  {
   "cell_type": "code",
   "execution_count": null,
   "metadata": {},
   "outputs": [],
   "source": [
    "# Compare flows across models\n",
    "flow_comparison_df = DataFrame(\n",
    "    baseline = solution.flows.flow, \n",
    "    increased_price_scen = solution_1a.flows.flow);\n",
    "head(flow_comparison_df)"
   ]
  },
  {
   "cell_type": "code",
   "execution_count": null,
   "metadata": {},
   "outputs": [],
   "source": [
    "# Compare prices across models\n",
    "price_comparison_df = DataFrame(\n",
    "    baseline = solution.prices.value, \n",
    "    increased_price_scen = solution_1a.prices.value)"
   ]
  },
  {
   "cell_type": "markdown",
   "metadata": {},
   "source": [
    "Regarding the above results, answer the following:\n",
    "\n",
    "- How has generation changed compared to the default system?\n",
    "- What explains the new prices?\n"
   ]
  },
  {
   "cell_type": "markdown",
   "metadata": {},
   "source": [
    "##### Generation\n",
    "- Generation has not changed at all relative to the default system.\n",
    "    - This is because we still have the total amount of demand on the system, and have not\n",
    "    introduced any losses or anything that affects the supply / demand constraint.\n",
    "    - Therefore, the change in prices just increases the costs of supplying the system, \n",
    "    without affecting the total amount of energy supplied. \n",
    "    \n",
    "##### Prices\n",
    "- We find that prices are uniformly increased in this new scenario from 20 dollars per MWh to 30 dollars per MWh. \n",
    "- This reflects that fact that the generator for which we increased the price\n",
    "was the marginal generator. \n",
    "- Therefore, increases in its price are reflected in system prices. "
   ]
  },
  {
   "cell_type": "markdown",
   "metadata": {},
   "source": [
    "**B. Constrained line**\n",
    "\n",
    "Make the following changes to the system:\n",
    "\n",
    "- Increase the variable cost of Generator 1 to \\$30 / MWh\n",
    "- Reduce flow limit on the line connecting 2 and 3 ($l_{23}$) to 70 MW\n",
    "\n",
    "Run the DCOPF and output generation, flows, and prices."
   ]
  },
  {
   "cell_type": "code",
   "execution_count": null,
   "metadata": {},
   "outputs": [],
   "source": [
    "# We can use the same generation info as in 1A\n",
    "\n",
    "# Reduce the flow limit on line connecting 2 and 3...\n",
    "lines_1b = copy(lines)\n",
    "lines_1b.capacity[(lines_1b.fromnode .== 2).&(lines_1b.tonode .== 3)] .= 70\n",
    "lines_1b.capacity[(lines_1b.fromnode .== 3).&(lines_1b.tonode .== 2)] .= 70;"
   ]
  },
  {
   "cell_type": "code",
   "execution_count": null,
   "metadata": {},
   "outputs": [],
   "source": [
    "# Solve - and print solution\n",
    "solution_1b = dcopf_ieee(gens_1a, lines_1b, loads);\n",
    "print_cost_and_status(solution_1b)"
   ]
  },
  {
   "cell_type": "code",
   "execution_count": null,
   "metadata": {},
   "outputs": [],
   "source": [
    "# output generation, flows, and prices\n",
    "gen_comparison_df.inc_price_and_flow_const = solution_1b.generation.gen\n",
    "gen_comparison_df"
   ]
  },
  {
   "cell_type": "code",
   "execution_count": null,
   "metadata": {},
   "outputs": [],
   "source": [
    "flow_comparison_df.inc_price_and_flow_const = solution_1b.flows.flow\n",
    "head(flow_comparison_df)"
   ]
  },
  {
   "cell_type": "code",
   "execution_count": null,
   "metadata": {},
   "outputs": [],
   "source": [
    "price_comparison_df.inc_price_and_flow_const = solution_1b.prices.value\n",
    "head(price_comparison_df)"
   ]
  },
  {
   "cell_type": "markdown",
   "metadata": {},
   "source": [
    "Regarding the above results, answer the following:\n",
    "\n",
    "- Which node has the highest price and why?\n",
    "- What is the difference in prices across $l_{23}$, also known as the congestion rent? How do you interpret this value (what is it's practical meaning?)"
   ]
  },
  {
   "cell_type": "code",
   "execution_count": null,
   "metadata": {},
   "outputs": [],
   "source": [
    "solution_1b.prices.max = \"\"\n",
    "solution_1b.prices.max[\n",
    "    solution_1b.prices.value .== maximum(solution_1b.prices.value)] .= \"Node 3\"\n",
    "solution_1b.prices |>\n",
    "    @vlplot(:bar, x = :node, y = :value, color = :max, title = \"Price at each node\")"
   ]
  },
  {
   "cell_type": "markdown",
   "metadata": {},
   "source": [
    "##### Which node has the highest price and why?\n",
    "- As we can see from the above plot, Node 3 has the highest price, by a long way. \n",
    "- This reflects the there is a lot of congestion at this node, and therefore\n",
    "the marginal cost of increasing supply at this node is very high. \n",
    "- Given the physics of the system, increasing the load at node 3 would require significant\n",
    "extra generation (ie more than just the additional load). "
   ]
  },
  {
   "cell_type": "code",
   "execution_count": null,
   "metadata": {},
   "outputs": [],
   "source": [
    "cong_rest = solution_1b.prices.value[solution_1b.prices.node .== 3][1]  - \n",
    "    solution_1b.prices.value[solution_1b.prices.node .== 2][1]"
   ]
  },
  {
   "cell_type": "markdown",
   "metadata": {},
   "source": [
    "##### What is the difference in prices across $l_{23}$, also known as the congestion rent? How do you interpret this value (what is it's practical meaning?)\n",
    "- The difference in prices across node 2 and 3 is more than 200 dollars per MWh. \n",
    "- I interpret this as being the additional cost required to supply an extra unit of \n",
    "energy at node 3 compared to at node 2. This is due to the congestion at node 3.\n",
    "- It would reduce costs a lot to move future extra demand to node 2 rather than node 3, to reduce the congestion rent to the system."
   ]
  },
  {
   "cell_type": "markdown",
   "metadata": {},
   "source": [
    "**C. Demand increase**\n",
    "\n",
    "Make the following changes to the system:\n",
    "\n",
    "- Increase the variable cost of Generator 1 to \\$30 / MWh\n",
    "- Reduce flow limit on the line connecting 2 and 3 ($l_{23}$) to 70 MW\n",
    "- Increase demands everywhere by 5\\%."
   ]
  },
  {
   "cell_type": "code",
   "execution_count": null,
   "metadata": {},
   "outputs": [],
   "source": [
    "# Increase demands everywhere by 5%\n",
    "\n",
    "loads_1c = copy(loads) |>\n",
    "    @mutate(demand = _.demand * 1.05) |>\n",
    "    DataFrame"
   ]
  },
  {
   "cell_type": "markdown",
   "metadata": {},
   "source": [
    "Calculate the total available generating capacity:"
   ]
  },
  {
   "cell_type": "code",
   "execution_count": null,
   "metadata": {},
   "outputs": [],
   "source": [
    "total_capacity = sum(gens_1a.pgmax)"
   ]
  },
  {
   "cell_type": "markdown",
   "metadata": {},
   "source": [
    "Calculate the new total demand:"
   ]
  },
  {
   "cell_type": "code",
   "execution_count": null,
   "metadata": {},
   "outputs": [],
   "source": [
    "total_demand = -sum(loads_1c.demand)"
   ]
  },
  {
   "cell_type": "markdown",
   "metadata": {},
   "source": [
    "Run the DCOPF and show prices."
   ]
  },
  {
   "cell_type": "code",
   "execution_count": null,
   "metadata": {},
   "outputs": [],
   "source": [
    "solution_1c = dcopf_ieee(gens_1a, lines_1b, loads_1c);\n",
    "print_cost_and_status(solution_1c)"
   ]
  },
  {
   "cell_type": "code",
   "execution_count": null,
   "metadata": {},
   "outputs": [],
   "source": [
    "solution_1c.prices"
   ]
  },
  {
   "cell_type": "markdown",
   "metadata": {},
   "source": [
    "**What is happening in this system?** "
   ]
  },
  {
   "cell_type": "markdown",
   "metadata": {},
   "source": [
    "- We cannot meet demand, given the constraints on our system \n",
    "- Despite us having enough available generation, we can't get it to the demand in a feasible way, given the physics of the system. \n",
    "- Therefore, prices are NaN (we can think of this as being infinite). "
   ]
  },
  {
   "cell_type": "markdown",
   "metadata": {},
   "source": [
    "## Question 2: Linear losses\n",
    "\n",
    "Up until now, we have ignored transmission losses. A quadratic approximation of losses is given by:\n",
    "$$\n",
    "\\begin{align}\n",
    "LOSS_{ij} &\\approx \\frac{G_{ij}}{BaseMVA} (\\theta_i-\\theta_j)^2 \\\\\n",
    " & \\approx \\frac{1}{BaseMVA} \\frac{R_{ij}}{R_{ij}^2+X_{ij}^2}(\\theta_i-\\theta_j)^2\n",
    "\\end{align}\n",
    "$$\n",
    "\n",
    "where $G$ is the line's conductance, $R$ is the line's resistance and $X$ is the line's reactance. See the `lines` data frame for these parameters.\n",
    "\n",
    "For our purposes, we will approximate this quadratic via:\n",
    "\n",
    "\n",
    "$$\n",
    "LOSS_{ij} \\geq \\frac{R_{ij}}{BaseMVA} \\times (MaxFlow_{ij})^2 \n",
    "\\left(\\frac{|FLOW_{ij}|}{MaxFlow_{ij}} - 0.165 \\right)\n",
    "$$\n",
    "\n",
    "where $MaxFlow_{ij}=200 MW$ in this problem. Note the greater than equal sign, as we do not want to have negative losses.\n",
    "\n",
    "This approximation is based on Fitiwi et al. (2016), \"Finding a representative network losses model for large-scale transmission expansion planning with renewable energy sources,\" *Energy* 101: 343-358, https://doi.org/10.1016/j.energy.2016.02.015. \n",
    "\n",
    "Note that this is a linear approximation of transmission losses, which are actually a quadratic function of power flows. Fitiwi et al. 2016 and other papers describe piece-wise or segment-wise linear approximations of the quadratic function which provide a tighter lower bound approximation of losses, but we'll use a single linear term for this assignment. \n",
    "\n",
    "See Jenkins & Sepulveda et al. 2017, \"Enhanced decision support for a changing electricity landscape: the GenX configurable electricity resource capacity expansion model\", MIT Energy Initiative Working Paper 2017-10 http://bit.ly/GenXModel Section 5.8, for an example of a linear segment-wise approximation of quadratic transmission losses. \n",
    "\n",
    "\n",
    "**A. Code linear losses**\n",
    "\n",
    "Reload the original data from Notebook 6 and copy the IEEE 14 bus system and DCOPF solver function from Notebook 6 into a new function `dcopf_ieee_lossy`.\n",
    "\n",
    "Make the following changes:\n",
    "- Increase the variable cost of Generator 1 to \\$30 / MWh\n",
    "- Change all transmission line capacities to 200 MW\n",
    "\n",
    "Implement losses into the supply/demand balance equations. A standard way to implement absolute values in linear programming is by introducing two non-negative auxiliary variables $x^+$, $x^-$ $\\geq 0$:\n",
    "\n",
    "$$\n",
    "x = x^+ - x^-\n",
    "$$\n",
    "\n",
    "and the absolute value can be represented as:\n",
    "\n",
    "$$\n",
    "|x| = x^+ + x^-\n",
    "$$\n",
    "\n",
    "(You should satisfy yourself that this equality holds.)\n",
    "\n",
    "It makes the formulation easier if losses are added to the supply/demand balance constraint in each node by splitting losses in half between the receiving and sending end.\n",
    "\n",
    "Indicate which equations and variables you have added and explain your steps using inline code comments (e.g. `# Comment`).\n",
    "\n",
    "Run the lossy DCOPF and output generation, flows, losses, and prices."
   ]
  },
  {
   "cell_type": "code",
   "execution_count": null,
   "metadata": {},
   "outputs": [],
   "source": [
    "#=\n",
    "Function to solve DC OPF problem using IEEE test cases. Includes quadratic \n",
    "loss approximation \n",
    "Inputs:\n",
    "    gen_info -- dataframe with generator info\n",
    "    line_info -- dataframe with transmission lines info\n",
    "    loads  -- dataframe with load info\n",
    "=#\n",
    "function dcopf_ieee_lossy(gens, lines, loads)\n",
    "\n",
    "    DCOPF = Model(GLPK.Optimizer) \n",
    "    G = gens.connnode\n",
    "    N = sort(union(unique(lines.fromnode), \n",
    "            unique(lines.tonode)))\n",
    "    baseMVA = 100\n",
    "    \n",
    "    # Decision variables  - I have added an auxialiary Flow Absolute value var\n",
    "    @variables(DCOPF, begin\n",
    "        GEN[N]  >= 0               # generation        \n",
    "        # Note: we assume Pmin = 0 for all resources for simplicty here\n",
    "        THETA[N]                   # voltage phase angle of bus\n",
    "        FLOW[N,N]                  # flows between all pairs of nodes\n",
    "        FLOW_abs[N,N] >= 0         # Include auxilliary variable\n",
    "    end)\n",
    "\n",
    "    # Constraint for Flow variables - constrain the absolute value version\n",
    "    # borrowing idea from here: \n",
    "    # https://github.com/jump-dev/JuMP.jl/issues/48#issuecomment-25575389\n",
    "    cAbs_Flows_neg = JuMP.Containers.DenseAxisArray{Any}(undef, 1:nrow(lines)) \n",
    "    cAbs_Flows_pos = JuMP.Containers.DenseAxisArray{Any}(undef, 1:nrow(lines)) \n",
    "    for l in 1:nrow(lines)\n",
    "        cAbs_Flows_neg[l] = @constraint(\n",
    "            DCOPF, \n",
    "            FLOW_abs[lines[l,:fromnode],lines[l,:tonode]] >= \n",
    "            - FLOW[lines[l,:fromnode],lines[l,:tonode]]  \n",
    "            )        \n",
    "        cAbs_Flows_pos[l] = @constraint(\n",
    "            DCOPF, \n",
    "            FLOW_abs[lines[l,:fromnode],lines[l,:tonode]] >= \n",
    "            FLOW[lines[l,:fromnode],lines[l,:tonode]]  \n",
    "            )        \n",
    "    end\n",
    "\n",
    "    # Create slack bus with reference angle = 0; use bus 1 with generator\n",
    "    fix(THETA[1],0)\n",
    "                \n",
    "    # Objective function\n",
    "    @objective(DCOPF, Min, \n",
    "        sum( gens[g,:c1] * GEN[g] for g in G)\n",
    "    )\n",
    "    \n",
    "    # Set the max flow - erroring if we aren't in the simple sitution defined \n",
    "    # in this particular problem\n",
    "    if length(unique(lines.capacity)) .== 1\n",
    "        MaxFlow = maximum(lines.capacity)\n",
    "    else\n",
    "        throw(DomainError(\"Only coded it up for homogenous max flow\"))\n",
    "    end\n",
    "\n",
    "    # expression for losses - coded from question math defintiion\n",
    "    eLoss = JuMP.Containers.DenseAxisArray{Any}(undef, 1:nrow(lines)) \n",
    "    for l in 1:nrow(lines)\n",
    "        eLoss[l] = @expression(DCOPF, \n",
    "            lines.resistance[l] ./\n",
    "                baseMVA .* MaxFlow ^ 2 .*\n",
    "                ((FLOW_abs[lines.fromnode[l],lines.tonode[l]] \n",
    "                    ./ MaxFlow) .- 0.165)\n",
    "        )\n",
    "    end\n",
    "    \n",
    "    # Supply demand balances - add in losses expression\n",
    "    # split losses as being half for each direction, for coding convenience\n",
    "    @constraint(DCOPF, \n",
    "        cBalance[i in N], \n",
    "        sum(GEN[g] for g in gens[gens.connnode .== i,:connnode]) \n",
    "            + sum(load for load in loads[loads.connnode .== i,:demand]) \n",
    "        == sum(FLOW[i,j] + 0.5 * eLoss[i]\n",
    "            for j in lines[lines.fromnode .== i,:tonode]) \n",
    "    )\n",
    "\n",
    "    # Max generation constraint\n",
    "    @constraint(DCOPF, cMaxGen[g in G],\n",
    "                    GEN[g] <= gens[g,:pgmax])\n",
    "\n",
    "    # Flow constraints on each branch; \n",
    "    # In DCOPF, line flow is a function of voltage angles\n",
    "       # Create an array of references to the line constraints, \n",
    "       # which we \"fill\" below in loop\n",
    "    cLineFlows = JuMP.Containers.DenseAxisArray{Any}(undef, 1:nrow(lines)) \n",
    "    for l in 1:nrow(lines)\n",
    "        cLineFlows[l] = @constraint(DCOPF, \n",
    "            FLOW[lines[l,:fromnode],lines[l,:tonode]] == \n",
    "            baseMVA * lines[l,:b] * \n",
    "            (THETA[lines[l,:fromnode]] - THETA[lines[l,:tonode]])\n",
    "        )\n",
    "    end\n",
    "    \n",
    "    # Max line flow limits\n",
    "       # Create an array of references to the line constraints, \n",
    "       # which we \"fill\" below in loop\n",
    "    cLineLimits = JuMP.Containers.DenseAxisArray{Any}(undef, 1:nrow(lines)) \n",
    "    for l in 1:nrow(lines)\n",
    "        cLineLimits[l] = @constraint(DCOPF,\n",
    "            FLOW[lines[l,:fromnode],lines[l,:tonode]] <=\n",
    "            lines[l,:capacity]\n",
    "        ) \n",
    "    end\n",
    "\n",
    "    # Solve statement (! indicates runs in place)\n",
    "    optimize!(DCOPF)\n",
    "\n",
    "    # Output variables\n",
    "    generation = DataFrame(\n",
    "        node = gens.connnode,\n",
    "        gen = value.(GEN).data[gens.connnode]\n",
    "        )\n",
    "    \n",
    "    angles = value.(THETA).data\n",
    "    \n",
    "    flows = DataFrame(\n",
    "        fbus = lines.fromnode,\n",
    "        tbus = lines.tonode,\n",
    "        flow = baseMVA * lines.b .* (angles[lines.fromnode] .- \n",
    "                        angles[lines.tonode]))\n",
    "    \n",
    "    # We output the marginal values of the demand constraints, \n",
    "    # which will in fact be the prices to deliver power at a given bus.\n",
    "    prices = DataFrame(\n",
    "        node = N,\n",
    "        value = dual.(cBalance).data)\n",
    "\n",
    "    # Return the solution and objective as named tuple\n",
    "    return (\n",
    "        generation = generation, \n",
    "        angles,\n",
    "        flows,\n",
    "        prices,\n",
    "        cost = objective_value(DCOPF),\n",
    "        status = termination_status(DCOPF),\n",
    "        flows_raw = DataFrame(value.(FLOW).data),\n",
    "        flows_raw_abs = DataFrame(value.(FLOW_abs).data),\n",
    "        losses = DataFrame(Loss = value.(eLoss).data)\n",
    "    )\n",
    "end\n"
   ]
  },
  {
   "cell_type": "code",
   "execution_count": null,
   "metadata": {},
   "outputs": [],
   "source": [
    "# Increase the variable cost of Generator 1 to $30 / MWh\n",
    "#  we use gens_1a dataframe, which already has that\n",
    "\n",
    "# Change all transmission line capacities to 200 MW\n",
    "lines_2 = copy(lines)\n",
    "lines_2.capacity .= 200\n",
    "head(lines_2)"
   ]
  },
  {
   "cell_type": "code",
   "execution_count": null,
   "metadata": {},
   "outputs": [],
   "source": [
    "# Approximate the quadratic\n",
    "# Current version runs, with no changes \n",
    "solution_2 = dcopf_ieee_lossy(gens_1a, lines_2, loads);\n",
    "print_cost_and_status(solution_2)"
   ]
  },
  {
   "cell_type": "code",
   "execution_count": null,
   "metadata": {},
   "outputs": [],
   "source": [
    "# output generation\n",
    "solution_2.generation"
   ]
  },
  {
   "cell_type": "code",
   "execution_count": null,
   "metadata": {},
   "outputs": [],
   "source": [
    "# output flows\n",
    "solution_2.flows "
   ]
  },
  {
   "cell_type": "code",
   "execution_count": null,
   "metadata": {},
   "outputs": [],
   "source": [
    "# output losses\n",
    "solution_2.losses"
   ]
  },
  {
   "cell_type": "code",
   "execution_count": null,
   "metadata": {},
   "outputs": [],
   "source": [
    "# output prices\n",
    "solution_2.prices"
   ]
  },
  {
   "cell_type": "markdown",
   "metadata": {},
   "source": [
    "**B. Interpret results**\n",
    "\n",
    "Run the same parameters in the lossless OPF from problem 1. How do prices and flows change? What is the largest magnitude difference in prices between the solution with losses and the lossless OPF solution?"
   ]
  },
  {
   "cell_type": "code",
   "execution_count": null,
   "metadata": {},
   "outputs": [],
   "source": [
    "# Compare to without the losses\n",
    "# Run the same parameters in the lossless OPF from problem 1. \n",
    "# How do prices and flows change? What is the largest magnitude \n",
    "# difference in prices between the solution with losses \n",
    "# and the lossless OPF solution?\n",
    "\n",
    "solution_2_no_losses = dcopf_ieee(gens_1a, lines_2, loads);\n",
    "print_cost_and_status(solution_2_no_losses)"
   ]
  },
  {
   "cell_type": "code",
   "execution_count": null,
   "metadata": {},
   "outputs": [],
   "source": [
    "# Plot a comparison of the prices \n",
    "comp_price_df = DataFrame(with_losses = solution_2.prices.value, \n",
    "    without_losses = solution_2_no_losses.prices.value)\n",
    "comp_price_df.price_diff = comp_price_df.with_losses .- comp_price_df.without_losses\n",
    "comp_price_df.node = 1:14\n",
    "comp_price_df |>\n",
    "    @vlplot(:bar, x = :node, y = :price_diff, title = \"price with losses minus price without\")"
   ]
  },
  {
   "cell_type": "code",
   "execution_count": null,
   "metadata": {},
   "outputs": [],
   "source": [
    "# Comparison of flows\n",
    "# Include both directional differences, although I probably should subset to just\n",
    "# one direction, since they are just mirror images\n",
    "comp_loss_df = DataFrame(with_losses = solution_2.flows.flow, \n",
    "    without_losses = solution_2_no_losses.flows.flow)\n",
    "comp_loss_df.flow_diff = comp_loss_df.with_losses .- comp_loss_df.without_losses\n",
    "comp_loss_df.id = 1:40\n",
    "comp_loss_df |>\n",
    "    @vlplot(:bar, x = :id, y = :flow_diff)\n"
   ]
  },
  {
   "cell_type": "markdown",
   "metadata": {},
   "source": [
    "#### How do prices and flows change? What is the largest magnitude difference in prices between the solution with losses and the lossless OPF solution?\n",
    "- Losses increase the system prices at all nodes, except node 1 where they are unnafacted\n",
    "    - They are not affected at node 1, because this getting extra generation here \n",
    "    doesn't require transporting energy across more lines, and therefore doesn't \n",
    "    incurr any losses. \n",
    "- Prices increase due to the additional generation required to meet the losses as well\n",
    "as the demand. We can think of this change as increasing the net demand of the system. \n",
    "- The largest magnitude in price difference is at node 12. \n",
    "    - This reflects the high losses experiened in getting load to node 12. \n",
    "    "
   ]
  },
  {
   "cell_type": "markdown",
   "metadata": {},
   "source": [
    "## Question 3 - Security contingencies\n",
    "\n",
    "Power system operators need to ensure that power is delivered reliably even in the event of unexpected outages (**contingencies**). One common contigency that must be planned for is the loss of a transmission line. The security-constrained OPF (SCOPF) run by operators solves for an optimal dispatch that is simultaneously robust (i.e., feasible) to each of the lines failing individually. This is what is known as **N-1 security**, because we assume that at most one component fails in any given scenario.\n",
    "\n",
    "In this problem, we will not code a full SCOPF, but rather investigate what happens to the feasibility of our problem when we remove transmission lines.\n",
    "\n",
    "**A. Setup data**\n",
    "\n",
    "The following code loads the original dataset (with one row per line) and includes a function `format_lines` that converts this to a format that our solver function can use (duplicating rows for both directions, adding susceptance, etc.)."
   ]
  },
  {
   "cell_type": "code",
   "execution_count": null,
   "metadata": {},
   "outputs": [],
   "source": [
    "lines = CSV.read(joinpath(datadir,\"Tran14.csv\"), DataFrame);\n",
    "rename!(lines,lowercase.(names(lines)))\n",
    "\n",
    "function format_lines(lines)\n",
    "    # create line ids \n",
    "    lines.id = 1:nrow(lines);\n",
    "    # add set of rows for reverse direction with same parameters\n",
    "    lines2 = copy(lines)\n",
    "    lines2.f = lines2.fromnode\n",
    "    lines2.fromnode = lines.tonode\n",
    "    lines2.tonode = lines2.f\n",
    "    lines2 = lines2[:,names(lines)]\n",
    "    append!(lines,lines2)\n",
    "\n",
    "    # calculate simple susceptance, ignoring resistance as earlier \n",
    "    lines.b = 1 ./ lines.reactance\n",
    "    return(lines)\n",
    "end"
   ]
  },
  {
   "cell_type": "markdown",
   "metadata": {},
   "source": [
    "Next:\n",
    "\n",
    "1. Set the capacity of all lines in the system at 100 MW, except for the line $l_{12}$, which you should set to 200 MW.\n",
    "\n",
    "2. Create a load dataframe `loads_sens` that increases demands everywhere by 10\\%"
   ]
  },
  {
   "cell_type": "code",
   "execution_count": null,
   "metadata": {},
   "outputs": [],
   "source": [
    "# 1. Set the capacity of all lines in the system at 100 MW, \n",
    "# except for the line $l_{12}$, which you should set to 200 MW.\n",
    "lines.capacity = 100\n",
    "lines.capacity[(lines.fromnode .== 1).&(lines.tonode .== 2)] .= 200;"
   ]
  },
  {
   "cell_type": "code",
   "execution_count": null,
   "metadata": {},
   "outputs": [],
   "source": [
    "# 2. Create a load dataframe loads_sens that increases demands everywhere by 10%\n",
    "loads_sens = copy(loads) |>\n",
    "    @mutate(demand = _.demand * 1.1) |>\n",
    "    DataFrame;"
   ]
  },
  {
   "cell_type": "markdown",
   "metadata": {},
   "source": [
    "**B. Loop over line contingencies**\n",
    "\n",
    "Create a dataframe `status` with the `fromnode` and `tonode` columns of `lines`.\n",
    "\n",
    "Create a [for loop](https://docs.julialang.org/en/v1/manual/control-flow/#man-loops) that iterates over each line and:\n",
    "- sets the reactance to be a very high value, 1e9 (i.e., no power will be transmitted)\n",
    "- creates a version of the dataframe that our solver function can use via `format_lines`\n",
    "- runs DCOPF\n",
    "- stores the solution status in a `opf` column in the corresponding row of the `status` dataframe\n",
    "\n",
    "Show the `status` results."
   ]
  },
  {
   "cell_type": "code",
   "execution_count": null,
   "metadata": {},
   "outputs": [],
   "source": [
    "# Create a dataframe status with the fromnode and tonode columns of lines.\n",
    "status = DataFrame(fromnode = lines.fromnode, tonode = lines.tonode)\n",
    "status.id = 1:nrow(status)\n",
    "status.opf = \"\";"
   ]
  },
  {
   "cell_type": "code",
   "execution_count": null,
   "metadata": {},
   "outputs": [],
   "source": [
    "# Create a for loop that iterates over each line and:\n",
    "# - sets the reactance to be a very high value, 1e9 (i.e., no power will be transmitted)\n",
    "# - creates a version of the dataframe that our \n",
    "    # solver function can use via `format_lines`\n",
    "# - runs DCOPF\n",
    "# - stores the solution status in a `opf` column in the corresponding \n",
    "    # row of the `status` dataframe\n",
    "\n",
    "for i in 1:nrow(status)\n",
    "    lines_vals = copy(lines)\n",
    "    lines_vals.reactance[i] = 10000000000\n",
    "    lines_vals = format_lines(lines_vals)\n",
    "    solution = dcopf_ieee(gens, lines_vals, loads_sens)\n",
    "    status.opf[i] = string(solution.status)\n",
    "end"
   ]
  },
  {
   "cell_type": "code",
   "execution_count": null,
   "metadata": {},
   "outputs": [],
   "source": [
    "# show the status results\n",
    "status"
   ]
  },
  {
   "cell_type": "markdown",
   "metadata": {},
   "source": [
    "**3. Interpret results**\n",
    "\n",
    "Are all of the cases feasible? If not, how many are infeasible? "
   ]
  },
  {
   "cell_type": "code",
   "execution_count": null,
   "metadata": {},
   "outputs": [],
   "source": [
    "# Are all of the cases feasible? If not, how many are infeasible? \n",
    "println(string(length(status.opf[status.opf .== \"OPTIMAL\"])) * \n",
    "    \" out of the 20 are feasible\")"
   ]
  },
  {
   "cell_type": "markdown",
   "metadata": {},
   "source": [
    "Pick two cases where the solution gives a different status. (For our purposes, dual infeasible and primal infeasible are the same.) What is happening here?\n",
    "\n",
    "Given this, do you conclude that the system with the assumed transmission line ratings is secure as-is, or do we need to add more redundancy to the system?"
   ]
  },
  {
   "cell_type": "markdown",
   "metadata": {},
   "source": [
    "##### Pick two cases where the solution gives a different status. (For our purposes, dual infeasible and primal infeasible are the same.) What is happening here?\n",
    "\n",
    "Consider cases in the first two rows of the status dataframe\n",
    "- In the first row, we have an infeasible solution. This is when we eliminate the \n",
    "line connecting nodes 1 and 2. \n",
    "    - Eliminating this line reduces the ability of generator 1 to supply the system. \n",
    "    - Hence, it becomes impossible to supply the system, given it's physical constraints\n",
    "- In the second row, we have a feasible solution, despite the fact that we have broken the line connecting nodes 5 and 2. \n",
    "    - Node 5 can supply its demand using other transimission lines, and hence the system is not infeasible. "
   ]
  },
  {
   "cell_type": "markdown",
   "metadata": {},
   "source": [
    "#### Given this, do you conclude that the system with the assumed transmission line ratings is secure as-is, or do we need to add more redundancy to the system?\n",
    "- I conclude that the system is not N-1 secure, since there are a number of lines for which\n",
    "if they break, the system becomes infeasible.\n",
    "- Therefore, we need to add extra redundancy to the system, if we want to meet this \n",
    "standard. \n"
   ]
  },
  {
   "cell_type": "code",
   "execution_count": null,
   "metadata": {},
   "outputs": [],
   "source": []
  }
 ],
 "metadata": {
  "@webio": {
   "lastCommId": null,
   "lastKernelId": null
  },
  "kernelspec": {
   "display_name": "Julia 1.5.2",
   "language": "julia",
   "name": "julia-1.5"
  },
  "language_info": {
   "file_extension": ".jl",
   "mimetype": "application/julia",
   "name": "julia",
   "version": "1.5.2"
  }
 },
 "nbformat": 4,
 "nbformat_minor": 4
}
