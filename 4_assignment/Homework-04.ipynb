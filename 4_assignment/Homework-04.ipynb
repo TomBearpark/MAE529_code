{
 "cells": [
  {
   "cell_type": "markdown",
   "metadata": {},
   "source": [
    "# Homework 4"
   ]
  },
  {
   "cell_type": "markdown",
   "metadata": {},
   "source": [
    "This Notebook builds on the DCOPF model introduced in [Notebook 6](https://github.com/east-winds/power-systems-optimization/tree/master/Notebooks) and incorporates some elements of Economic Dispatch introduced in [Notebook 4](https://github.com/east-winds/power-systems-optimization/tree/master/Notebooks).\n",
    "\n",
    "First, load (or install if necessary) a set of packages you'll need for this assignment..."
   ]
  },
  {
   "cell_type": "code",
   "execution_count": 1,
   "metadata": {},
   "outputs": [
    {
     "name": "stderr",
     "output_type": "stream",
     "text": [
      "┌ Warning: ORCA.jl has been deprecated and all savefig functionality\n",
      "│ has been implemented directly in PlotlyBase itself.\n",
      "│ \n",
      "│ By implementing in PlotlyBase.jl, the savefig routines are automatically\n",
      "│ available to PlotlyJS.jl also.\n",
      "└ @ ORCA /Users/tombearpark/.julia/packages/ORCA/U5XaN/src/ORCA.jl:8\n"
     ]
    }
   ],
   "source": [
    "using JuMP;             # optimisation\n",
    "using GLPK;             # solver package\n",
    "using DataFrames;       # data manipulation\n",
    "using CSV;              # load in csv data\n",
    "using Plots; plotly();  # base plots\n",
    "using VegaLite;         # nice plots\n",
    "using Query;            # dplyr like data analysis tools\n",
    "using Statistics        # correlation operator"
   ]
  },
  {
   "cell_type": "markdown",
   "metadata": {},
   "source": [
    "## Question 1: Modifying IEEE-14\n",
    "\n",
    "**A. Increased generation costs**\n",
    "\n",
    "Copy the IEEE 14 bus system and DCOPF solver function from Notebook 6. In addition, add the following line to the return call of the function:\n",
    "```julia\n",
    "status = termination_status(DCOPF)\n",
    "```\n",
    "This tells you the solver termination status for the problem: e.g. was an optimal solution found, was the solution infeasible, was it unbounded, etc.\n",
    "\n",
    "Make the following change to the system:\n",
    "\n",
    "- Increase the variable cost of Generator 1 to \\$30 / MWh\n",
    "\n",
    "Run the DCOPF and output generation, flows, and prices."
   ]
  },
  {
   "cell_type": "code",
   "execution_count": 2,
   "metadata": {},
   "outputs": [],
   "source": [
    "# Load and format the data\n",
    "\n",
    "# Note - tweaked this to use an absolute path, since i'm writing this code \n",
    "# outside of the repo. Left in option for someone else to run it though\n",
    "if ENV[\"USER\"] == \"tombearpark\"\n",
    "    pso_dir = \"/Users/tombearpark/Documents/princeton/1st_year/MAE529/\" *\n",
    "                    \"power-systems-optimization\"\n",
    "    datadir = joinpath(pso_dir,\"Notebooks\",\"ieee_test_cases\") \n",
    "else\n",
    "    datadir = joinpath(\"..\",\"Notebooks\",\"ieee_test_cases\") \n",
    "end\n",
    "\n",
    "\n",
    "gens = CSV.read(joinpath(datadir,\"Gen14.csv\"), DataFrame);\n",
    "lines = CSV.read(joinpath(datadir,\"Tran14.csv\"), DataFrame);\n",
    "loads = CSV.read(joinpath(datadir,\"Load14.csv\"), DataFrame);\n",
    "\n",
    "# Rename all columns to lowercase (by convention)\n",
    "for f in [gens, lines, loads]\n",
    "    rename!(f,lowercase.(names(f)))\n",
    "end\n",
    "\n",
    "# create generator ids \n",
    "gens.id = 1:nrow(gens);\n",
    "\n",
    "# create line ids \n",
    "lines.id = 1:nrow(lines);\n",
    "# add set of rows for reverse direction with same parameters\n",
    "lines2 = copy(lines)\n",
    "lines2.f = lines2.fromnode\n",
    "lines2.fromnode = lines.tonode\n",
    "lines2.tonode = lines2.f\n",
    "lines2 = lines2[:,names(lines)]\n",
    "append!(lines,lines2)\n",
    "\n",
    "# calculate simple susceptance, ignoring resistance as earlier \n",
    "lines.b = 1 ./ lines.reactance\n",
    "\n",
    "# keep only a single time period\n",
    "loads = loads[:,[\"connnode\",\"interval-1_load\"]]\n",
    "rename!(loads,\"interval-1_load\" => \"demand\");"
   ]
  },
  {
   "cell_type": "code",
   "execution_count": 3,
   "metadata": {},
   "outputs": [
    {
     "data": {
      "text/plain": [
       "dcopf_ieee (generic function with 1 method)"
      ]
     },
     "execution_count": 3,
     "metadata": {},
     "output_type": "execute_result"
    }
   ],
   "source": [
    "#=\n",
    "# Copy the IEEE 14 bus system and DCOPF solver function from Notebook 6.\n",
    "# In addition, add the following line to the return call of the function:\n",
    "# status = termination_status(DCOPF)\n",
    "\n",
    "Function to solve DC OPF problem using IEEE test cases\n",
    "Inputs:\n",
    "    gen_info -- dataframe with generator info\n",
    "    line_info -- dataframe with transmission lines info\n",
    "    loads  -- dataframe with load info\n",
    "=#\n",
    "function dcopf_ieee(gens, lines, loads)\n",
    "    DCOPF = Model(GLPK.Optimizer) # You could use Clp as well, with Clp.Optimizer\n",
    "    \n",
    "    # Define sets based on data\n",
    "      # Set of generator buses\n",
    "    G = gens.connnode\n",
    "    \n",
    "      # Set of all nodes\n",
    "    N = sort(union(unique(lines.fromnode), \n",
    "            unique(lines.tonode)))\n",
    "    \n",
    "      # sets J_i and G_i will be described using dataframe indexing below\n",
    "\n",
    "    # Define per unit base units for the system \n",
    "    # used to convert from per unit values to standard unit\n",
    "    # values (e.g. p.u. power flows to MW/MVA)\n",
    "    baseMVA = 100 # base MVA is 100 MVA for this system\n",
    "    \n",
    "    # Decision variables   \n",
    "    @variables(DCOPF, begin\n",
    "        GEN[N]  >= 0     # generation        \n",
    "        # Note: we assume Pmin = 0 for all resources for simplicty here\n",
    "        THETA[N]         # voltage phase angle of bus\n",
    "        FLOW[N,N]        # flows between all pairs of nodes\n",
    "    end)\n",
    "    \n",
    "    # Create slack bus with reference angle = 0; use bus 1 with generator\n",
    "    fix(THETA[1],0)\n",
    "                \n",
    "    # Objective function\n",
    "    @objective(DCOPF, Min, \n",
    "        sum( gens[g,:c1] * GEN[g] for g in G)\n",
    "    )\n",
    "    \n",
    "    # Supply demand balances\n",
    "    @constraint(DCOPF, cBalance[i in N], \n",
    "        sum(GEN[g] for g in gens[gens.connnode .== i,:connnode]) \n",
    "            + sum(load for load in loads[loads.connnode .== i,:demand]) \n",
    "        == sum(FLOW[i,j] for j in lines[lines.fromnode .== i,:tonode])\n",
    "    )\n",
    "\n",
    "    # Max generation constraint\n",
    "    @constraint(DCOPF, cMaxGen[g in G],\n",
    "                    GEN[g] <= gens[g,:pgmax])\n",
    "\n",
    "    # Flow constraints on each branch; \n",
    "    # In DCOPF, line flow is a function of voltage angles\n",
    "       # Create an array of references to the line constraints, \n",
    "       # which we \"fill\" below in loop\n",
    "    cLineFlows = JuMP.Containers.DenseAxisArray{Any}(undef, 1:nrow(lines)) \n",
    "    for l in 1:nrow(lines)\n",
    "        cLineFlows[l] = @constraint(DCOPF, \n",
    "            FLOW[lines[l,:fromnode],lines[l,:tonode]] == \n",
    "            baseMVA * lines[l,:b] * \n",
    "            (THETA[lines[l,:fromnode]] - THETA[lines[l,:tonode]])\n",
    "        )\n",
    "    end\n",
    "    \n",
    "    # Max line flow limits\n",
    "       # Create an array of references to the line constraints, \n",
    "       # which we \"fill\" below in loop\n",
    "    cLineLimits = JuMP.Containers.DenseAxisArray{Any}(undef, 1:nrow(lines)) \n",
    "    for l in 1:nrow(lines)\n",
    "        cLineLimits[l] = @constraint(DCOPF,\n",
    "            FLOW[lines[l,:fromnode],lines[l,:tonode]] <=\n",
    "            lines[l,:capacity]\n",
    "        ) \n",
    "    end\n",
    "\n",
    "    # Solve statement (! indicates runs in place)\n",
    "    optimize!(DCOPF)\n",
    "\n",
    "    # Output variables\n",
    "    generation = DataFrame(\n",
    "        node = gens.connnode,\n",
    "        gen = value.(GEN).data[gens.connnode]\n",
    "        )\n",
    "    \n",
    "    angles = value.(THETA).data\n",
    "    \n",
    "    flows = DataFrame(\n",
    "        fbus = lines.fromnode,\n",
    "        tbus = lines.tonode,\n",
    "        flow = baseMVA * lines.b .* (angles[lines.fromnode] .- \n",
    "                        angles[lines.tonode]))\n",
    "    \n",
    "    # We output the marginal values of the demand constraints, \n",
    "    # which will in fact be the prices to deliver power at a given bus.\n",
    "    prices = DataFrame(\n",
    "        node = N,\n",
    "        value = dual.(cBalance).data)\n",
    "    \n",
    "    # Return the solution and objective as named tuple\n",
    "    return (\n",
    "        generation = generation, \n",
    "        angles,\n",
    "        flows,\n",
    "        prices,\n",
    "        cost = objective_value(DCOPF),\n",
    "        status = termination_status(DCOPF)\n",
    "    )\n",
    "end"
   ]
  },
  {
   "cell_type": "code",
   "execution_count": 4,
   "metadata": {},
   "outputs": [
    {
     "data": {
      "text/plain": [
       "print_cost_and_status (generic function with 1 method)"
      ]
     },
     "execution_count": 4,
     "metadata": {},
     "output_type": "execute_result"
    }
   ],
   "source": [
    "# helper function for printing cost info\n",
    "# input: solution: an optimised JuMP object\n",
    "\n",
    "function print_cost_and_status(solution)\n",
    "    println(\"Termination status was \" * string(solution.status))\n",
    "    println(\"Optimised cost was \" * string(round(solution.cost)))\n",
    "end"
   ]
  },
  {
   "cell_type": "code",
   "execution_count": 5,
   "metadata": {},
   "outputs": [
    {
     "name": "stdout",
     "output_type": "stream",
     "text": [
      "Termination status was OPTIMAL\n",
      "Optimised cost was 5180.0\n"
     ]
    }
   ],
   "source": [
    "# First - run the model with baseline numbers to get a comparison\n",
    "\n",
    "solution = dcopf_ieee(gens, lines, loads);\n",
    "print_cost_and_status(solution)"
   ]
  },
  {
   "cell_type": "code",
   "execution_count": 6,
   "metadata": {},
   "outputs": [
    {
     "name": "stdout",
     "output_type": "stream",
     "text": [
      "Termination status was OPTIMAL\n",
      "Optimised cost was 6370.0\n"
     ]
    }
   ],
   "source": [
    "# Now - Problem 1a)\n",
    "\n",
    "# Make the following change to the system:\n",
    "# Increase the variable cost of Generator 1 to $30 / MWh\n",
    "# Run the DCOPF and output generation, flows, and prices.\n",
    "\n",
    "# Increase the variable cost of generator 1\n",
    "gens_1a = copy(gens) \n",
    "gens_1a.c1[gens_1a.id .==1] .= 30\n",
    "\n",
    "solution_1a = dcopf_ieee(gens_1a, lines, loads);\n",
    "print_cost_and_status(solution_1a)"
   ]
  },
  {
   "cell_type": "code",
   "execution_count": 7,
   "metadata": {},
   "outputs": [
    {
     "data": {
      "text/html": [
       "<table class=\"data-frame\"><thead><tr><th></th><th>baseline</th><th>increased_price_scen</th></tr><tr><th></th><th>Float64</th><th>Float64</th></tr></thead><tbody><p>2 rows × 2 columns</p><tr><th>1</th><td>119.0</td><td>119.0</td></tr><tr><th>2</th><td>140.0</td><td>140.0</td></tr></tbody></table>"
      ],
      "text/latex": [
       "\\begin{tabular}{r|cc}\n",
       "\t& baseline & increased\\_price\\_scen\\\\\n",
       "\t\\hline\n",
       "\t& Float64 & Float64\\\\\n",
       "\t\\hline\n",
       "\t1 & 119.0 & 119.0 \\\\\n",
       "\t2 & 140.0 & 140.0 \\\\\n",
       "\\end{tabular}\n"
      ],
      "text/plain": [
       "2×2 DataFrame\n",
       "│ Row │ baseline │ increased_price_scen │\n",
       "│     │ \u001b[90mFloat64\u001b[39m  │ \u001b[90mFloat64\u001b[39m              │\n",
       "├─────┼──────────┼──────────────────────┤\n",
       "│ 1   │ 119.0    │ 119.0                │\n",
       "│ 2   │ 140.0    │ 140.0                │"
      ]
     },
     "execution_count": 7,
     "metadata": {},
     "output_type": "execute_result"
    }
   ],
   "source": [
    "# Compare generation across models \n",
    "\n",
    "gen_comparison_df = DataFrame(\n",
    "    baseline = solution.generation.gen, \n",
    "    increased_price_scen = solution_1a.generation.gen)"
   ]
  },
  {
   "cell_type": "code",
   "execution_count": 8,
   "metadata": {},
   "outputs": [
    {
     "data": {
      "text/html": [
       "<table class=\"data-frame\"><thead><tr><th></th><th>baseline</th><th>increased_price_scen</th></tr><tr><th></th><th>Float64</th><th>Float64</th></tr></thead><tbody><p>6 rows × 2 columns</p><tr><th>1</th><td>64.0779</td><td>64.0779</td></tr><tr><th>2</th><td>54.9221</td><td>54.9221</td></tr><tr><th>3</th><td>72.7846</td><td>72.7846</td></tr><tr><th>4</th><td>60.9488</td><td>60.9488</td></tr><tr><th>5</th><td>48.6446</td><td>48.6446</td></tr><tr><th>6</th><td>-21.4154</td><td>-21.4154</td></tr></tbody></table>"
      ],
      "text/latex": [
       "\\begin{tabular}{r|cc}\n",
       "\t& baseline & increased\\_price\\_scen\\\\\n",
       "\t\\hline\n",
       "\t& Float64 & Float64\\\\\n",
       "\t\\hline\n",
       "\t1 & 64.0779 & 64.0779 \\\\\n",
       "\t2 & 54.9221 & 54.9221 \\\\\n",
       "\t3 & 72.7846 & 72.7846 \\\\\n",
       "\t4 & 60.9488 & 60.9488 \\\\\n",
       "\t5 & 48.6446 & 48.6446 \\\\\n",
       "\t6 & -21.4154 & -21.4154 \\\\\n",
       "\\end{tabular}\n"
      ],
      "text/plain": [
       "6×2 DataFrame\n",
       "│ Row │ baseline │ increased_price_scen │\n",
       "│     │ \u001b[90mFloat64\u001b[39m  │ \u001b[90mFloat64\u001b[39m              │\n",
       "├─────┼──────────┼──────────────────────┤\n",
       "│ 1   │ 64.0779  │ 64.0779              │\n",
       "│ 2   │ 54.9221  │ 54.9221              │\n",
       "│ 3   │ 72.7846  │ 72.7846              │\n",
       "│ 4   │ 60.9488  │ 60.9488              │\n",
       "│ 5   │ 48.6446  │ 48.6446              │\n",
       "│ 6   │ -21.4154 │ -21.4154             │"
      ]
     },
     "execution_count": 8,
     "metadata": {},
     "output_type": "execute_result"
    }
   ],
   "source": [
    "# Compare flows across models\n",
    "flow_comparison_df = DataFrame(\n",
    "    baseline = solution.flows.flow, \n",
    "    increased_price_scen = solution_1a.flows.flow);\n",
    "head(flow_comparison_df)"
   ]
  },
  {
   "cell_type": "code",
   "execution_count": 9,
   "metadata": {},
   "outputs": [
    {
     "data": {
      "text/html": [
       "<table class=\"data-frame\"><thead><tr><th></th><th>baseline</th><th>increased_price_scen</th></tr><tr><th></th><th>Float64</th><th>Float64</th></tr></thead><tbody><p>14 rows × 2 columns</p><tr><th>1</th><td>20.0</td><td>30.0</td></tr><tr><th>2</th><td>20.0</td><td>30.0</td></tr><tr><th>3</th><td>20.0</td><td>30.0</td></tr><tr><th>4</th><td>20.0</td><td>30.0</td></tr><tr><th>5</th><td>20.0</td><td>30.0</td></tr><tr><th>6</th><td>20.0</td><td>30.0</td></tr><tr><th>7</th><td>20.0</td><td>30.0</td></tr><tr><th>8</th><td>20.0</td><td>30.0</td></tr><tr><th>9</th><td>20.0</td><td>30.0</td></tr><tr><th>10</th><td>20.0</td><td>30.0</td></tr><tr><th>11</th><td>20.0</td><td>30.0</td></tr><tr><th>12</th><td>20.0</td><td>30.0</td></tr><tr><th>13</th><td>20.0</td><td>30.0</td></tr><tr><th>14</th><td>20.0</td><td>30.0</td></tr></tbody></table>"
      ],
      "text/latex": [
       "\\begin{tabular}{r|cc}\n",
       "\t& baseline & increased\\_price\\_scen\\\\\n",
       "\t\\hline\n",
       "\t& Float64 & Float64\\\\\n",
       "\t\\hline\n",
       "\t1 & 20.0 & 30.0 \\\\\n",
       "\t2 & 20.0 & 30.0 \\\\\n",
       "\t3 & 20.0 & 30.0 \\\\\n",
       "\t4 & 20.0 & 30.0 \\\\\n",
       "\t5 & 20.0 & 30.0 \\\\\n",
       "\t6 & 20.0 & 30.0 \\\\\n",
       "\t7 & 20.0 & 30.0 \\\\\n",
       "\t8 & 20.0 & 30.0 \\\\\n",
       "\t9 & 20.0 & 30.0 \\\\\n",
       "\t10 & 20.0 & 30.0 \\\\\n",
       "\t11 & 20.0 & 30.0 \\\\\n",
       "\t12 & 20.0 & 30.0 \\\\\n",
       "\t13 & 20.0 & 30.0 \\\\\n",
       "\t14 & 20.0 & 30.0 \\\\\n",
       "\\end{tabular}\n"
      ],
      "text/plain": [
       "14×2 DataFrame\n",
       "│ Row │ baseline │ increased_price_scen │\n",
       "│     │ \u001b[90mFloat64\u001b[39m  │ \u001b[90mFloat64\u001b[39m              │\n",
       "├─────┼──────────┼──────────────────────┤\n",
       "│ 1   │ 20.0     │ 30.0                 │\n",
       "│ 2   │ 20.0     │ 30.0                 │\n",
       "│ 3   │ 20.0     │ 30.0                 │\n",
       "│ 4   │ 20.0     │ 30.0                 │\n",
       "│ 5   │ 20.0     │ 30.0                 │\n",
       "│ 6   │ 20.0     │ 30.0                 │\n",
       "│ 7   │ 20.0     │ 30.0                 │\n",
       "│ 8   │ 20.0     │ 30.0                 │\n",
       "│ 9   │ 20.0     │ 30.0                 │\n",
       "│ 10  │ 20.0     │ 30.0                 │\n",
       "│ 11  │ 20.0     │ 30.0                 │\n",
       "│ 12  │ 20.0     │ 30.0                 │\n",
       "│ 13  │ 20.0     │ 30.0                 │\n",
       "│ 14  │ 20.0     │ 30.0                 │"
      ]
     },
     "execution_count": 9,
     "metadata": {},
     "output_type": "execute_result"
    }
   ],
   "source": [
    "# Compare prices across models\n",
    "price_comparison_df = DataFrame(\n",
    "    baseline = solution.prices.value, \n",
    "    increased_price_scen = solution_1a.prices.value)"
   ]
  },
  {
   "cell_type": "markdown",
   "metadata": {},
   "source": [
    "Regarding the above results, answer the following:\n",
    "\n",
    "- How has generation changed compared to the default system?\n",
    "- What explains the new prices?\n"
   ]
  },
  {
   "cell_type": "markdown",
   "metadata": {},
   "source": [
    "##### Generation\n",
    "- Generation has not changed at all relative to the default system.\n",
    "    - This is because we still have the total amount of demand on the system, and have not\n",
    "    introduced any losses or anything that affects the supply / demand constraint.\n",
    "    - Therefore, the change in prices just increases the costs of supplying the system, \n",
    "    without affecting the total amount of energy supplied. \n",
    "    \n",
    "##### Prices\n",
    "- We find that prices are uniformly increased in this new scenario from 20 dollars per MWh to 30 dollars per MWh. \n",
    "- This reflects that fact that the generator for which we increased the price\n",
    "was the marginal generator. \n",
    "- Therefore, increases in its price are reflected in system prices. "
   ]
  },
  {
   "cell_type": "markdown",
   "metadata": {},
   "source": [
    "**B. Constrained line**\n",
    "\n",
    "Make the following changes to the system:\n",
    "\n",
    "- Increase the variable cost of Generator 1 to \\$30 / MWh\n",
    "- Reduce flow limit on the line connecting 2 and 3 ($l_{23}$) to 70 MW\n",
    "\n",
    "Run the DCOPF and output generation, flows, and prices."
   ]
  },
  {
   "cell_type": "code",
   "execution_count": 10,
   "metadata": {},
   "outputs": [],
   "source": [
    "# We can use the same generation info as in 1A\n",
    "\n",
    "# Reduce the flow limit on line connecting 2 and 3...\n",
    "lines_1b = copy(lines)\n",
    "lines_1b.capacity[(lines_1b.fromnode .== 2).&(lines_1b.tonode .== 3)] .= 70\n",
    "lines_1b.capacity[(lines_1b.fromnode .== 3).&(lines_1b.tonode .== 2)] .= 70;"
   ]
  },
  {
   "cell_type": "code",
   "execution_count": 11,
   "metadata": {},
   "outputs": [
    {
     "name": "stdout",
     "output_type": "stream",
     "text": [
      "Termination status was OPTIMAL\n",
      "Optimised cost was 7388.0\n"
     ]
    }
   ],
   "source": [
    "# Solve - and print solution\n",
    "solution_1b = dcopf_ieee(gens_1a, lines_1b, loads);\n",
    "print_cost_and_status(solution_1b)"
   ]
  },
  {
   "cell_type": "code",
   "execution_count": 12,
   "metadata": {},
   "outputs": [
    {
     "data": {
      "text/html": [
       "<table class=\"data-frame\"><thead><tr><th></th><th>baseline</th><th>increased_price_scen</th><th>inc_price_and_flow_const</th></tr><tr><th></th><th>Float64</th><th>Float64</th><th>Float64</th></tr></thead><tbody><p>2 rows × 3 columns</p><tr><th>1</th><td>119.0</td><td>119.0</td><td>220.837</td></tr><tr><th>2</th><td>140.0</td><td>140.0</td><td>38.1627</td></tr></tbody></table>"
      ],
      "text/latex": [
       "\\begin{tabular}{r|ccc}\n",
       "\t& baseline & increased\\_price\\_scen & inc\\_price\\_and\\_flow\\_const\\\\\n",
       "\t\\hline\n",
       "\t& Float64 & Float64 & Float64\\\\\n",
       "\t\\hline\n",
       "\t1 & 119.0 & 119.0 & 220.837 \\\\\n",
       "\t2 & 140.0 & 140.0 & 38.1627 \\\\\n",
       "\\end{tabular}\n"
      ],
      "text/plain": [
       "2×3 DataFrame\n",
       "│ Row │ baseline │ increased_price_scen │ inc_price_and_flow_const │\n",
       "│     │ \u001b[90mFloat64\u001b[39m  │ \u001b[90mFloat64\u001b[39m              │ \u001b[90mFloat64\u001b[39m                  │\n",
       "├─────┼──────────┼──────────────────────┼──────────────────────────┤\n",
       "│ 1   │ 119.0    │ 119.0                │ 220.837                  │\n",
       "│ 2   │ 140.0    │ 140.0                │ 38.1627                  │"
      ]
     },
     "execution_count": 12,
     "metadata": {},
     "output_type": "execute_result"
    }
   ],
   "source": [
    "# output generation, flows, and prices\n",
    "gen_comparison_df.inc_price_and_flow_const = solution_1b.generation.gen\n",
    "gen_comparison_df"
   ]
  },
  {
   "cell_type": "code",
   "execution_count": 13,
   "metadata": {},
   "outputs": [
    {
     "data": {
      "text/html": [
       "<table class=\"data-frame\"><thead><tr><th></th><th>baseline</th><th>increased_price_scen</th><th>inc_price_and_flow_const</th></tr><tr><th></th><th>Float64</th><th>Float64</th><th>Float64</th></tr></thead><tbody><p>6 rows × 3 columns</p><tr><th>1</th><td>64.0779</td><td>64.0779</td><td>149.42</td></tr><tr><th>2</th><td>54.9221</td><td>54.9221</td><td>71.417</td></tr><tr><th>3</th><td>72.7846</td><td>72.7846</td><td>70.0</td></tr><tr><th>4</th><td>60.9488</td><td>60.9488</td><td>55.1212</td></tr><tr><th>5</th><td>48.6446</td><td>48.6446</td><td>40.7618</td></tr><tr><th>6</th><td>-21.4154</td><td>-21.4154</td><td>-24.2</td></tr></tbody></table>"
      ],
      "text/latex": [
       "\\begin{tabular}{r|ccc}\n",
       "\t& baseline & increased\\_price\\_scen & inc\\_price\\_and\\_flow\\_const\\\\\n",
       "\t\\hline\n",
       "\t& Float64 & Float64 & Float64\\\\\n",
       "\t\\hline\n",
       "\t1 & 64.0779 & 64.0779 & 149.42 \\\\\n",
       "\t2 & 54.9221 & 54.9221 & 71.417 \\\\\n",
       "\t3 & 72.7846 & 72.7846 & 70.0 \\\\\n",
       "\t4 & 60.9488 & 60.9488 & 55.1212 \\\\\n",
       "\t5 & 48.6446 & 48.6446 & 40.7618 \\\\\n",
       "\t6 & -21.4154 & -21.4154 & -24.2 \\\\\n",
       "\\end{tabular}\n"
      ],
      "text/plain": [
       "6×3 DataFrame\n",
       "│ Row │ baseline │ increased_price_scen │ inc_price_and_flow_const │\n",
       "│     │ \u001b[90mFloat64\u001b[39m  │ \u001b[90mFloat64\u001b[39m              │ \u001b[90mFloat64\u001b[39m                  │\n",
       "├─────┼──────────┼──────────────────────┼──────────────────────────┤\n",
       "│ 1   │ 64.0779  │ 64.0779              │ 149.42                   │\n",
       "│ 2   │ 54.9221  │ 54.9221              │ 71.417                   │\n",
       "│ 3   │ 72.7846  │ 72.7846              │ 70.0                     │\n",
       "│ 4   │ 60.9488  │ 60.9488              │ 55.1212                  │\n",
       "│ 5   │ 48.6446  │ 48.6446              │ 40.7618                  │\n",
       "│ 6   │ -21.4154 │ -21.4154             │ -24.2                    │"
      ]
     },
     "execution_count": 13,
     "metadata": {},
     "output_type": "execute_result"
    }
   ],
   "source": [
    "flow_comparison_df.inc_price_and_flow_const = solution_1b.flows.flow\n",
    "head(flow_comparison_df)"
   ]
  },
  {
   "cell_type": "code",
   "execution_count": 14,
   "metadata": {},
   "outputs": [
    {
     "data": {
      "text/html": [
       "<table class=\"data-frame\"><thead><tr><th></th><th>baseline</th><th>increased_price_scen</th><th>inc_price_and_flow_const</th></tr><tr><th></th><th>Float64</th><th>Float64</th><th>Float64</th></tr></thead><tbody><p>6 rows × 3 columns</p><tr><th>1</th><td>20.0</td><td>30.0</td><td>30.0</td></tr><tr><th>2</th><td>20.0</td><td>30.0</td><td>20.0</td></tr><tr><th>3</th><td>20.0</td><td>30.0</td><td>224.574</td></tr><tr><th>4</th><td>20.0</td><td>30.0</td><td>85.3586</td></tr><tr><th>5</th><td>20.0</td><td>30.0</td><td>67.6948</td></tr><tr><th>6</th><td>20.0</td><td>30.0</td><td>73.7014</td></tr></tbody></table>"
      ],
      "text/latex": [
       "\\begin{tabular}{r|ccc}\n",
       "\t& baseline & increased\\_price\\_scen & inc\\_price\\_and\\_flow\\_const\\\\\n",
       "\t\\hline\n",
       "\t& Float64 & Float64 & Float64\\\\\n",
       "\t\\hline\n",
       "\t1 & 20.0 & 30.0 & 30.0 \\\\\n",
       "\t2 & 20.0 & 30.0 & 20.0 \\\\\n",
       "\t3 & 20.0 & 30.0 & 224.574 \\\\\n",
       "\t4 & 20.0 & 30.0 & 85.3586 \\\\\n",
       "\t5 & 20.0 & 30.0 & 67.6948 \\\\\n",
       "\t6 & 20.0 & 30.0 & 73.7014 \\\\\n",
       "\\end{tabular}\n"
      ],
      "text/plain": [
       "6×3 DataFrame\n",
       "│ Row │ baseline │ increased_price_scen │ inc_price_and_flow_const │\n",
       "│     │ \u001b[90mFloat64\u001b[39m  │ \u001b[90mFloat64\u001b[39m              │ \u001b[90mFloat64\u001b[39m                  │\n",
       "├─────┼──────────┼──────────────────────┼──────────────────────────┤\n",
       "│ 1   │ 20.0     │ 30.0                 │ 30.0                     │\n",
       "│ 2   │ 20.0     │ 30.0                 │ 20.0                     │\n",
       "│ 3   │ 20.0     │ 30.0                 │ 224.574                  │\n",
       "│ 4   │ 20.0     │ 30.0                 │ 85.3586                  │\n",
       "│ 5   │ 20.0     │ 30.0                 │ 67.6948                  │\n",
       "│ 6   │ 20.0     │ 30.0                 │ 73.7014                  │"
      ]
     },
     "execution_count": 14,
     "metadata": {},
     "output_type": "execute_result"
    }
   ],
   "source": [
    "price_comparison_df.inc_price_and_flow_const = solution_1b.prices.value\n",
    "head(price_comparison_df)"
   ]
  },
  {
   "cell_type": "markdown",
   "metadata": {},
   "source": [
    "Regarding the above results, answer the following:\n",
    "\n",
    "- Which node has the highest price and why?\n",
    "- What is the difference in prices across $l_{23}$, also known as the congestion rent? How do you interpret this value (what is it's practical meaning?)"
   ]
  },
  {
   "cell_type": "code",
   "execution_count": 15,
   "metadata": {},
   "outputs": [
    {
     "data": {
      "application/vnd.vegalite.v4+json": {
       "data": {
        "values": [
         {
          "max": "",
          "node": 1,
          "value": 29.99999999999997
         },
         {
          "max": "",
          "node": 2,
          "value": 19.999999999999993
         },
         {
          "max": "Node 3",
          "node": 3,
          "value": 224.57409253798673
         },
         {
          "max": "",
          "node": 4,
          "value": 85.35855803198751
         },
         {
          "max": "",
          "node": 5,
          "value": 67.69477775899955
         },
         {
          "max": "",
          "node": 6,
          "value": 73.7014376370269
         },
         {
          "max": "",
          "node": 7,
          "value": 82.19156519021456
         },
         {
          "max": "",
          "node": 8,
          "value": 82.19156519021456
         },
         {
          "max": "",
          "node": 9,
          "value": 80.52553189582176
         },
         {
          "max": "",
          "node": 10,
          "value": 79.31276144791092
         },
         {
          "max": "",
          "node": 11,
          "value": 76.55611269134022
         },
         {
          "max": "",
          "node": 12,
          "value": 74.24067793216524
         },
         {
          "max": "",
          "node": 13,
          "value": 74.66201935819335
         },
         {
          "max": "",
          "node": 14,
          "value": 77.96185705765235
         }
        ]
       },
       "encoding": {
        "color": {
         "field": "max",
         "type": "nominal"
        },
        "x": {
         "field": "node",
         "type": "quantitative"
        },
        "y": {
         "field": "value",
         "type": "quantitative"
        }
       },
       "mark": "bar",
       "title": "Price at each node"
      },
      "image/png": "[encoded data removed]",
      "image/svg+xml": [
       "<?xml version=\"1.0\" encoding=\"utf-8\"?>\n",
       "<!DOCTYPE svg PUBLIC \"-//W3C//DTD SVG 1.1//EN\" \"http://www.w3.org/Graphics/SVG/1.1/DTD/svg11.dtd\">\n",
       "<svg class=\"marks\" width=\"318\" height=\"259\" viewBox=\"0 0 318 259\" version=\"1.1\" xmlns=\"http://www.w3.org/2000/svg\" xmlns:xlink=\"http://www.w3.org/1999/xlink\"><rect width=\"318\" height=\"259\" fill=\"white\"></rect><g fill=\"none\" stroke-miterlimit=\"10\" transform=\"translate(45,22)\"><g class=\"mark-group role-frame root\" role=\"graphics-object\" aria-roledescription=\"group mark container\"><g transform=\"translate(0,0)\"><path class=\"background\" aria-hidden=\"true\" d=\"M0.5,0.5h200v200h-200Z\" stroke=\"#ddd\"></path><g><g class=\"mark-group role-axis\" aria-hidden=\"true\"><g transform=\"translate(0.5,200.5)\"><path class=\"background\" aria-hidden=\"true\" d=\"M0,0h0v0h0Z\" pointer-events=\"none\"></path><g><g class=\"mark-rule role-axis-grid\" pointer-events=\"none\"><line transform=\"translate(0,-200)\" x2=\"0\" y2=\"200\" stroke=\"#ddd\" stroke-width=\"1\" opacity=\"1\"></line><line transform=\"translate(63,-200)\" x2=\"0\" y2=\"200\" stroke=\"#ddd\" stroke-width=\"1\" opacity=\"1\"></line><line transform=\"translate(125,-200)\" x2=\"0\" y2=\"200\" stroke=\"#ddd\" stroke-width=\"1\" opacity=\"1\"></line><line transform=\"translate(188,-200)\" x2=\"0\" y2=\"200\" stroke=\"#ddd\" stroke-width=\"1\" opacity=\"1\"></line></g></g><path class=\"foreground\" aria-hidden=\"true\" d=\"\" pointer-events=\"none\" display=\"none\"></path></g></g><g class=\"mark-group role-axis\" aria-hidden=\"true\"><g transform=\"translate(0.5,0.5)\"><path class=\"background\" aria-hidden=\"true\" d=\"M0,0h0v0h0Z\" pointer-events=\"none\"></path><g><g class=\"mark-rule role-axis-grid\" pointer-events=\"none\"><line transform=\"translate(0,200)\" x2=\"200\" y2=\"0\" stroke=\"#ddd\" stroke-width=\"1\" opacity=\"1\"></line><line transform=\"translate(0,158)\" x2=\"200\" y2=\"0\" stroke=\"#ddd\" stroke-width=\"1\" opacity=\"1\"></line><line transform=\"translate(0,117)\" x2=\"200\" y2=\"0\" stroke=\"#ddd\" stroke-width=\"1\" opacity=\"1\"></line><line transform=\"translate(0,75)\" x2=\"200\" y2=\"0\" stroke=\"#ddd\" stroke-width=\"1\" opacity=\"1\"></line><line transform=\"translate(0,33)\" x2=\"200\" y2=\"0\" stroke=\"#ddd\" stroke-width=\"1\" opacity=\"1\"></line></g></g><path class=\"foreground\" aria-hidden=\"true\" d=\"\" pointer-events=\"none\" display=\"none\"></path></g></g><g class=\"mark-group role-axis\" role=\"graphics-symbol\" aria-roledescription=\"axis\" aria-label=\"X-axis titled 'node' for a linear scale with values from 0 to 16\"><g transform=\"translate(0.5,200.5)\"><path class=\"background\" aria-hidden=\"true\" d=\"M0,0h0v0h0Z\" pointer-events=\"none\"></path><g><g class=\"mark-rule role-axis-tick\" pointer-events=\"none\"><line transform=\"translate(0,0)\" x2=\"0\" y2=\"5\" stroke=\"#888\" stroke-width=\"1\" opacity=\"1\"></line><line transform=\"translate(63,0)\" x2=\"0\" y2=\"5\" stroke=\"#888\" stroke-width=\"1\" opacity=\"1\"></line><line transform=\"translate(125,0)\" x2=\"0\" y2=\"5\" stroke=\"#888\" stroke-width=\"1\" opacity=\"1\"></line><line transform=\"translate(188,0)\" x2=\"0\" y2=\"5\" stroke=\"#888\" stroke-width=\"1\" opacity=\"1\"></line></g><g class=\"mark-text role-axis-label\" pointer-events=\"none\"><text text-anchor=\"start\" transform=\"translate(0,15)\" font-family=\"sans-serif\" font-size=\"10px\" fill=\"#000\" opacity=\"1\">0</text><text text-anchor=\"middle\" transform=\"translate(62.5,15)\" font-family=\"sans-serif\" font-size=\"10px\" fill=\"#000\" opacity=\"1\">5</text><text text-anchor=\"middle\" transform=\"translate(125,15)\" font-family=\"sans-serif\" font-size=\"10px\" fill=\"#000\" opacity=\"1\">10</text><text text-anchor=\"middle\" transform=\"translate(187.5,15)\" font-family=\"sans-serif\" font-size=\"10px\" fill=\"#000\" opacity=\"1\">15</text></g><g class=\"mark-rule role-axis-domain\" pointer-events=\"none\"><line transform=\"translate(0,0)\" x2=\"200\" y2=\"0\" stroke=\"#888\" stroke-width=\"1\" opacity=\"1\"></line></g><g class=\"mark-text role-axis-title\" pointer-events=\"none\"><text text-anchor=\"middle\" transform=\"translate(100,30)\" font-family=\"sans-serif\" font-size=\"11px\" font-weight=\"bold\" fill=\"#000\" opacity=\"1\">node</text></g></g><path class=\"foreground\" aria-hidden=\"true\" d=\"\" pointer-events=\"none\" display=\"none\"></path></g></g><g class=\"mark-group role-axis\" role=\"graphics-symbol\" aria-roledescription=\"axis\" aria-label=\"Y-axis titled 'value' for a linear scale with values from 0 to 240\"><g transform=\"translate(0.5,0.5)\"><path class=\"background\" aria-hidden=\"true\" d=\"M0,0h0v0h0Z\" pointer-events=\"none\"></path><g><g class=\"mark-rule role-axis-tick\" pointer-events=\"none\"><line transform=\"translate(0,200)\" x2=\"-5\" y2=\"0\" stroke=\"#888\" stroke-width=\"1\" opacity=\"1\"></line><line transform=\"translate(0,158)\" x2=\"-5\" y2=\"0\" stroke=\"#888\" stroke-width=\"1\" opacity=\"1\"></line><line transform=\"translate(0,117)\" x2=\"-5\" y2=\"0\" stroke=\"#888\" stroke-width=\"1\" opacity=\"1\"></line><line transform=\"translate(0,75)\" x2=\"-5\" y2=\"0\" stroke=\"#888\" stroke-width=\"1\" opacity=\"1\"></line><line transform=\"translate(0,33)\" x2=\"-5\" y2=\"0\" stroke=\"#888\" stroke-width=\"1\" opacity=\"1\"></line></g><g class=\"mark-text role-axis-label\" pointer-events=\"none\"><text text-anchor=\"end\" transform=\"translate(-7,203)\" font-family=\"sans-serif\" font-size=\"10px\" fill=\"#000\" opacity=\"1\">0</text><text text-anchor=\"end\" transform=\"translate(-7,161.33333333333331)\" font-family=\"sans-serif\" font-size=\"10px\" fill=\"#000\" opacity=\"1\">50</text><text text-anchor=\"end\" transform=\"translate(-7,119.66666666666666)\" font-family=\"sans-serif\" font-size=\"10px\" fill=\"#000\" opacity=\"1\">100</text><text text-anchor=\"end\" transform=\"translate(-7,78)\" font-family=\"sans-serif\" font-size=\"10px\" fill=\"#000\" opacity=\"1\">150</text><text text-anchor=\"end\" transform=\"translate(-7,36.33333333333333)\" font-family=\"sans-serif\" font-size=\"10px\" fill=\"#000\" opacity=\"1\">200</text></g><g class=\"mark-rule role-axis-domain\" pointer-events=\"none\"><line transform=\"translate(0,200)\" x2=\"0\" y2=\"-200\" stroke=\"#888\" stroke-width=\"1\" opacity=\"1\"></line></g><g class=\"mark-text role-axis-title\" pointer-events=\"none\"><text text-anchor=\"middle\" transform=\"translate(-29,100) rotate(-90) translate(0,-2)\" font-family=\"sans-serif\" font-size=\"11px\" font-weight=\"bold\" fill=\"#000\" opacity=\"1\">value</text></g></g><path class=\"foreground\" aria-hidden=\"true\" d=\"\" pointer-events=\"none\" display=\"none\"></path></g></g><g class=\"mark-rect role-mark marks\" role=\"graphics-object\" aria-roledescription=\"rect mark container\"><path aria-label=\"node: 1; value: 30; max: \" role=\"graphics-symbol\" aria-roledescription=\"bar\" d=\"M10,175.00000000000003h5v24.99999999999997h-5Z\" fill=\"#4c78a8\"></path><path aria-label=\"node: 2; value: 20; max: \" role=\"graphics-symbol\" aria-roledescription=\"bar\" d=\"M22.5,183.33333333333334h5v16.666666666666657h-5Z\" fill=\"#4c78a8\"></path><path aria-label=\"node: 3; value: 224.574092538; max: Node 3\" role=\"graphics-symbol\" aria-roledescription=\"bar\" d=\"M35,12.854922885011067h5v187.14507711498894h-5Z\" fill=\"#f58518\"></path><path aria-label=\"node: 4; value: 85.358558032; max: \" role=\"graphics-symbol\" aria-roledescription=\"bar\" d=\"M47.5,128.86786830667708h5v71.13213169332292h-5Z\" fill=\"#4c78a8\"></path><path aria-label=\"node: 5; value: 67.694777759; max: \" role=\"graphics-symbol\" aria-roledescription=\"bar\" d=\"M60,143.5876852008337h5v56.412314799166296h-5Z\" fill=\"#4c78a8\"></path><path aria-label=\"node: 6; value: 73.701437637; max: \" role=\"graphics-symbol\" aria-roledescription=\"bar\" d=\"M72.5,138.58213530247758h5v61.41786469752242h-5Z\" fill=\"#4c78a8\"></path><path aria-label=\"node: 7; value: 82.1915651902; max: \" role=\"graphics-symbol\" aria-roledescription=\"bar\" d=\"M85,131.50702900815455h5v68.49297099184545h-5Z\" fill=\"#4c78a8\"></path><path aria-label=\"node: 8; value: 82.1915651902; max: \" role=\"graphics-symbol\" aria-roledescription=\"bar\" d=\"M97.5,131.50702900815455h5v68.49297099184545h-5Z\" fill=\"#4c78a8\"></path><path aria-label=\"node: 9; value: 80.5255318958; max: \" role=\"graphics-symbol\" aria-roledescription=\"bar\" d=\"M110,132.89539008681518h5v67.10460991318482h-5Z\" fill=\"#4c78a8\"></path><path aria-label=\"node: 10; value: 79.3127614479; max: \" role=\"graphics-symbol\" aria-roledescription=\"bar\" d=\"M122.5,133.9060321267409h5v66.09396787325909h-5Z\" fill=\"#4c78a8\"></path><path aria-label=\"node: 11; value: 76.5561126913; max: \" role=\"graphics-symbol\" aria-roledescription=\"bar\" d=\"M135,136.20323942388316h5v63.79676057611684h-5Z\" fill=\"#4c78a8\"></path><path aria-label=\"node: 12; value: 74.2406779322; max: \" role=\"graphics-symbol\" aria-roledescription=\"bar\" d=\"M147.5,138.1327683898623h5v61.86723161013771h-5Z\" fill=\"#4c78a8\"></path><path aria-label=\"node: 13; value: 74.6620193582; max: \" role=\"graphics-symbol\" aria-roledescription=\"bar\" d=\"M160,137.78165053483886h5v62.21834946516114h-5Z\" fill=\"#4c78a8\"></path><path aria-label=\"node: 14; value: 77.9618570577; max: \" role=\"graphics-symbol\" aria-roledescription=\"bar\" d=\"M172.5,135.0317857852897h5v64.96821421471029h-5Z\" fill=\"#4c78a8\"></path></g><g class=\"mark-group role-legend\" role=\"graphics-symbol\" aria-roledescription=\"legend\" aria-label=\"Symbol legend titled 'max' for fill color with 2 values: , Node 3\"><g transform=\"translate(218,0)\"><path class=\"background\" aria-hidden=\"true\" d=\"M0,0h50v40h-50Z\" pointer-events=\"none\"></path><g><g class=\"mark-group role-legend-entry\"><g transform=\"translate(0,16)\"><path class=\"background\" aria-hidden=\"true\" d=\"M0,0h0v0h0Z\" pointer-events=\"none\"></path><g><g class=\"mark-group role-scope\" role=\"graphics-object\" aria-roledescription=\"group mark container\"><g transform=\"translate(0,0)\"><path class=\"background\" aria-hidden=\"true\" d=\"M0,0h50v11h-50Z\" pointer-events=\"none\" opacity=\"1\"></path><g><g class=\"mark-symbol role-legend-symbol\" pointer-events=\"none\"><path transform=\"translate(6,6)\" d=\"M-5,-5h10v10h-10Z\" fill=\"#4c78a8\" stroke-width=\"1.5\" opacity=\"1\"></path></g><g class=\"mark-text role-legend-label\" pointer-events=\"none\"><text text-anchor=\"start\" transform=\"translate(16,9)\" font-family=\"sans-serif\" font-size=\"10px\" fill=\"#000\" opacity=\"1\"></text></g></g><path class=\"foreground\" aria-hidden=\"true\" d=\"\" pointer-events=\"none\" display=\"none\"></path></g><g transform=\"translate(0,13)\"><path class=\"background\" aria-hidden=\"true\" d=\"M0,0h50v11h-50Z\" pointer-events=\"none\" opacity=\"1\"></path><g><g class=\"mark-symbol role-legend-symbol\" pointer-events=\"none\"><path transform=\"translate(6,6)\" d=\"M-5,-5h10v10h-10Z\" fill=\"#f58518\" stroke-width=\"1.5\" opacity=\"1\"></path></g><g class=\"mark-text role-legend-label\" pointer-events=\"none\"><text text-anchor=\"start\" transform=\"translate(16,9)\" font-family=\"sans-serif\" font-size=\"10px\" fill=\"#000\" opacity=\"1\">Node 3</text></g></g><path class=\"foreground\" aria-hidden=\"true\" d=\"\" pointer-events=\"none\" display=\"none\"></path></g></g></g><path class=\"foreground\" aria-hidden=\"true\" d=\"\" pointer-events=\"none\" display=\"none\"></path></g></g><g class=\"mark-text role-legend-title\" pointer-events=\"none\"><text text-anchor=\"start\" transform=\"translate(0,9)\" font-family=\"sans-serif\" font-size=\"11px\" font-weight=\"bold\" fill=\"#000\" opacity=\"1\">max</text></g></g><path class=\"foreground\" aria-hidden=\"true\" d=\"\" pointer-events=\"none\" display=\"none\"></path></g></g><g class=\"mark-group role-title\"><g transform=\"translate(100,-17)\"><path class=\"background\" aria-hidden=\"true\" d=\"M0,0h0v0h0Z\" pointer-events=\"none\"></path><g><g class=\"mark-text role-title-text\" role=\"graphics-symbol\" aria-roledescription=\"title\" aria-label=\"Title text 'Price at each node'\" pointer-events=\"none\"><text text-anchor=\"middle\" transform=\"translate(0,10)\" font-family=\"sans-serif\" font-size=\"13px\" font-weight=\"bold\" fill=\"#000\" opacity=\"1\">Price at each node</text></g></g><path class=\"foreground\" aria-hidden=\"true\" d=\"\" pointer-events=\"none\" display=\"none\"></path></g></g></g><path class=\"foreground\" aria-hidden=\"true\" d=\"\" display=\"none\"></path></g></g></g></svg>\n"
      ],
      "text/plain": [
       "@vlplot(\n",
       "    title=\"Price at each node\",\n",
       "    mark=\"bar\",\n",
       "    encoding={\n",
       "        x={\n",
       "            field=\"node\"\n",
       "        },\n",
       "        y={\n",
       "            field=\"value\"\n",
       "        },\n",
       "        color={\n",
       "            field=\"max\"\n",
       "        }\n",
       "    },\n",
       "    data={\n",
       "        values=...\n",
       "    }\n",
       ")"
      ]
     },
     "execution_count": 15,
     "metadata": {},
     "output_type": "execute_result"
    }
   ],
   "source": [
    "solution_1b.prices.max = \"\"\n",
    "solution_1b.prices.max[\n",
    "    solution_1b.prices.value .== maximum(solution_1b.prices.value)] .= \"Node 3\"\n",
    "solution_1b.prices |>\n",
    "    @vlplot(:bar, x = :node, y = :value, color = :max, title = \"Price at each node\")"
   ]
  },
  {
   "cell_type": "markdown",
   "metadata": {},
   "source": [
    "##### Which node has the highest price and why?\n",
    "- As we can see from the above plot, Node 3 has the highest price, by a long way. \n",
    "- This reflects the there is a lot of congestion at this node, and therefore\n",
    "the marginal cost of increasing supply at this node is very high. \n",
    "- Given the physics of the system, increasing the load at node 3 would require significant\n",
    "extra generation (ie more than just the additional load). "
   ]
  },
  {
   "cell_type": "code",
   "execution_count": 16,
   "metadata": {},
   "outputs": [
    {
     "data": {
      "text/plain": [
       "204.57409253798673"
      ]
     },
     "execution_count": 16,
     "metadata": {},
     "output_type": "execute_result"
    }
   ],
   "source": [
    "cong_rest = solution_1b.prices.value[solution_1b.prices.node .== 3][1]  - \n",
    "    solution_1b.prices.value[solution_1b.prices.node .== 2][1]"
   ]
  },
  {
   "cell_type": "markdown",
   "metadata": {},
   "source": [
    "##### What is the difference in prices across $l_{23}$, also known as the congestion rent? How do you interpret this value (what is it's practical meaning?)\n",
    "- The difference in prices across node 2 and 3 is more than 200 dollars per MWh. \n",
    "- I interpret this as being the additional cost required to supply an extra unit of \n",
    "energy at node 3 compared to at node 2. This is due to the congestion at node 3.\n",
    "- It would reduce costs a lot to move future extra demand to node 2 rather than node 3, to reduce the congestion rent to the system."
   ]
  },
  {
   "cell_type": "markdown",
   "metadata": {},
   "source": [
    "**C. Demand increase**\n",
    "\n",
    "Make the following changes to the system:\n",
    "\n",
    "- Increase the variable cost of Generator 1 to \\$30 / MWh\n",
    "- Reduce flow limit on the line connecting 2 and 3 ($l_{23}$) to 70 MW\n",
    "- Increase demands everywhere by 5\\%."
   ]
  },
  {
   "cell_type": "code",
   "execution_count": 17,
   "metadata": {},
   "outputs": [
    {
     "data": {
      "text/html": [
       "<table class=\"data-frame\"><thead><tr><th></th><th>connnode</th><th>demand</th></tr><tr><th></th><th>Int64</th><th>Float64</th></tr></thead><tbody><p>11 rows × 2 columns</p><tr><th>1</th><td>2</td><td>-22.785</td></tr><tr><th>2</th><td>3</td><td>-98.91</td></tr><tr><th>3</th><td>4</td><td>-50.19</td></tr><tr><th>4</th><td>5</td><td>-7.98</td></tr><tr><th>5</th><td>6</td><td>-11.76</td></tr><tr><th>6</th><td>9</td><td>-30.975</td></tr><tr><th>7</th><td>10</td><td>-9.45</td></tr><tr><th>8</th><td>11</td><td>-3.675</td></tr><tr><th>9</th><td>12</td><td>-6.405</td></tr><tr><th>10</th><td>13</td><td>-14.175</td></tr><tr><th>11</th><td>14</td><td>-15.645</td></tr></tbody></table>"
      ],
      "text/latex": [
       "\\begin{tabular}{r|cc}\n",
       "\t& connnode & demand\\\\\n",
       "\t\\hline\n",
       "\t& Int64 & Float64\\\\\n",
       "\t\\hline\n",
       "\t1 & 2 & -22.785 \\\\\n",
       "\t2 & 3 & -98.91 \\\\\n",
       "\t3 & 4 & -50.19 \\\\\n",
       "\t4 & 5 & -7.98 \\\\\n",
       "\t5 & 6 & -11.76 \\\\\n",
       "\t6 & 9 & -30.975 \\\\\n",
       "\t7 & 10 & -9.45 \\\\\n",
       "\t8 & 11 & -3.675 \\\\\n",
       "\t9 & 12 & -6.405 \\\\\n",
       "\t10 & 13 & -14.175 \\\\\n",
       "\t11 & 14 & -15.645 \\\\\n",
       "\\end{tabular}\n"
      ],
      "text/plain": [
       "11×2 DataFrame\n",
       "│ Row │ connnode │ demand  │\n",
       "│     │ \u001b[90mInt64\u001b[39m    │ \u001b[90mFloat64\u001b[39m │\n",
       "├─────┼──────────┼─────────┤\n",
       "│ 1   │ 2        │ -22.785 │\n",
       "│ 2   │ 3        │ -98.91  │\n",
       "│ 3   │ 4        │ -50.19  │\n",
       "│ 4   │ 5        │ -7.98   │\n",
       "│ 5   │ 6        │ -11.76  │\n",
       "│ 6   │ 9        │ -30.975 │\n",
       "│ 7   │ 10       │ -9.45   │\n",
       "│ 8   │ 11       │ -3.675  │\n",
       "│ 9   │ 12       │ -6.405  │\n",
       "│ 10  │ 13       │ -14.175 │\n",
       "│ 11  │ 14       │ -15.645 │"
      ]
     },
     "execution_count": 17,
     "metadata": {},
     "output_type": "execute_result"
    }
   ],
   "source": [
    "# Increase demands everywhere by 5%\n",
    "\n",
    "loads_1c = copy(loads) |>\n",
    "    @mutate(demand = _.demand * 1.05) |>\n",
    "    DataFrame"
   ]
  },
  {
   "cell_type": "markdown",
   "metadata": {},
   "source": [
    "Calculate the total available generating capacity:"
   ]
  },
  {
   "cell_type": "code",
   "execution_count": 18,
   "metadata": {},
   "outputs": [
    {
     "data": {
      "text/plain": [
       "472.4"
      ]
     },
     "execution_count": 18,
     "metadata": {},
     "output_type": "execute_result"
    }
   ],
   "source": [
    "total_capacity = sum(gens_1a.pgmax)"
   ]
  },
  {
   "cell_type": "markdown",
   "metadata": {},
   "source": [
    "Calculate the new total demand:"
   ]
  },
  {
   "cell_type": "code",
   "execution_count": 19,
   "metadata": {},
   "outputs": [
    {
     "data": {
      "text/plain": [
       "271.94999999999993"
      ]
     },
     "execution_count": 19,
     "metadata": {},
     "output_type": "execute_result"
    }
   ],
   "source": [
    "total_demand = -sum(loads_1c.demand)"
   ]
  },
  {
   "cell_type": "markdown",
   "metadata": {},
   "source": [
    "Run the DCOPF and show prices."
   ]
  },
  {
   "cell_type": "code",
   "execution_count": 42,
   "metadata": {},
   "outputs": [
    {
     "data": {
      "text/plain": [
       "\"INFEASIBLE\""
      ]
     },
     "execution_count": 42,
     "metadata": {},
     "output_type": "execute_result"
    }
   ],
   "source": [
    "solution_1c = dcopf_ieee(gens_1a, lines_1b, loads_1c);\n",
    "string(solution_1c.status)"
   ]
  },
  {
   "cell_type": "code",
   "execution_count": 21,
   "metadata": {},
   "outputs": [
    {
     "data": {
      "text/html": [
       "<table class=\"data-frame\"><thead><tr><th></th><th>node</th><th>value</th></tr><tr><th></th><th>Int64</th><th>Float64</th></tr></thead><tbody><p>14 rows × 2 columns</p><tr><th>1</th><td>1</td><td>NaN</td></tr><tr><th>2</th><td>2</td><td>NaN</td></tr><tr><th>3</th><td>3</td><td>NaN</td></tr><tr><th>4</th><td>4</td><td>NaN</td></tr><tr><th>5</th><td>5</td><td>NaN</td></tr><tr><th>6</th><td>6</td><td>NaN</td></tr><tr><th>7</th><td>7</td><td>NaN</td></tr><tr><th>8</th><td>8</td><td>NaN</td></tr><tr><th>9</th><td>9</td><td>1.0</td></tr><tr><th>10</th><td>10</td><td>NaN</td></tr><tr><th>11</th><td>11</td><td>NaN</td></tr><tr><th>12</th><td>12</td><td>NaN</td></tr><tr><th>13</th><td>13</td><td>NaN</td></tr><tr><th>14</th><td>14</td><td>NaN</td></tr></tbody></table>"
      ],
      "text/latex": [
       "\\begin{tabular}{r|cc}\n",
       "\t& node & value\\\\\n",
       "\t\\hline\n",
       "\t& Int64 & Float64\\\\\n",
       "\t\\hline\n",
       "\t1 & 1 & NaN \\\\\n",
       "\t2 & 2 & NaN \\\\\n",
       "\t3 & 3 & NaN \\\\\n",
       "\t4 & 4 & NaN \\\\\n",
       "\t5 & 5 & NaN \\\\\n",
       "\t6 & 6 & NaN \\\\\n",
       "\t7 & 7 & NaN \\\\\n",
       "\t8 & 8 & NaN \\\\\n",
       "\t9 & 9 & 1.0 \\\\\n",
       "\t10 & 10 & NaN \\\\\n",
       "\t11 & 11 & NaN \\\\\n",
       "\t12 & 12 & NaN \\\\\n",
       "\t13 & 13 & NaN \\\\\n",
       "\t14 & 14 & NaN \\\\\n",
       "\\end{tabular}\n"
      ],
      "text/plain": [
       "14×2 DataFrame\n",
       "│ Row │ node  │ value   │\n",
       "│     │ \u001b[90mInt64\u001b[39m │ \u001b[90mFloat64\u001b[39m │\n",
       "├─────┼───────┼─────────┤\n",
       "│ 1   │ 1     │ NaN     │\n",
       "│ 2   │ 2     │ NaN     │\n",
       "│ 3   │ 3     │ NaN     │\n",
       "│ 4   │ 4     │ NaN     │\n",
       "│ 5   │ 5     │ NaN     │\n",
       "│ 6   │ 6     │ NaN     │\n",
       "│ 7   │ 7     │ NaN     │\n",
       "│ 8   │ 8     │ NaN     │\n",
       "│ 9   │ 9     │ 1.0     │\n",
       "│ 10  │ 10    │ NaN     │\n",
       "│ 11  │ 11    │ NaN     │\n",
       "│ 12  │ 12    │ NaN     │\n",
       "│ 13  │ 13    │ NaN     │\n",
       "│ 14  │ 14    │ NaN     │"
      ]
     },
     "execution_count": 21,
     "metadata": {},
     "output_type": "execute_result"
    }
   ],
   "source": [
    "solution_1c.prices"
   ]
  },
  {
   "cell_type": "markdown",
   "metadata": {},
   "source": [
    "**What is happening in this system?** "
   ]
  },
  {
   "cell_type": "markdown",
   "metadata": {},
   "source": [
    "- We cannot meet demand, given the constraints on our system \n",
    "- Despite us having enough available generation, we can't get it to the demand in a feasible way, given the physics of the system. \n",
    "- Therefore, prices are NaN (we can think of this as being infinite). "
   ]
  },
  {
   "cell_type": "markdown",
   "metadata": {},
   "source": [
    "## Question 2: Linear losses\n",
    "\n",
    "Up until now, we have ignored transmission losses. A quadratic approximation of losses is given by:\n",
    "$$\n",
    "\\begin{align}\n",
    "LOSS_{ij} &\\approx \\frac{G_{ij}}{BaseMVA} (\\theta_i-\\theta_j)^2 \\\\\n",
    " & \\approx \\frac{1}{BaseMVA} \\frac{R_{ij}}{R_{ij}^2+X_{ij}^2}(\\theta_i-\\theta_j)^2\n",
    "\\end{align}\n",
    "$$\n",
    "\n",
    "where $G$ is the line's conductance, $R$ is the line's resistance and $X$ is the line's reactance. See the `lines` data frame for these parameters.\n",
    "\n",
    "For our purposes, we will approximate this quadratic via:\n",
    "\n",
    "\n",
    "$$\n",
    "LOSS_{ij} \\geq \\frac{R_{ij}}{BaseMVA} \\times (MaxFlow_{ij})^2 \n",
    "\\left(\\frac{|FLOW_{ij}|}{MaxFlow_{ij}} - 0.165 \\right)\n",
    "$$\n",
    "\n",
    "where $MaxFlow_{ij}=200 MW$ in this problem. Note the greater than equal sign, as we do not want to have negative losses.\n",
    "\n",
    "This approximation is based on Fitiwi et al. (2016), \"Finding a representative network losses model for large-scale transmission expansion planning with renewable energy sources,\" *Energy* 101: 343-358, https://doi.org/10.1016/j.energy.2016.02.015. \n",
    "\n",
    "Note that this is a linear approximation of transmission losses, which are actually a quadratic function of power flows. Fitiwi et al. 2016 and other papers describe piece-wise or segment-wise linear approximations of the quadratic function which provide a tighter lower bound approximation of losses, but we'll use a single linear term for this assignment. \n",
    "\n",
    "See Jenkins & Sepulveda et al. 2017, \"Enhanced decision support for a changing electricity landscape: the GenX configurable electricity resource capacity expansion model\", MIT Energy Initiative Working Paper 2017-10 http://bit.ly/GenXModel Section 5.8, for an example of a linear segment-wise approximation of quadratic transmission losses. \n",
    "\n",
    "\n",
    "**A. Code linear losses**\n",
    "\n",
    "Reload the original data from Notebook 6 and copy the IEEE 14 bus system and DCOPF solver function from Notebook 6 into a new function `dcopf_ieee_lossy`.\n",
    "\n",
    "Make the following changes:\n",
    "- Increase the variable cost of Generator 1 to \\$30 / MWh\n",
    "- Change all transmission line capacities to 200 MW\n",
    "\n",
    "Implement losses into the supply/demand balance equations. A standard way to implement absolute values in linear programming is by introducing two non-negative auxiliary variables $x^+$, $x^-$ $\\geq 0$:\n",
    "\n",
    "$$\n",
    "x = x^+ - x^-\n",
    "$$\n",
    "\n",
    "and the absolute value can be represented as:\n",
    "\n",
    "$$\n",
    "|x| = x^+ + x^-\n",
    "$$\n",
    "\n",
    "(You should satisfy yourself that this equality holds.)\n",
    "\n",
    "It makes the formulation easier if losses are added to the supply/demand balance constraint in each node by splitting losses in half between the receiving and sending end.\n",
    "\n",
    "Indicate which equations and variables you have added and explain your steps using inline code comments (e.g. `# Comment`).\n",
    "\n",
    "Run the lossy DCOPF and output generation, flows, losses, and prices."
   ]
  },
  {
   "cell_type": "code",
   "execution_count": 22,
   "metadata": {},
   "outputs": [
    {
     "data": {
      "text/plain": [
       "dcopf_ieee_lossy (generic function with 1 method)"
      ]
     },
     "execution_count": 22,
     "metadata": {},
     "output_type": "execute_result"
    }
   ],
   "source": [
    "#=\n",
    "Function to solve DC OPF problem using IEEE test cases. Includes quadratic \n",
    "loss approximation \n",
    "Inputs:\n",
    "    gen_info -- dataframe with generator info\n",
    "    line_info -- dataframe with transmission lines info\n",
    "    loads  -- dataframe with load info\n",
    "=#\n",
    "function dcopf_ieee_lossy(gens, lines, loads)\n",
    "\n",
    "    DCOPF = Model(GLPK.Optimizer) # You could use Clp as well, with Clp.Optimizer\n",
    "    G = gens.connnode\n",
    "      # Set of all nodes\n",
    "    N = sort(union(unique(lines.fromnode), \n",
    "            unique(lines.tonode)))\n",
    "    baseMVA = 100 # base MVA is 100 MVA for this system\n",
    "    \n",
    "    # Decision variables   \n",
    "    @variables(DCOPF, begin\n",
    "        GEN[N]  >= 0     # generation        \n",
    "        # Note: we assume Pmin = 0 for all resources for simplicty here\n",
    "        THETA[N]         # voltage phase angle of bus\n",
    "        FLOW[N,N]        # flows between all pairs of nodes\n",
    "        # Include auxilliary variable - to get absolute value\n",
    "        FLOW_abs[N,N] >= 0\n",
    "    end)\n",
    "\n",
    "    # Constraint for Flow variables - constrain the absolute value version\n",
    "    # borrowing idea from here: \n",
    "    # https://github.com/jump-dev/JuMP.jl/issues/48#issuecomment-25575389\n",
    "    cAbs_Flows_neg = JuMP.Containers.DenseAxisArray{Any}(undef, 1:nrow(lines)) \n",
    "    cAbs_Flows_pos = JuMP.Containers.DenseAxisArray{Any}(undef, 1:nrow(lines)) \n",
    "\n",
    "    for l in 1:nrow(lines)\n",
    "        cAbs_Flows_neg[l] = @constraint(\n",
    "            DCOPF, \n",
    "            FLOW_abs[lines[l,:fromnode],lines[l,:tonode]] >= \n",
    "            - FLOW[lines[l,:fromnode],lines[l,:tonode]]  \n",
    "            )        \n",
    "        cAbs_Flows_pos[l] = @constraint(\n",
    "            DCOPF, \n",
    "            FLOW_abs[lines[l,:fromnode],lines[l,:tonode]] >= \n",
    "            FLOW[lines[l,:fromnode],lines[l,:tonode]]  \n",
    "            )        \n",
    "    end\n",
    "\n",
    "    # Create slack bus with reference angle = 0; use bus 1 with generator\n",
    "    fix(THETA[1],0)\n",
    "                \n",
    "    # Objective function\n",
    "    @objective(DCOPF, Min, \n",
    "        sum( gens[g,:c1] * GEN[g] for g in G)\n",
    "    )\n",
    "    \n",
    "    # Set the max flow - erroring if we aren't in the simple sitution defined \n",
    "    # in this particular problem\n",
    "    if length(unique(lines.capacity)) .== 1\n",
    "        MaxFlow = maximum(lines.capacity)\n",
    "    else\n",
    "        throw(DomainError(\"Only coded it up for homogenous max flow\"))\n",
    "    end\n",
    "\n",
    "    # expression for losses\n",
    "    eLoss = JuMP.Containers.DenseAxisArray{Any}(undef, 1:length(N), 1:length(N)) \n",
    "    # fill with zeros - for where we dont have any lines\n",
    "    fill!(eLoss, 0)\n",
    "    for l in 1:nrow(lines)\n",
    "        eLoss[lines.fromnode[l], lines.tonode[l]] = @expression(DCOPF, \n",
    "            (lines.resistance[l] ./\n",
    "                baseMVA) .* (MaxFlow ^ 2) .*\n",
    "                (\n",
    "                (FLOW_abs[lines.fromnode[l],lines.tonode[l]] \n",
    "                    ./ MaxFlow) .- 0.165\n",
    "                )\n",
    "        )\n",
    "    end\n",
    "\n",
    "    # Make sure losses are never negative\n",
    "    @constraint(DCOPF, \n",
    "        eLoss_pos[l in 1:nrow(lines)], \n",
    "        eLoss[lines.fromnode[l], lines.tonode[l]] >=0\n",
    "        )\n",
    "\n",
    "    # Supply demand balances - add in losses expression\n",
    "    # split losses as being half for each direction, for coding convenience\n",
    "    @constraint(DCOPF, \n",
    "        cBalance[i in N], \n",
    "        sum(GEN[g] for g in gens[gens.connnode .== i,:connnode]) \n",
    "            + sum(load for load in loads[loads.connnode .== i,:demand]) \n",
    "        == sum(FLOW[i,j] + 0.5 * eLoss[i, j]\n",
    "            for j in lines[lines.fromnode .== i,:tonode]) \n",
    "    )\n",
    "\n",
    "    # Max generation constraint\n",
    "    @constraint(DCOPF, cMaxGen[g in G],\n",
    "                    GEN[g] <= gens[g,:pgmax])\n",
    "\n",
    "    # Flow constraints on each branch; \n",
    "    # In DCOPF, line flow is a function of voltage angles\n",
    "       # Create an array of references to the line constraints, \n",
    "       # which we \"fill\" below in loop\n",
    "    cLineFlows = JuMP.Containers.DenseAxisArray{Any}(undef, 1:nrow(lines)) \n",
    "    for l in 1:nrow(lines)\n",
    "        cLineFlows[l] = @constraint(DCOPF, \n",
    "            FLOW[lines[l,:fromnode],lines[l,:tonode]] == \n",
    "            baseMVA * lines[l,:b] * \n",
    "            (THETA[lines[l,:fromnode]] - THETA[lines[l,:tonode]])\n",
    "        )\n",
    "    end\n",
    "    \n",
    "    # Max line flow limits\n",
    "       # Create an array of references to the line constraints, \n",
    "       # which we \"fill\" below in loop\n",
    "    cLineLimits = JuMP.Containers.DenseAxisArray{Any}(undef, 1:nrow(lines)) \n",
    "    for l in 1:nrow(lines)\n",
    "        cLineLimits[l] = @constraint(DCOPF,\n",
    "            FLOW[lines[l,:fromnode],lines[l,:tonode]] <=\n",
    "            lines[l,:capacity]\n",
    "        ) \n",
    "    end\n",
    "\n",
    "    # Solve statement (! indicates runs in place)\n",
    "    optimize!(DCOPF)\n",
    "\n",
    "    # Output variables\n",
    "    generation = DataFrame(\n",
    "        node = gens.connnode,\n",
    "        gen = value.(GEN).data[gens.connnode]\n",
    "        )\n",
    "    \n",
    "    angles = value.(THETA).data\n",
    "    \n",
    "    flows = DataFrame(\n",
    "        fbus = lines.fromnode,\n",
    "        tbus = lines.tonode,\n",
    "        flow = baseMVA * lines.b .* (angles[lines.fromnode] .- \n",
    "                        angles[lines.tonode]))\n",
    "    \n",
    "    # We output the marginal values of the demand constraints, \n",
    "    # which will in fact be the prices to deliver power at a given bus.\n",
    "    prices = DataFrame(\n",
    "        node = N,\n",
    "        value = dual.(cBalance).data)\n",
    "\n",
    "    # Return the solution and objective as named tuple\n",
    "    return (\n",
    "        generation = generation, \n",
    "        angles,\n",
    "        flows,\n",
    "        prices,\n",
    "        cost = objective_value(DCOPF),\n",
    "        status = termination_status(DCOPF),\n",
    "        flows_raw = DataFrame(value.(FLOW).data),\n",
    "        flows_raw_abs = DataFrame(value.(FLOW_abs).data),\n",
    "        losses = DataFrame(\n",
    "            node = N,\n",
    "            associated_loss = value.(eLoss_pos)[1:length(N)])\n",
    "    )\n",
    "end\n"
   ]
  },
  {
   "cell_type": "code",
   "execution_count": 23,
   "metadata": {},
   "outputs": [],
   "source": [
    "# Increase the variable cost of Generator 1 to $30 / MWh\n",
    "#  we use gens_1a dataframe, which already has that\n",
    "\n",
    "# Change all transmission line capacities to 200 MW\n",
    "lines_2 = copy(lines)\n",
    "lines_2.capacity .= 200;\n"
   ]
  },
  {
   "cell_type": "code",
   "execution_count": 24,
   "metadata": {},
   "outputs": [
    {
     "name": "stdout",
     "output_type": "stream",
     "text": [
      "Termination status was OPTIMAL\n",
      "Optimised cost was 6790.0\n"
     ]
    }
   ],
   "source": [
    "# Approximate the quadratic\n",
    "# Current version runs, with no changes \n",
    "solution_2 = dcopf_ieee_lossy(gens_1a, lines_2, loads);\n",
    "print_cost_and_status(solution_2)"
   ]
  },
  {
   "cell_type": "code",
   "execution_count": 25,
   "metadata": {},
   "outputs": [
    {
     "data": {
      "text/html": [
       "<table class=\"data-frame\"><thead><tr><th></th><th>node</th><th>gen</th></tr><tr><th></th><th>Int64</th><th>Float64</th></tr></thead><tbody><p>2 rows × 2 columns</p><tr><th>1</th><td>1</td><td>132.987</td></tr><tr><th>2</th><td>2</td><td>140.0</td></tr></tbody></table>"
      ],
      "text/latex": [
       "\\begin{tabular}{r|cc}\n",
       "\t& node & gen\\\\\n",
       "\t\\hline\n",
       "\t& Int64 & Float64\\\\\n",
       "\t\\hline\n",
       "\t1 & 1 & 132.987 \\\\\n",
       "\t2 & 2 & 140.0 \\\\\n",
       "\\end{tabular}\n"
      ],
      "text/plain": [
       "2×2 DataFrame\n",
       "│ Row │ node  │ gen     │\n",
       "│     │ \u001b[90mInt64\u001b[39m │ \u001b[90mFloat64\u001b[39m │\n",
       "├─────┼───────┼─────────┤\n",
       "│ 1   │ 1     │ 132.987 │\n",
       "│ 2   │ 2     │ 140.0   │"
      ]
     },
     "execution_count": 25,
     "metadata": {},
     "output_type": "execute_result"
    }
   ],
   "source": [
    "# output generation\n",
    "solution_2.generation"
   ]
  },
  {
   "cell_type": "code",
   "execution_count": 26,
   "metadata": {},
   "outputs": [
    {
     "data": {
      "text/html": [
       "<table class=\"data-frame\"><thead><tr><th></th><th>fbus</th><th>tbus</th><th>flow</th></tr><tr><th></th><th>Int64</th><th>Int64</th><th>Float64</th></tr></thead><tbody><p>40 rows × 3 columns</p><tr><th>1</th><td>1</td><td>2</td><td>72.9149</td></tr><tr><th>2</th><td>1</td><td>5</td><td>57.9503</td></tr><tr><th>3</th><td>2</td><td>3</td><td>74.2381</td></tr><tr><th>4</th><td>2</td><td>4</td><td>62.1111</td></tr><tr><th>5</th><td>2</td><td>5</td><td>49.5219</td></tr><tr><th>6</th><td>3</td><td>4</td><td>-21.8997</td></tr><tr><th>7</th><td>4</td><td>5</td><td>-55.5821</td></tr><tr><th>8</th><td>4</td><td>7</td><td>29.2291</td></tr><tr><th>9</th><td>4</td><td>9</td><td>16.7713</td></tr><tr><th>10</th><td>5</td><td>6</td><td>41.6996</td></tr><tr><th>11</th><td>6</td><td>11</td><td>6.07354</td></tr><tr><th>12</th><td>6</td><td>12</td><td>7.51118</td></tr><tr><th>13</th><td>6</td><td>13</td><td>16.9149</td></tr><tr><th>14</th><td>7</td><td>8</td><td>0.0</td></tr><tr><th>15</th><td>7</td><td>9</td><td>29.2291</td></tr><tr><th>16</th><td>9</td><td>10</td><td>6.42646</td></tr><tr><th>17</th><td>9</td><td>14</td><td>10.0739</td></tr><tr><th>18</th><td>10</td><td>11</td><td>-2.57354</td></tr><tr><th>19</th><td>12</td><td>13</td><td>1.41118</td></tr><tr><th>20</th><td>13</td><td>14</td><td>4.82608</td></tr><tr><th>21</th><td>2</td><td>1</td><td>-72.9149</td></tr><tr><th>22</th><td>5</td><td>1</td><td>-57.9503</td></tr><tr><th>23</th><td>3</td><td>2</td><td>-74.2381</td></tr><tr><th>24</th><td>4</td><td>2</td><td>-62.1111</td></tr><tr><th>25</th><td>5</td><td>2</td><td>-49.5219</td></tr><tr><th>26</th><td>4</td><td>3</td><td>21.8997</td></tr><tr><th>27</th><td>5</td><td>4</td><td>55.5821</td></tr><tr><th>28</th><td>7</td><td>4</td><td>-29.2291</td></tr><tr><th>29</th><td>9</td><td>4</td><td>-16.7713</td></tr><tr><th>30</th><td>6</td><td>5</td><td>-41.6996</td></tr><tr><th>&vellip;</th><td>&vellip;</td><td>&vellip;</td><td>&vellip;</td></tr></tbody></table>"
      ],
      "text/latex": [
       "\\begin{tabular}{r|ccc}\n",
       "\t& fbus & tbus & flow\\\\\n",
       "\t\\hline\n",
       "\t& Int64 & Int64 & Float64\\\\\n",
       "\t\\hline\n",
       "\t1 & 1 & 2 & 72.9149 \\\\\n",
       "\t2 & 1 & 5 & 57.9503 \\\\\n",
       "\t3 & 2 & 3 & 74.2381 \\\\\n",
       "\t4 & 2 & 4 & 62.1111 \\\\\n",
       "\t5 & 2 & 5 & 49.5219 \\\\\n",
       "\t6 & 3 & 4 & -21.8997 \\\\\n",
       "\t7 & 4 & 5 & -55.5821 \\\\\n",
       "\t8 & 4 & 7 & 29.2291 \\\\\n",
       "\t9 & 4 & 9 & 16.7713 \\\\\n",
       "\t10 & 5 & 6 & 41.6996 \\\\\n",
       "\t11 & 6 & 11 & 6.07354 \\\\\n",
       "\t12 & 6 & 12 & 7.51118 \\\\\n",
       "\t13 & 6 & 13 & 16.9149 \\\\\n",
       "\t14 & 7 & 8 & 0.0 \\\\\n",
       "\t15 & 7 & 9 & 29.2291 \\\\\n",
       "\t16 & 9 & 10 & 6.42646 \\\\\n",
       "\t17 & 9 & 14 & 10.0739 \\\\\n",
       "\t18 & 10 & 11 & -2.57354 \\\\\n",
       "\t19 & 12 & 13 & 1.41118 \\\\\n",
       "\t20 & 13 & 14 & 4.82608 \\\\\n",
       "\t21 & 2 & 1 & -72.9149 \\\\\n",
       "\t22 & 5 & 1 & -57.9503 \\\\\n",
       "\t23 & 3 & 2 & -74.2381 \\\\\n",
       "\t24 & 4 & 2 & -62.1111 \\\\\n",
       "\t25 & 5 & 2 & -49.5219 \\\\\n",
       "\t26 & 4 & 3 & 21.8997 \\\\\n",
       "\t27 & 5 & 4 & 55.5821 \\\\\n",
       "\t28 & 7 & 4 & -29.2291 \\\\\n",
       "\t29 & 9 & 4 & -16.7713 \\\\\n",
       "\t30 & 6 & 5 & -41.6996 \\\\\n",
       "\t$\\dots$ & $\\dots$ & $\\dots$ & $\\dots$ \\\\\n",
       "\\end{tabular}\n"
      ],
      "text/plain": [
       "40×3 DataFrame\n",
       "│ Row │ fbus  │ tbus  │ flow     │\n",
       "│     │ \u001b[90mInt64\u001b[39m │ \u001b[90mInt64\u001b[39m │ \u001b[90mFloat64\u001b[39m  │\n",
       "├─────┼───────┼───────┼──────────┤\n",
       "│ 1   │ 1     │ 2     │ 72.9149  │\n",
       "│ 2   │ 1     │ 5     │ 57.9503  │\n",
       "│ 3   │ 2     │ 3     │ 74.2381  │\n",
       "│ 4   │ 2     │ 4     │ 62.1111  │\n",
       "│ 5   │ 2     │ 5     │ 49.5219  │\n",
       "│ 6   │ 3     │ 4     │ -21.8997 │\n",
       "│ 7   │ 4     │ 5     │ -55.5821 │\n",
       "│ 8   │ 4     │ 7     │ 29.2291  │\n",
       "│ 9   │ 4     │ 9     │ 16.7713  │\n",
       "│ 10  │ 5     │ 6     │ 41.6996  │\n",
       "⋮\n",
       "│ 30  │ 6     │ 5     │ -41.6996 │\n",
       "│ 31  │ 11    │ 6     │ -6.07354 │\n",
       "│ 32  │ 12    │ 6     │ -7.51118 │\n",
       "│ 33  │ 13    │ 6     │ -16.9149 │\n",
       "│ 34  │ 8     │ 7     │ 0.0      │\n",
       "│ 35  │ 9     │ 7     │ -29.2291 │\n",
       "│ 36  │ 10    │ 9     │ -6.42646 │\n",
       "│ 37  │ 14    │ 9     │ -10.0739 │\n",
       "│ 38  │ 11    │ 10    │ 2.57354  │\n",
       "│ 39  │ 13    │ 12    │ -1.41118 │\n",
       "│ 40  │ 14    │ 13    │ -4.82608 │"
      ]
     },
     "execution_count": 26,
     "metadata": {},
     "output_type": "execute_result"
    }
   ],
   "source": [
    "# output flows\n",
    "solution_2.flows "
   ]
  },
  {
   "cell_type": "code",
   "execution_count": 27,
   "metadata": {},
   "outputs": [
    {
     "data": {
      "text/html": [
       "<table class=\"data-frame\"><thead><tr><th></th><th>node</th><th>associated_loss</th></tr><tr><th></th><th>Int64</th><th>Float64</th></tr></thead><tbody><p>14 rows × 2 columns</p><tr><th>1</th><td>1</td><td>2.82618</td></tr><tr><th>2</th><td>2</td><td>6.26211</td></tr><tr><th>3</th><td>3</td><td>6.9769</td></tr><tr><th>4</th><td>4</td><td>7.21855</td></tr><tr><th>5</th><td>5</td><td>5.64054</td></tr><tr><th>6</th><td>6</td><td>4.42266</td></tr><tr><th>7</th><td>7</td><td>1.48404</td></tr><tr><th>8</th><td>8</td><td>0.0</td></tr><tr><th>9</th><td>9</td><td>0.0</td></tr><tr><th>10</th><td>10</td><td>0.0</td></tr><tr><th>11</th><td>11</td><td>6.26868</td></tr><tr><th>12</th><td>12</td><td>8.11206</td></tr><tr><th>13</th><td>13</td><td>4.3659</td></tr><tr><th>14</th><td>14</td><td>0.0</td></tr></tbody></table>"
      ],
      "text/latex": [
       "\\begin{tabular}{r|cc}\n",
       "\t& node & associated\\_loss\\\\\n",
       "\t\\hline\n",
       "\t& Int64 & Float64\\\\\n",
       "\t\\hline\n",
       "\t1 & 1 & 2.82618 \\\\\n",
       "\t2 & 2 & 6.26211 \\\\\n",
       "\t3 & 3 & 6.9769 \\\\\n",
       "\t4 & 4 & 7.21855 \\\\\n",
       "\t5 & 5 & 5.64054 \\\\\n",
       "\t6 & 6 & 4.42266 \\\\\n",
       "\t7 & 7 & 1.48404 \\\\\n",
       "\t8 & 8 & 0.0 \\\\\n",
       "\t9 & 9 & 0.0 \\\\\n",
       "\t10 & 10 & 0.0 \\\\\n",
       "\t11 & 11 & 6.26868 \\\\\n",
       "\t12 & 12 & 8.11206 \\\\\n",
       "\t13 & 13 & 4.3659 \\\\\n",
       "\t14 & 14 & 0.0 \\\\\n",
       "\\end{tabular}\n"
      ],
      "text/plain": [
       "14×2 DataFrame\n",
       "│ Row │ node  │ associated_loss │\n",
       "│     │ \u001b[90mInt64\u001b[39m │ \u001b[90mFloat64\u001b[39m         │\n",
       "├─────┼───────┼─────────────────┤\n",
       "│ 1   │ 1     │ 2.82618         │\n",
       "│ 2   │ 2     │ 6.26211         │\n",
       "│ 3   │ 3     │ 6.9769          │\n",
       "│ 4   │ 4     │ 7.21855         │\n",
       "│ 5   │ 5     │ 5.64054         │\n",
       "│ 6   │ 6     │ 4.42266         │\n",
       "│ 7   │ 7     │ 1.48404         │\n",
       "│ 8   │ 8     │ 0.0             │\n",
       "│ 9   │ 9     │ 0.0             │\n",
       "│ 10  │ 10    │ 0.0             │\n",
       "│ 11  │ 11    │ 6.26868         │\n",
       "│ 12  │ 12    │ 8.11206         │\n",
       "│ 13  │ 13    │ 4.3659          │\n",
       "│ 14  │ 14    │ 0.0             │"
      ]
     },
     "execution_count": 27,
     "metadata": {},
     "output_type": "execute_result"
    }
   ],
   "source": [
    "# output losses\n",
    "solution_2.losses"
   ]
  },
  {
   "cell_type": "code",
   "execution_count": 28,
   "metadata": {},
   "outputs": [
    {
     "data": {
      "text/html": [
       "<table class=\"data-frame\"><thead><tr><th></th><th>node</th><th>value</th></tr><tr><th></th><th>Int64</th><th>Float64</th></tr></thead><tbody><p>14 rows × 2 columns</p><tr><th>1</th><td>1</td><td>30.0</td></tr><tr><th>2</th><td>2</td><td>31.0351</td></tr><tr><th>3</th><td>3</td><td>34.4923</td></tr><tr><th>4</th><td>4</td><td>34.8189</td></tr><tr><th>5</th><td>5</td><td>34.0158</td></tr><tr><th>6</th><td>6</td><td>34.2889</td></tr><tr><th>7</th><td>7</td><td>34.6749</td></tr><tr><th>8</th><td>8</td><td>34.6749</td></tr><tr><th>9</th><td>9</td><td>34.5992</td></tr><tr><th>10</th><td>10</td><td>34.544</td></tr><tr><th>11</th><td>11</td><td>34.4187</td></tr><tr><th>12</th><td>12</td><td>34.3134</td></tr><tr><th>13</th><td>13</td><td>34.3326</td></tr><tr><th>14</th><td>14</td><td>34.4826</td></tr></tbody></table>"
      ],
      "text/latex": [
       "\\begin{tabular}{r|cc}\n",
       "\t& node & value\\\\\n",
       "\t\\hline\n",
       "\t& Int64 & Float64\\\\\n",
       "\t\\hline\n",
       "\t1 & 1 & 30.0 \\\\\n",
       "\t2 & 2 & 31.0351 \\\\\n",
       "\t3 & 3 & 34.4923 \\\\\n",
       "\t4 & 4 & 34.8189 \\\\\n",
       "\t5 & 5 & 34.0158 \\\\\n",
       "\t6 & 6 & 34.2889 \\\\\n",
       "\t7 & 7 & 34.6749 \\\\\n",
       "\t8 & 8 & 34.6749 \\\\\n",
       "\t9 & 9 & 34.5992 \\\\\n",
       "\t10 & 10 & 34.544 \\\\\n",
       "\t11 & 11 & 34.4187 \\\\\n",
       "\t12 & 12 & 34.3134 \\\\\n",
       "\t13 & 13 & 34.3326 \\\\\n",
       "\t14 & 14 & 34.4826 \\\\\n",
       "\\end{tabular}\n"
      ],
      "text/plain": [
       "14×2 DataFrame\n",
       "│ Row │ node  │ value   │\n",
       "│     │ \u001b[90mInt64\u001b[39m │ \u001b[90mFloat64\u001b[39m │\n",
       "├─────┼───────┼─────────┤\n",
       "│ 1   │ 1     │ 30.0    │\n",
       "│ 2   │ 2     │ 31.0351 │\n",
       "│ 3   │ 3     │ 34.4923 │\n",
       "│ 4   │ 4     │ 34.8189 │\n",
       "│ 5   │ 5     │ 34.0158 │\n",
       "│ 6   │ 6     │ 34.2889 │\n",
       "│ 7   │ 7     │ 34.6749 │\n",
       "│ 8   │ 8     │ 34.6749 │\n",
       "│ 9   │ 9     │ 34.5992 │\n",
       "│ 10  │ 10    │ 34.544  │\n",
       "│ 11  │ 11    │ 34.4187 │\n",
       "│ 12  │ 12    │ 34.3134 │\n",
       "│ 13  │ 13    │ 34.3326 │\n",
       "│ 14  │ 14    │ 34.4826 │"
      ]
     },
     "execution_count": 28,
     "metadata": {},
     "output_type": "execute_result"
    }
   ],
   "source": [
    "# output prices\n",
    "solution_2.prices"
   ]
  },
  {
   "cell_type": "markdown",
   "metadata": {},
   "source": [
    "**B. Interpret results**\n",
    "\n",
    "Run the same parameters in the lossless OPF from problem 1. How do prices and flows change? What is the largest magnitude difference in prices between the solution with losses and the lossless OPF solution?"
   ]
  },
  {
   "cell_type": "code",
   "execution_count": 29,
   "metadata": {},
   "outputs": [
    {
     "name": "stdout",
     "output_type": "stream",
     "text": [
      "Termination status was OPTIMAL\n",
      "Optimised cost was 6370.0\n"
     ]
    }
   ],
   "source": [
    "# Compare to without the losses\n",
    "# Run the same parameters in the lossless OPF from problem 1. \n",
    "# How do prices and flows change? What is the largest magnitude \n",
    "# difference in prices between the solution with losses \n",
    "# and the lossless OPF solution?\n",
    "\n",
    "solution_2_no_losses = dcopf_ieee(gens_1a, lines_2, loads);\n",
    "print_cost_and_status(solution_2_no_losses)"
   ]
  },
  {
   "cell_type": "code",
   "execution_count": 30,
   "metadata": {},
   "outputs": [
    {
     "data": {
      "application/vnd.vegalite.v4+json": {
       "data": {
        "values": [
         {
          "node": 1,
          "price_diff": -8.526512829121202e-14,
          "with_losses": 29.999999999999943,
          "without_losses": 30.00000000000003
         },
         {
          "node": 2,
          "price_diff": 1.0350920960385537,
          "with_losses": 31.035092096038568,
          "without_losses": 30.000000000000014
         },
         {
          "node": 3,
          "price_diff": 4.492299405117983,
          "with_losses": 34.492299405118,
          "without_losses": 30.000000000000014
         },
         {
          "node": 4,
          "price_diff": 4.818925653805728,
          "with_losses": 34.81892565380576,
          "without_losses": 30.000000000000036
         },
         {
          "node": 5,
          "price_diff": 4.015780785548795,
          "with_losses": 34.01578078554881,
          "without_losses": 30.000000000000018
         },
         {
          "node": 6,
          "price_diff": 4.288894353643904,
          "with_losses": 34.28889435364395,
          "without_losses": 30.000000000000043
         },
         {
          "node": 7,
          "price_diff": 4.674927369782353,
          "with_losses": 34.67492736978241,
          "without_losses": 30.000000000000057
         },
         {
          "node": 8,
          "price_diff": 4.674927369782363,
          "with_losses": 34.674927369782424,
          "without_losses": 30.00000000000006
         },
         {
          "node": 9,
          "price_diff": 4.599175403325646,
          "with_losses": 34.5991754033257,
          "without_losses": 30.000000000000057
         },
         {
          "node": 10,
          "price_diff": 4.544032599998378,
          "with_losses": 34.54403259999841,
          "without_losses": 30.000000000000032
         },
         {
          "node": 11,
          "price_diff": 4.418692029168625,
          "with_losses": 34.41869202916868,
          "without_losses": 30.000000000000057
         },
         {
          "node": 12,
          "price_diff": 4.3134127788679315,
          "with_losses": 34.31341277886797,
          "without_losses": 30.00000000000004
         },
         {
          "node": 13,
          "price_diff": 4.3325705242014685,
          "with_losses": 34.33257052420151,
          "without_losses": 30.00000000000004
         },
         {
          "node": 14,
          "price_diff": 4.482609059183268,
          "with_losses": 34.48260905918332,
          "without_losses": 30.00000000000005
         }
        ]
       },
       "encoding": {
        "x": {
         "field": "node",
         "type": "quantitative"
        },
        "y": {
         "field": "price_diff",
         "type": "quantitative"
        }
       },
       "mark": "bar",
       "title": "price in model with losses minus price in model without losses"
      },
      "image/png": "[encoded data removed]",
      "image/svg+xml": [
       "<?xml version=\"1.0\" encoding=\"utf-8\"?>\n",
       "<!DOCTYPE svg PUBLIC \"-//W3C//DTD SVG 1.1//EN\" \"http://www.w3.org/Graphics/SVG/1.1/DTD/svg11.dtd\">\n",
       "<svg class=\"marks\" width=\"406\" height=\"264\" viewBox=\"0 0 406 264\" version=\"1.1\" xmlns=\"http://www.w3.org/2000/svg\" xmlns:xlink=\"http://www.w3.org/1999/xlink\"><rect width=\"406\" height=\"264\" fill=\"white\"></rect><g fill=\"none\" stroke-miterlimit=\"10\" transform=\"translate(103,27)\"><g class=\"mark-group role-frame root\" role=\"graphics-object\" aria-roledescription=\"group mark container\"><g transform=\"translate(0,0)\"><path class=\"background\" aria-hidden=\"true\" d=\"M0.5,0.5h200v200h-200Z\" stroke=\"#ddd\"></path><g><g class=\"mark-group role-axis\" aria-hidden=\"true\"><g transform=\"translate(0.5,200.5)\"><path class=\"background\" aria-hidden=\"true\" d=\"M0,0h0v0h0Z\" pointer-events=\"none\"></path><g><g class=\"mark-rule role-axis-grid\" pointer-events=\"none\"><line transform=\"translate(0,-200)\" x2=\"0\" y2=\"200\" stroke=\"#ddd\" stroke-width=\"1\" opacity=\"1\"></line><line transform=\"translate(63,-200)\" x2=\"0\" y2=\"200\" stroke=\"#ddd\" stroke-width=\"1\" opacity=\"1\"></line><line transform=\"translate(125,-200)\" x2=\"0\" y2=\"200\" stroke=\"#ddd\" stroke-width=\"1\" opacity=\"1\"></line><line transform=\"translate(188,-200)\" x2=\"0\" y2=\"200\" stroke=\"#ddd\" stroke-width=\"1\" opacity=\"1\"></line></g></g><path class=\"foreground\" aria-hidden=\"true\" d=\"\" pointer-events=\"none\" display=\"none\"></path></g></g><g class=\"mark-group role-axis\" aria-hidden=\"true\"><g transform=\"translate(0.5,0.5)\"><path class=\"background\" aria-hidden=\"true\" d=\"M0,0h0v0h0Z\" pointer-events=\"none\"></path><g><g class=\"mark-rule role-axis-grid\" pointer-events=\"none\"><line transform=\"translate(0,182)\" x2=\"200\" y2=\"0\" stroke=\"#ddd\" stroke-width=\"1\" opacity=\"1\"></line><line transform=\"translate(0,145)\" x2=\"200\" y2=\"0\" stroke=\"#ddd\" stroke-width=\"1\" opacity=\"1\"></line><line transform=\"translate(0,109)\" x2=\"200\" y2=\"0\" stroke=\"#ddd\" stroke-width=\"1\" opacity=\"1\"></line><line transform=\"translate(0,73)\" x2=\"200\" y2=\"0\" stroke=\"#ddd\" stroke-width=\"1\" opacity=\"1\"></line><line transform=\"translate(0,36)\" x2=\"200\" y2=\"0\" stroke=\"#ddd\" stroke-width=\"1\" opacity=\"1\"></line><line transform=\"translate(0,0)\" x2=\"200\" y2=\"0\" stroke=\"#ddd\" stroke-width=\"1\" opacity=\"1\"></line></g></g><path class=\"foreground\" aria-hidden=\"true\" d=\"\" pointer-events=\"none\" display=\"none\"></path></g></g><g class=\"mark-group role-axis\" role=\"graphics-symbol\" aria-roledescription=\"axis\" aria-label=\"X-axis titled 'node' for a linear scale with values from 0 to 16\"><g transform=\"translate(0.5,200.5)\"><path class=\"background\" aria-hidden=\"true\" d=\"M0,0h0v0h0Z\" pointer-events=\"none\"></path><g><g class=\"mark-rule role-axis-tick\" pointer-events=\"none\"><line transform=\"translate(0,0)\" x2=\"0\" y2=\"5\" stroke=\"#888\" stroke-width=\"1\" opacity=\"1\"></line><line transform=\"translate(63,0)\" x2=\"0\" y2=\"5\" stroke=\"#888\" stroke-width=\"1\" opacity=\"1\"></line><line transform=\"translate(125,0)\" x2=\"0\" y2=\"5\" stroke=\"#888\" stroke-width=\"1\" opacity=\"1\"></line><line transform=\"translate(188,0)\" x2=\"0\" y2=\"5\" stroke=\"#888\" stroke-width=\"1\" opacity=\"1\"></line></g><g class=\"mark-text role-axis-label\" pointer-events=\"none\"><text text-anchor=\"start\" transform=\"translate(0,15)\" font-family=\"sans-serif\" font-size=\"10px\" fill=\"#000\" opacity=\"1\">0</text><text text-anchor=\"middle\" transform=\"translate(62.5,15)\" font-family=\"sans-serif\" font-size=\"10px\" fill=\"#000\" opacity=\"1\">5</text><text text-anchor=\"middle\" transform=\"translate(125,15)\" font-family=\"sans-serif\" font-size=\"10px\" fill=\"#000\" opacity=\"1\">10</text><text text-anchor=\"middle\" transform=\"translate(187.5,15)\" font-family=\"sans-serif\" font-size=\"10px\" fill=\"#000\" opacity=\"1\">15</text></g><g class=\"mark-rule role-axis-domain\" pointer-events=\"none\"><line transform=\"translate(0,0)\" x2=\"200\" y2=\"0\" stroke=\"#888\" stroke-width=\"1\" opacity=\"1\"></line></g><g class=\"mark-text role-axis-title\" pointer-events=\"none\"><text text-anchor=\"middle\" transform=\"translate(100,30)\" font-family=\"sans-serif\" font-size=\"11px\" font-weight=\"bold\" fill=\"#000\" opacity=\"1\">node</text></g></g><path class=\"foreground\" aria-hidden=\"true\" d=\"\" pointer-events=\"none\" display=\"none\"></path></g></g><g class=\"mark-group role-axis\" role=\"graphics-symbol\" aria-roledescription=\"axis\" aria-label=\"Y-axis titled 'price_diff' for a linear scale with values from -1 to 5\"><g transform=\"translate(0.5,0.5)\"><path class=\"background\" aria-hidden=\"true\" d=\"M0,0h0v0h0Z\" pointer-events=\"none\"></path><g><g class=\"mark-rule role-axis-tick\" pointer-events=\"none\"><line transform=\"translate(0,182)\" x2=\"-5\" y2=\"0\" stroke=\"#888\" stroke-width=\"1\" opacity=\"1\"></line><line transform=\"translate(0,145)\" x2=\"-5\" y2=\"0\" stroke=\"#888\" stroke-width=\"1\" opacity=\"1\"></line><line transform=\"translate(0,109)\" x2=\"-5\" y2=\"0\" stroke=\"#888\" stroke-width=\"1\" opacity=\"1\"></line><line transform=\"translate(0,73)\" x2=\"-5\" y2=\"0\" stroke=\"#888\" stroke-width=\"1\" opacity=\"1\"></line><line transform=\"translate(0,36)\" x2=\"-5\" y2=\"0\" stroke=\"#888\" stroke-width=\"1\" opacity=\"1\"></line><line transform=\"translate(0,0)\" x2=\"-5\" y2=\"0\" stroke=\"#888\" stroke-width=\"1\" opacity=\"1\"></line></g><g class=\"mark-text role-axis-label\" pointer-events=\"none\"><text text-anchor=\"end\" transform=\"translate(-7,184.8181818181818)\" font-family=\"sans-serif\" font-size=\"10px\" fill=\"#000\" opacity=\"1\">0</text><text text-anchor=\"end\" transform=\"translate(-7,148.45454545454547)\" font-family=\"sans-serif\" font-size=\"10px\" fill=\"#000\" opacity=\"1\">1</text><text text-anchor=\"end\" transform=\"translate(-7,112.09090909090908)\" font-family=\"sans-serif\" font-size=\"10px\" fill=\"#000\" opacity=\"1\">2</text><text text-anchor=\"end\" transform=\"translate(-7,75.72727272727273)\" font-family=\"sans-serif\" font-size=\"10px\" fill=\"#000\" opacity=\"1\">3</text><text text-anchor=\"end\" transform=\"translate(-7,39.36363636363635)\" font-family=\"sans-serif\" font-size=\"10px\" fill=\"#000\" opacity=\"1\">4</text><text text-anchor=\"end\" transform=\"translate(-7,3)\" font-family=\"sans-serif\" font-size=\"10px\" fill=\"#000\" opacity=\"1\">5</text></g><g class=\"mark-rule role-axis-domain\" pointer-events=\"none\"><line transform=\"translate(0,200)\" x2=\"0\" y2=\"-200\" stroke=\"#888\" stroke-width=\"1\" opacity=\"1\"></line></g><g class=\"mark-text role-axis-title\" pointer-events=\"none\"><text text-anchor=\"middle\" transform=\"translate(-17,100) rotate(-90) translate(0,-2)\" font-family=\"sans-serif\" font-size=\"11px\" font-weight=\"bold\" fill=\"#000\" opacity=\"1\">price_diff</text></g></g><path class=\"foreground\" aria-hidden=\"true\" d=\"\" pointer-events=\"none\" display=\"none\"></path></g></g><g class=\"mark-rect role-mark marks\" role=\"graphics-object\" aria-roledescription=\"rect mark container\"><path aria-label=\"node: 1; price_diff: -8.52651282912e-14\" role=\"graphics-symbol\" aria-roledescription=\"bar\" d=\"M10,181.8181818181818h5v3.097966327914037e-12h-5Z\" fill=\"#4c78a8\"></path><path aria-label=\"node: 2; price_diff: 1.03509209604\" role=\"graphics-symbol\" aria-roledescription=\"bar\" d=\"M22.5,144.17846923496168h5v37.63971258322013h-5Z\" fill=\"#4c78a8\"></path><path aria-label=\"node: 3; price_diff: 4.49229940512\" role=\"graphics-symbol\" aria-roledescription=\"bar\" d=\"M35,18.461839813891533h5v163.35634200429027h-5Z\" fill=\"#4c78a8\"></path><path aria-label=\"node: 4; price_diff: 4.81892565381\" role=\"graphics-symbol\" aria-roledescription=\"bar\" d=\"M47.5,6.5845216797917105h5v175.2336601383901h-5Z\" fill=\"#4c78a8\"></path><path aria-label=\"node: 5; price_diff: 4.01578078555\" role=\"graphics-symbol\" aria-roledescription=\"bar\" d=\"M60,35.78978961640744h5v146.02839220177438h-5Z\" fill=\"#4c78a8\"></path><path aria-label=\"node: 6; price_diff: 4.28889435364\" role=\"graphics-symbol\" aria-roledescription=\"bar\" d=\"M72.5,25.858387140221662h5v155.95979467796016h-5Z\" fill=\"#4c78a8\"></path><path aria-label=\"node: 7; price_diff: 4.67492736978\" role=\"graphics-symbol\" aria-roledescription=\"bar\" d=\"M85,11.82082291700537h5v169.99735890117645h-5Z\" fill=\"#4c78a8\"></path><path aria-label=\"node: 8; price_diff: 4.67492736978\" role=\"graphics-symbol\" aria-roledescription=\"bar\" d=\"M97.5,11.82082291700497h5v169.99735890117685h-5Z\" fill=\"#4c78a8\"></path><path aria-label=\"node: 9; price_diff: 4.59917540333\" role=\"graphics-symbol\" aria-roledescription=\"bar\" d=\"M110,14.575439879067442h5v167.24274193911438h-5Z\" fill=\"#4c78a8\"></path><path aria-label=\"node: 10; price_diff: 4.5440326\" role=\"graphics-symbol\" aria-roledescription=\"bar\" d=\"M122.5,16.580632727331725h5v165.23754909085008h-5Z\" fill=\"#4c78a8\"></path><path aria-label=\"node: 11; price_diff: 4.41869202917\" role=\"graphics-symbol\" aria-roledescription=\"bar\" d=\"M135,21.13847166659546h5v160.67971015158636h-5Z\" fill=\"#4c78a8\"></path><path aria-label=\"node: 12; price_diff: 4.31341277887\" role=\"graphics-symbol\" aria-roledescription=\"bar\" d=\"M147.5,24.966808041166132h5v156.85137377701568h-5Z\" fill=\"#4c78a8\"></path><path aria-label=\"node: 13; price_diff: 4.3325705242\" role=\"graphics-symbol\" aria-roledescription=\"bar\" d=\"M160,24.270162756310242h5v157.54801906187157h-5Z\" fill=\"#4c78a8\"></path><path aria-label=\"node: 14; price_diff: 4.48260905918\" role=\"graphics-symbol\" aria-roledescription=\"bar\" d=\"M172.5,18.81421602969935h5v163.00396578848247h-5Z\" fill=\"#4c78a8\"></path></g><g class=\"mark-group role-title\"><g transform=\"translate(100,-22)\"><path class=\"background\" aria-hidden=\"true\" d=\"M0,0h0v0h0Z\" pointer-events=\"none\"></path><g><g class=\"mark-text role-title-text\" role=\"graphics-symbol\" aria-roledescription=\"title\" aria-label=\"Title text 'price in model with losses minus price in model without losses'\" pointer-events=\"none\"><text text-anchor=\"middle\" transform=\"translate(0,10)\" font-family=\"sans-serif\" font-size=\"13px\" font-weight=\"bold\" fill=\"#000\" opacity=\"1\">price in model with losses minus price in model without losses</text></g></g><path class=\"foreground\" aria-hidden=\"true\" d=\"\" pointer-events=\"none\" display=\"none\"></path></g></g></g><path class=\"foreground\" aria-hidden=\"true\" d=\"\" display=\"none\"></path></g></g></g></svg>\n"
      ],
      "text/plain": [
       "@vlplot(\n",
       "    title=\"price in model with losses minus price in model without losses\",\n",
       "    mark=\"bar\",\n",
       "    encoding={\n",
       "        x={\n",
       "            field=\"node\"\n",
       "        },\n",
       "        y={\n",
       "            field=\"price_diff\"\n",
       "        }\n",
       "    },\n",
       "    data={\n",
       "        values=...\n",
       "    }\n",
       ")"
      ]
     },
     "execution_count": 30,
     "metadata": {},
     "output_type": "execute_result"
    }
   ],
   "source": [
    "# Plot a comparison of the prices \n",
    "comp_price_df = DataFrame(with_losses = solution_2.prices.value, \n",
    "    without_losses = solution_2_no_losses.prices.value)\n",
    "comp_price_df.price_diff = comp_price_df.with_losses .- comp_price_df.without_losses\n",
    "comp_price_df.node = 1:14\n",
    "comp_price_df |>\n",
    "    @vlplot(:bar, x = :node, y = :price_diff, title = \"price in model with losses minus price in model without losses\")"
   ]
  },
  {
   "cell_type": "code",
   "execution_count": 31,
   "metadata": {},
   "outputs": [
    {
     "data": {
      "application/vnd.vegalite.v4+json": {
       "data": {
        "values": [
         {
          "flow_diff": 8.83698921893236,
          "id": 1,
          "with_losses": 72.9149337311222,
          "without_losses": 64.07794451218984
         },
         {
          "flow_diff": 3.028254863824671,
          "id": 2,
          "with_losses": 57.95031035163512,
          "without_losses": 54.92205548781045
         },
         {
          "flow_diff": 1.4535375195449802,
          "id": 3,
          "with_losses": 74.23812101167775,
          "without_losses": 72.78458349213277
         },
         {
          "flow_diff": 1.1623012134131585,
          "id": 4,
          "with_losses": 62.111060903731705,
          "without_losses": 60.948759690318546
         },
         {
          "flow_diff": 0.877256226956689,
          "id": 5,
          "with_losses": 49.52185755669541,
          "without_losses": 48.64460132973872
         },
         {
          "flow_diff": -0.4842417867936142,
          "id": 6,
          "with_losses": -21.899658294660984,
          "without_losses": -21.41541650786737
         },
         {
          "flow_diff": -1.2443513941054363,
          "id": 7,
          "with_losses": -55.58208659671761,
          "without_losses": -54.33773520261217
         },
         {
          "flow_diff": -0.04492583294971908,
          "id": 8,
          "with_losses": 29.22905981351184,
          "without_losses": 29.273985646461558
         },
         {
          "flow_diff": -0.025777951507144792,
          "id": 9,
          "with_losses": 16.771314787094166,
          "without_losses": 16.79709273860131
         },
         {
          "flow_diff": 0.07070378445688874,
          "id": 10,
          "with_losses": 41.699625399393874,
          "without_losses": 41.628921614936985
         },
         {
          "flow_diff": 0.042576163328219785,
          "id": 11,
          "with_losses": 6.073541825390759,
          "without_losses": 6.030965662062539
         },
         {
          "flow_diff": 0.006253302622002188,
          "id": 12,
          "with_losses": 7.511184905429294,
          "without_losses": 7.504931602807292
         },
         {
          "flow_diff": 0.021874318506366563,
          "id": 13,
          "with_losses": 16.914898668573603,
          "without_losses": 16.893024350067236
         },
         {
          "flow_diff": 0,
          "id": 14,
          "with_losses": 0,
          "without_losses": 0
         },
         {
          "flow_diff": -0.044925832949711975,
          "id": 15,
          "with_losses": 29.229059813511842,
          "without_losses": 29.273985646461554
         },
         {
          "flow_diff": -0.04257616332838765,
          "id": 16,
          "with_losses": 6.426458174609141,
          "without_losses": 6.469034337937528
         },
         {
          "flow_diff": -0.02812762112848688,
          "id": 17,
          "with_losses": 10.07391642599699,
          "without_losses": 10.102044047125476
         },
         {
          "flow_diff": -0.04257616332836456,
          "id": 18,
          "with_losses": -2.5735418253908358,
          "without_losses": -2.530965662062471
         },
         {
          "flow_diff": 0.006253302622022838,
          "id": 19,
          "with_losses": 1.4111849054293346,
          "without_losses": 1.4049316028073118
         },
         {
          "flow_diff": 0.028127621128573033,
          "id": 20,
          "with_losses": 4.826083574003075,
          "without_losses": 4.797955952874502
         }
        ]
       },
       "encoding": {
        "x": {
         "field": "id",
         "type": "quantitative"
        },
        "y": {
         "field": "flow_diff",
         "type": "quantitative"
        }
       },
       "mark": "bar",
       "title": "Flow in model with losses minus flow in baseline"
      },
      "image/png": "[encoded data removed]",
      "image/svg+xml": [
       "<?xml version=\"1.0\" encoding=\"utf-8\"?>\n",
       "<!DOCTYPE svg PUBLIC \"-//W3C//DTD SVG 1.1//EN\" \"http://www.w3.org/Graphics/SVG/1.1/DTD/svg11.dtd\">\n",
       "<svg class=\"marks\" width=\"318\" height=\"259\" viewBox=\"0 0 318 259\" version=\"1.1\" xmlns=\"http://www.w3.org/2000/svg\" xmlns:xlink=\"http://www.w3.org/1999/xlink\"><rect width=\"318\" height=\"259\" fill=\"white\"></rect><g fill=\"none\" stroke-miterlimit=\"10\" transform=\"translate(59,22)\"><g class=\"mark-group role-frame root\" role=\"graphics-object\" aria-roledescription=\"group mark container\"><g transform=\"translate(0,0)\"><path class=\"background\" aria-hidden=\"true\" d=\"M0.5,0.5h200v200h-200Z\" stroke=\"#ddd\"></path><g><g class=\"mark-group role-axis\" aria-hidden=\"true\"><g transform=\"translate(0.5,200.5)\"><path class=\"background\" aria-hidden=\"true\" d=\"M0,0h0v0h0Z\" pointer-events=\"none\"></path><g><g class=\"mark-rule role-axis-grid\" pointer-events=\"none\"><line transform=\"translate(0,-200)\" x2=\"0\" y2=\"200\" stroke=\"#ddd\" stroke-width=\"1\" opacity=\"1\"></line><line transform=\"translate(45,-200)\" x2=\"0\" y2=\"200\" stroke=\"#ddd\" stroke-width=\"1\" opacity=\"1\"></line><line transform=\"translate(91,-200)\" x2=\"0\" y2=\"200\" stroke=\"#ddd\" stroke-width=\"1\" opacity=\"1\"></line><line transform=\"translate(136,-200)\" x2=\"0\" y2=\"200\" stroke=\"#ddd\" stroke-width=\"1\" opacity=\"1\"></line><line transform=\"translate(182,-200)\" x2=\"0\" y2=\"200\" stroke=\"#ddd\" stroke-width=\"1\" opacity=\"1\"></line></g></g><path class=\"foreground\" aria-hidden=\"true\" d=\"\" pointer-events=\"none\" display=\"none\"></path></g></g><g class=\"mark-group role-axis\" aria-hidden=\"true\"><g transform=\"translate(0.5,0.5)\"><path class=\"background\" aria-hidden=\"true\" d=\"M0,0h0v0h0Z\" pointer-events=\"none\"></path><g><g class=\"mark-rule role-axis-grid\" pointer-events=\"none\"><line transform=\"translate(0,200)\" x2=\"200\" y2=\"0\" stroke=\"#ddd\" stroke-width=\"1\" opacity=\"1\"></line><line transform=\"translate(0,164)\" x2=\"200\" y2=\"0\" stroke=\"#ddd\" stroke-width=\"1\" opacity=\"1\"></line><line transform=\"translate(0,127)\" x2=\"200\" y2=\"0\" stroke=\"#ddd\" stroke-width=\"1\" opacity=\"1\"></line><line transform=\"translate(0,91)\" x2=\"200\" y2=\"0\" stroke=\"#ddd\" stroke-width=\"1\" opacity=\"1\"></line><line transform=\"translate(0,55)\" x2=\"200\" y2=\"0\" stroke=\"#ddd\" stroke-width=\"1\" opacity=\"1\"></line><line transform=\"translate(0,18)\" x2=\"200\" y2=\"0\" stroke=\"#ddd\" stroke-width=\"1\" opacity=\"1\"></line></g></g><path class=\"foreground\" aria-hidden=\"true\" d=\"\" pointer-events=\"none\" display=\"none\"></path></g></g><g class=\"mark-group role-axis\" role=\"graphics-symbol\" aria-roledescription=\"axis\" aria-label=\"X-axis titled 'id' for a linear scale with values from 0 to 22\"><g transform=\"translate(0.5,200.5)\"><path class=\"background\" aria-hidden=\"true\" d=\"M0,0h0v0h0Z\" pointer-events=\"none\"></path><g><g class=\"mark-rule role-axis-tick\" pointer-events=\"none\"><line transform=\"translate(0,0)\" x2=\"0\" y2=\"5\" stroke=\"#888\" stroke-width=\"1\" opacity=\"1\"></line><line transform=\"translate(45,0)\" x2=\"0\" y2=\"5\" stroke=\"#888\" stroke-width=\"1\" opacity=\"1\"></line><line transform=\"translate(91,0)\" x2=\"0\" y2=\"5\" stroke=\"#888\" stroke-width=\"1\" opacity=\"1\"></line><line transform=\"translate(136,0)\" x2=\"0\" y2=\"5\" stroke=\"#888\" stroke-width=\"1\" opacity=\"1\"></line><line transform=\"translate(182,0)\" x2=\"0\" y2=\"5\" stroke=\"#888\" stroke-width=\"1\" opacity=\"1\"></line></g><g class=\"mark-text role-axis-label\" pointer-events=\"none\"><text text-anchor=\"start\" transform=\"translate(0,15)\" font-family=\"sans-serif\" font-size=\"10px\" fill=\"#000\" opacity=\"1\">0</text><text text-anchor=\"middle\" transform=\"translate(45.45454545454545,15)\" font-family=\"sans-serif\" font-size=\"10px\" fill=\"#000\" opacity=\"1\">5</text><text text-anchor=\"middle\" transform=\"translate(90.9090909090909,15)\" font-family=\"sans-serif\" font-size=\"10px\" fill=\"#000\" opacity=\"1\">10</text><text text-anchor=\"middle\" transform=\"translate(136.36363636363635,15)\" font-family=\"sans-serif\" font-size=\"10px\" fill=\"#000\" opacity=\"1\">15</text><text text-anchor=\"middle\" transform=\"translate(181.8181818181818,15)\" font-family=\"sans-serif\" font-size=\"10px\" fill=\"#000\" opacity=\"1\">20</text></g><g class=\"mark-rule role-axis-domain\" pointer-events=\"none\"><line transform=\"translate(0,0)\" x2=\"200\" y2=\"0\" stroke=\"#888\" stroke-width=\"1\" opacity=\"1\"></line></g><g class=\"mark-text role-axis-title\" pointer-events=\"none\"><text text-anchor=\"middle\" transform=\"translate(100,30)\" font-family=\"sans-serif\" font-size=\"11px\" font-weight=\"bold\" fill=\"#000\" opacity=\"1\">id</text></g></g><path class=\"foreground\" aria-hidden=\"true\" d=\"\" pointer-events=\"none\" display=\"none\"></path></g></g><g class=\"mark-group role-axis\" role=\"graphics-symbol\" aria-roledescription=\"axis\" aria-label=\"Y-axis titled 'flow_diff' for a linear scale with values from -2 to 9\"><g transform=\"translate(0.5,0.5)\"><path class=\"background\" aria-hidden=\"true\" d=\"M0,0h0v0h0Z\" pointer-events=\"none\"></path><g><g class=\"mark-rule role-axis-tick\" pointer-events=\"none\"><line transform=\"translate(0,200)\" x2=\"-5\" y2=\"0\" stroke=\"#888\" stroke-width=\"1\" opacity=\"1\"></line><line transform=\"translate(0,164)\" x2=\"-5\" y2=\"0\" stroke=\"#888\" stroke-width=\"1\" opacity=\"1\"></line><line transform=\"translate(0,127)\" x2=\"-5\" y2=\"0\" stroke=\"#888\" stroke-width=\"1\" opacity=\"1\"></line><line transform=\"translate(0,91)\" x2=\"-5\" y2=\"0\" stroke=\"#888\" stroke-width=\"1\" opacity=\"1\"></line><line transform=\"translate(0,55)\" x2=\"-5\" y2=\"0\" stroke=\"#888\" stroke-width=\"1\" opacity=\"1\"></line><line transform=\"translate(0,18)\" x2=\"-5\" y2=\"0\" stroke=\"#888\" stroke-width=\"1\" opacity=\"1\"></line></g><g class=\"mark-text role-axis-label\" pointer-events=\"none\"><text text-anchor=\"end\" transform=\"translate(-7,203)\" font-family=\"sans-serif\" font-size=\"10px\" fill=\"#000\" opacity=\"1\">-2</text><text text-anchor=\"end\" transform=\"translate(-7,166.63636363636363)\" font-family=\"sans-serif\" font-size=\"10px\" fill=\"#000\" opacity=\"1\">0</text><text text-anchor=\"end\" transform=\"translate(-7,130.27272727272725)\" font-family=\"sans-serif\" font-size=\"10px\" fill=\"#000\" opacity=\"1\">2</text><text text-anchor=\"end\" transform=\"translate(-7,93.90909090909092)\" font-family=\"sans-serif\" font-size=\"10px\" fill=\"#000\" opacity=\"1\">4</text><text text-anchor=\"end\" transform=\"translate(-7,57.54545454545454)\" font-family=\"sans-serif\" font-size=\"10px\" fill=\"#000\" opacity=\"1\">6</text><text text-anchor=\"end\" transform=\"translate(-7,21.181818181818187)\" font-family=\"sans-serif\" font-size=\"10px\" fill=\"#000\" opacity=\"1\">8</text></g><g class=\"mark-rule role-axis-domain\" pointer-events=\"none\"><line transform=\"translate(0,200)\" x2=\"0\" y2=\"-200\" stroke=\"#888\" stroke-width=\"1\" opacity=\"1\"></line></g><g class=\"mark-text role-axis-title\" pointer-events=\"none\"><text text-anchor=\"middle\" transform=\"translate(-20,100) rotate(-90) translate(0,-2)\" font-family=\"sans-serif\" font-size=\"11px\" font-weight=\"bold\" fill=\"#000\" opacity=\"1\">flow_diff</text></g></g><path class=\"foreground\" aria-hidden=\"true\" d=\"\" pointer-events=\"none\" display=\"none\"></path></g></g><g class=\"mark-rect role-mark marks\" role=\"graphics-object\" aria-roledescription=\"rect mark container\"><path aria-label=\"id: 1; flow_diff: 8.83698921893\" role=\"graphics-symbol\" aria-roledescription=\"bar\" d=\"M6.590909090909092,2.963832383048004h5v160.6725312533156h-5Z\" fill=\"#4c78a8\"></path><path aria-label=\"id: 2; flow_diff: 3.02825486382\" role=\"graphics-symbol\" aria-roledescription=\"bar\" d=\"M15.681818181818183,108.57718429409688h5v55.059179342266745h-5Z\" fill=\"#4c78a8\"></path><path aria-label=\"id: 3; flow_diff: 1.45353751954\" role=\"graphics-symbol\" aria-roledescription=\"bar\" d=\"M24.77272727272727,137.20840873554582h5v26.42795490081781h-5Z\" fill=\"#4c78a8\"></path><path aria-label=\"id: 4; flow_diff: 1.16230121341\" role=\"graphics-symbol\" aria-roledescription=\"bar\" d=\"M33.86363636363637,142.50361430157895h5v21.132749334784677h-5Z\" fill=\"#4c78a8\"></path><path aria-label=\"id: 5; flow_diff: 0.877256226957\" role=\"graphics-symbol\" aria-roledescription=\"bar\" d=\"M42.95454545454545,147.68625041896928h5v15.950113217394346h-5Z\" fill=\"#4c78a8\"></path><path aria-label=\"id: 6; flow_diff: -0.484241786794\" role=\"graphics-symbol\" aria-roledescription=\"bar\" d=\"M52.04545454545454,163.63636363636363h5v8.804396123520263h-5Z\" fill=\"#4c78a8\"></path><path aria-label=\"id: 7; flow_diff: -1.24435139411\" role=\"graphics-symbol\" aria-roledescription=\"bar\" d=\"M61.13636363636363,163.63636363636363h5v22.62457080191703h-5Z\" fill=\"#4c78a8\"></path><path aria-label=\"id: 8; flow_diff: -0.0449258329497\" role=\"graphics-symbol\" aria-roledescription=\"bar\" d=\"M70.22727272727273,163.63636363636363h5v0.8168333263585339h-5Z\" fill=\"#4c78a8\"></path><path aria-label=\"id: 9; flow_diff: -0.0257779515071\" role=\"graphics-symbol\" aria-roledescription=\"bar\" d=\"M79.31818181818183,163.63636363636363h5v0.46869002740263h-5Z\" fill=\"#4c78a8\"></path><path aria-label=\"id: 10; flow_diff: 0.0707037844569\" role=\"graphics-symbol\" aria-roledescription=\"bar\" d=\"M88.4090909090909,162.35084028260204h5v1.2855233537615902h-5Z\" fill=\"#4c78a8\"></path><path aria-label=\"id: 11; flow_diff: 0.0425761633282\" role=\"graphics-symbol\" aria-roledescription=\"bar\" d=\"M97.5,162.86225157585054h5v0.7741120605130902h-5Z\" fill=\"#4c78a8\"></path><path aria-label=\"id: 12; flow_diff: 0.006253302622\" role=\"graphics-symbol\" aria-roledescription=\"bar\" d=\"M106.59090909090908,163.5226672250545h5v0.113696411309121h-5Z\" fill=\"#4c78a8\"></path><path aria-label=\"id: 13; flow_diff: 0.0218743185064\" role=\"graphics-symbol\" aria-roledescription=\"bar\" d=\"M115.68181818181819,163.2386487544297h5v0.397714881933922h-5Z\" fill=\"#4c78a8\"></path><path aria-label=\"id: 14; flow_diff: 0\" role=\"graphics-symbol\" aria-roledescription=\"bar\" d=\"M124.77272727272727,163.63636363636363h5v0h-5Z\" fill=\"#4c78a8\"></path><path aria-label=\"id: 15; flow_diff: -0.0449258329497\" role=\"graphics-symbol\" aria-roledescription=\"bar\" d=\"M133.86363636363635,163.63636363636363h5v0.8168333263584202h-5Z\" fill=\"#4c78a8\"></path><path aria-label=\"id: 16; flow_diff: -0.0425761633284\" role=\"graphics-symbol\" aria-roledescription=\"bar\" d=\"M142.95454545454547,163.63636363636363h5v0.7741120605161598h-5Z\" fill=\"#4c78a8\"></path><path aria-label=\"id: 17; flow_diff: -0.0281276211285\" role=\"graphics-symbol\" aria-roledescription=\"bar\" d=\"M152.04545454545453,163.63636363636363h5v0.5114112932452315h-5Z\" fill=\"#4c78a8\"></path><path aria-label=\"id: 18; flow_diff: -0.0425761633284\" role=\"graphics-symbol\" aria-roledescription=\"bar\" d=\"M161.13636363636365,163.63636363636363h5v0.774112060515705h-5Z\" fill=\"#4c78a8\"></path><path aria-label=\"id: 19; flow_diff: 0.00625330262202\" role=\"graphics-symbol\" aria-roledescription=\"bar\" d=\"M170.22727272727272,163.52266722505414h5v0.11369641130949049h-5Z\" fill=\"#4c78a8\"></path><path aria-label=\"id: 20; flow_diff: 0.0281276211286\" role=\"graphics-symbol\" aria-roledescription=\"bar\" d=\"M179.3181818181818,163.12495234311686h5v0.5114112932467663h-5Z\" fill=\"#4c78a8\"></path></g><g class=\"mark-group role-title\"><g transform=\"translate(100,-17)\"><path class=\"background\" aria-hidden=\"true\" d=\"M0,0h0v0h0Z\" pointer-events=\"none\"></path><g><g class=\"mark-text role-title-text\" role=\"graphics-symbol\" aria-roledescription=\"title\" aria-label=\"Title text 'Flow in model with losses minus flow in baseline'\" pointer-events=\"none\"><text text-anchor=\"middle\" transform=\"translate(0,10)\" font-family=\"sans-serif\" font-size=\"13px\" font-weight=\"bold\" fill=\"#000\" opacity=\"1\">Flow in model with losses minus flow in baseline</text></g></g><path class=\"foreground\" aria-hidden=\"true\" d=\"\" pointer-events=\"none\" display=\"none\"></path></g></g></g><path class=\"foreground\" aria-hidden=\"true\" d=\"\" display=\"none\"></path></g></g></g></svg>\n"
      ],
      "text/plain": [
       "@vlplot(\n",
       "    title=\"Flow in model with losses minus flow in baseline\",\n",
       "    mark=\"bar\",\n",
       "    encoding={\n",
       "        x={\n",
       "            field=\"id\"\n",
       "        },\n",
       "        y={\n",
       "            field=\"flow_diff\"\n",
       "        }\n",
       "    },\n",
       "    data={\n",
       "        values=...\n",
       "    }\n",
       ")"
      ]
     },
     "execution_count": 31,
     "metadata": {},
     "output_type": "execute_result"
    }
   ],
   "source": [
    "# Comparison of flows\n",
    "# Include only one direction differences, since they are just mirror images\n",
    "comp_loss_df = DataFrame(with_losses = solution_2.flows.flow[1:20], \n",
    "    without_losses = solution_2_no_losses.flows.flow[1:20])\n",
    "comp_loss_df.flow_diff = comp_loss_df.with_losses .- comp_loss_df.without_losses\n",
    "comp_loss_df.id = 1:20\n",
    "comp_loss_df |>\n",
    "    @vlplot(:bar, x = :id, y = :flow_diff, \n",
    "    title = \"Flow in model with losses minus flow in baseline\")\n"
   ]
  },
  {
   "cell_type": "code",
   "execution_count": 32,
   "metadata": {},
   "outputs": [
    {
     "data": {
      "text/html": [
       "    <script type=\"text/javascript\">\n",
       "        requirejs([\"https://cdn.plot.ly/plotly-latest.min.js\"], function(p) {\n",
       "            window.Plotly = p\n",
       "        });\n",
       "    </script>\n"
      ]
     },
     "metadata": {},
     "output_type": "display_data"
    },
    {
     "data": {
      "application/vnd.plotly.v1+json": {
       "data": [
        {
         "colorbar": {
          "title": ""
         },
         "hoverinfo": "text",
         "legendgroup": "lines",
         "marker": {
          "color": "rgba(0, 154, 250, 1.000)",
          "line": {
           "color": "rgba(0, 0, 0, 1.000)",
           "width": 1
          },
          "size": 8,
          "symbol": "circle"
         },
         "mode": "markers",
         "name": "lines",
         "showlegend": true,
         "text": [
          null,
          null,
          null,
          null,
          null,
          null,
          null,
          null,
          null,
          null,
          null,
          null,
          null,
          null,
          null,
          null,
          null,
          null,
          null,
          null
         ],
         "type": "scatter",
         "x": [
          72.9149337311222,
          57.95031035163512,
          74.23812101167775,
          62.111060903731705,
          49.52185755669541,
          -21.899658294660984,
          -55.58208659671761,
          29.22905981351184,
          16.771314787094166,
          41.699625399393874,
          6.073541825390759,
          7.511184905429294,
          16.914898668573603,
          0,
          29.229059813511842,
          6.426458174609141,
          10.07391642599699,
          -2.5735418253908358,
          1.4111849054293346,
          4.826083574003075
         ],
         "xaxis": "x1",
         "y": [
          8.83698921893236,
          3.028254863824671,
          1.4535375195449802,
          1.1623012134131585,
          0.877256226956689,
          -0.4842417867936142,
          -1.2443513941054363,
          -0.04492583294971908,
          -0.025777951507144792,
          0.07070378445688874,
          0.042576163328219785,
          0.006253302622002188,
          0.021874318506366563,
          0,
          -0.044925832949711975,
          -0.04257616332838765,
          -0.02812762112848688,
          -0.04257616332836456,
          0.006253302622022838,
          0.028127621128573033
         ],
         "yaxis": "y1",
         "zmax": null,
         "zmin": null
        }
       ],
       "layout": {
        "annotations": [],
        "height": 400,
        "legend": {
         "bgcolor": "rgba(255, 255, 255, 1.000)",
         "bordercolor": "rgba(0, 0, 0, 1.000)",
         "font": {
          "color": "rgba(0, 0, 0, 1.000)",
          "family": "sans-serif",
          "size": 11
         },
         "tracegroupgap": 0,
         "x": 1,
         "y": 1
        },
        "margin": {
         "b": 20,
         "l": 0,
         "r": 0,
         "t": 20
        },
        "paper_bgcolor": "rgba(255, 255, 255, 1.000)",
        "plot_bgcolor": "rgba(255, 255, 255, 1.000)",
        "showlegend": true,
        "width": 600,
        "xaxis": {
         "anchor": "y1",
         "domain": [
          0.04683945756780402,
          0.9934383202099739
         ],
         "gridcolor": "rgba(0, 0, 0, 0.100)",
         "gridwidth": 0.5,
         "linecolor": "rgba(0, 0, 0, 1.000)",
         "mirror": false,
         "range": [
          -59.47669282496947,
          78.13272723992961
         ],
         "showgrid": true,
         "showline": true,
         "showticklabels": true,
         "tickangle": 0,
         "tickcolor": "rgb(0, 0, 0)",
         "tickfont": {
          "color": "rgba(0, 0, 0, 1.000)",
          "family": "sans-serif",
          "size": 11
         },
         "tickmode": "array",
         "ticks": "inside",
         "ticktext": [
          "-40",
          "-20",
          "0",
          "20",
          "40",
          "60"
         ],
         "tickvals": [
          -40,
          -20,
          0,
          20,
          40,
          60
         ],
         "title": "Level of flow in solution with losses",
         "titlefont": {
          "color": "rgba(0, 0, 0, 1.000)",
          "family": "sans-serif",
          "size": 15
         },
         "type": "-",
         "visible": true,
         "zeroline": false,
         "zerolinecolor": "rgba(0, 0, 0, 1.000)"
        },
        "yaxis": {
         "anchor": "x1",
         "domain": [
          0.07581474190726165,
          0.9901574803149606
         ],
         "gridcolor": "rgba(0, 0, 0, 0.100)",
         "gridwidth": 0.5,
         "linecolor": "rgba(0, 0, 0, 1.000)",
         "mirror": false,
         "range": [
          -1.5467916124965702,
          9.139429437323493
         ],
         "showgrid": true,
         "showline": true,
         "showticklabels": true,
         "tickangle": 0,
         "tickcolor": "rgb(0, 0, 0)",
         "tickfont": {
          "color": "rgba(0, 0, 0, 1.000)",
          "family": "sans-serif",
          "size": 11
         },
         "tickmode": "array",
         "ticks": "inside",
         "ticktext": [
          "0",
          "2",
          "4",
          "6",
          "8"
         ],
         "tickvals": [
          0,
          2,
          4,
          6,
          8
         ],
         "title": "Change in flow compared to baseline",
         "titlefont": {
          "color": "rgba(0, 0, 0, 1.000)",
          "family": "sans-serif",
          "size": 15
         },
         "type": "-",
         "visible": true,
         "zeroline": false,
         "zerolinecolor": "rgba(0, 0, 0, 1.000)"
        }
       }
      },
      "text/html": [
       "<!DOCTYPE html>\n",
       "<html>\n",
       "    <head>\n",
       "        <title>Plots.jl</title>\n",
       "        <meta http-equiv=\"content-type\" content=\"text/html; charset=UTF-8\">\n",
       "        <script src=\"https://cdn.plot.ly/plotly-latest.min.js\"></script>\n",
       "    </head>\n",
       "    <body>\n",
       "            <div id=\"63a3507e-0533-4977-b388-4cdff177444c\" style=\"width:600px;height:400px;\"></div>\n",
       "    <script>\n",
       "    PLOT = document.getElementById('63a3507e-0533-4977-b388-4cdff177444c');\n",
       "    Plotly.plot(PLOT, [\n",
       "    {\n",
       "        \"xaxis\": \"x1\",\n",
       "        \"colorbar\": {\n",
       "            \"title\": \"\"\n",
       "        },\n",
       "        \"yaxis\": \"y1\",\n",
       "        \"text\": [\n",
       "            null,\n",
       "            null,\n",
       "            null,\n",
       "            null,\n",
       "            null,\n",
       "            null,\n",
       "            null,\n",
       "            null,\n",
       "            null,\n",
       "            null,\n",
       "            null,\n",
       "            null,\n",
       "            null,\n",
       "            null,\n",
       "            null,\n",
       "            null,\n",
       "            null,\n",
       "            null,\n",
       "            null,\n",
       "            null\n",
       "        ],\n",
       "        \"x\": [\n",
       "            72.9149337311222,\n",
       "            57.95031035163512,\n",
       "            74.23812101167775,\n",
       "            62.111060903731705,\n",
       "            49.52185755669541,\n",
       "            -21.899658294660984,\n",
       "            -55.58208659671761,\n",
       "            29.22905981351184,\n",
       "            16.771314787094166,\n",
       "            41.699625399393874,\n",
       "            6.073541825390759,\n",
       "            7.511184905429294,\n",
       "            16.914898668573603,\n",
       "            0.0,\n",
       "            29.229059813511842,\n",
       "            6.426458174609141,\n",
       "            10.07391642599699,\n",
       "            -2.5735418253908358,\n",
       "            1.4111849054293346,\n",
       "            4.826083574003075\n",
       "        ],\n",
       "        \"showlegend\": true,\n",
       "        \"mode\": \"markers\",\n",
       "        \"name\": \"lines\",\n",
       "        \"zmin\": null,\n",
       "        \"legendgroup\": \"lines\",\n",
       "        \"marker\": {\n",
       "            \"symbol\": \"circle\",\n",
       "            \"color\": \"rgba(0, 154, 250, 1.000)\",\n",
       "            \"line\": {\n",
       "                \"color\": \"rgba(0, 0, 0, 1.000)\",\n",
       "                \"width\": 1\n",
       "            },\n",
       "            \"size\": 8\n",
       "        },\n",
       "        \"zmax\": null,\n",
       "        \"y\": [\n",
       "            8.83698921893236,\n",
       "            3.028254863824671,\n",
       "            1.4535375195449802,\n",
       "            1.1623012134131585,\n",
       "            0.877256226956689,\n",
       "            -0.4842417867936142,\n",
       "            -1.2443513941054363,\n",
       "            -0.04492583294971908,\n",
       "            -0.025777951507144792,\n",
       "            0.07070378445688874,\n",
       "            0.042576163328219785,\n",
       "            0.006253302622002188,\n",
       "            0.021874318506366563,\n",
       "            0.0,\n",
       "            -0.044925832949711975,\n",
       "            -0.04257616332838765,\n",
       "            -0.02812762112848688,\n",
       "            -0.04257616332836456,\n",
       "            0.006253302622022838,\n",
       "            0.028127621128573033\n",
       "        ],\n",
       "        \"type\": \"scatter\",\n",
       "        \"hoverinfo\": \"text\"\n",
       "    }\n",
       "]\n",
       ", {\n",
       "    \"showlegend\": true,\n",
       "    \"xaxis\": {\n",
       "        \"showticklabels\": true,\n",
       "        \"gridwidth\": 0.5,\n",
       "        \"tickvals\": [\n",
       "            -40.0,\n",
       "            -20.0,\n",
       "            0.0,\n",
       "            20.0,\n",
       "            40.0,\n",
       "            60.0\n",
       "        ],\n",
       "        \"visible\": true,\n",
       "        \"ticks\": \"inside\",\n",
       "        \"range\": [\n",
       "            -59.47669282496947,\n",
       "            78.13272723992961\n",
       "        ],\n",
       "        \"domain\": [\n",
       "            0.04683945756780402,\n",
       "            0.9934383202099739\n",
       "        ],\n",
       "        \"tickmode\": \"array\",\n",
       "        \"linecolor\": \"rgba(0, 0, 0, 1.000)\",\n",
       "        \"showgrid\": true,\n",
       "        \"title\": \"Level of flow in solution with losses\",\n",
       "        \"mirror\": false,\n",
       "        \"tickangle\": 0,\n",
       "        \"showline\": true,\n",
       "        \"gridcolor\": \"rgba(0, 0, 0, 0.100)\",\n",
       "        \"titlefont\": {\n",
       "            \"color\": \"rgba(0, 0, 0, 1.000)\",\n",
       "            \"family\": \"sans-serif\",\n",
       "            \"size\": 15\n",
       "        },\n",
       "        \"tickcolor\": \"rgb(0, 0, 0)\",\n",
       "        \"ticktext\": [\n",
       "            \"-40\",\n",
       "            \"-20\",\n",
       "            \"0\",\n",
       "            \"20\",\n",
       "            \"40\",\n",
       "            \"60\"\n",
       "        ],\n",
       "        \"zeroline\": false,\n",
       "        \"type\": \"-\",\n",
       "        \"tickfont\": {\n",
       "            \"color\": \"rgba(0, 0, 0, 1.000)\",\n",
       "            \"family\": \"sans-serif\",\n",
       "            \"size\": 11\n",
       "        },\n",
       "        \"zerolinecolor\": \"rgba(0, 0, 0, 1.000)\",\n",
       "        \"anchor\": \"y1\"\n",
       "    },\n",
       "    \"paper_bgcolor\": \"rgba(255, 255, 255, 1.000)\",\n",
       "    \"annotations\": [],\n",
       "    \"height\": 400,\n",
       "    \"margin\": {\n",
       "        \"l\": 0,\n",
       "        \"b\": 20,\n",
       "        \"r\": 0,\n",
       "        \"t\": 20\n",
       "    },\n",
       "    \"plot_bgcolor\": \"rgba(255, 255, 255, 1.000)\",\n",
       "    \"yaxis\": {\n",
       "        \"showticklabels\": true,\n",
       "        \"gridwidth\": 0.5,\n",
       "        \"tickvals\": [\n",
       "            0.0,\n",
       "            2.0,\n",
       "            4.0,\n",
       "            6.0,\n",
       "            8.0\n",
       "        ],\n",
       "        \"visible\": true,\n",
       "        \"ticks\": \"inside\",\n",
       "        \"range\": [\n",
       "            -1.5467916124965702,\n",
       "            9.139429437323493\n",
       "        ],\n",
       "        \"domain\": [\n",
       "            0.07581474190726165,\n",
       "            0.9901574803149606\n",
       "        ],\n",
       "        \"tickmode\": \"array\",\n",
       "        \"linecolor\": \"rgba(0, 0, 0, 1.000)\",\n",
       "        \"showgrid\": true,\n",
       "        \"title\": \"Change in flow compared to baseline\",\n",
       "        \"mirror\": false,\n",
       "        \"tickangle\": 0,\n",
       "        \"showline\": true,\n",
       "        \"gridcolor\": \"rgba(0, 0, 0, 0.100)\",\n",
       "        \"titlefont\": {\n",
       "            \"color\": \"rgba(0, 0, 0, 1.000)\",\n",
       "            \"family\": \"sans-serif\",\n",
       "            \"size\": 15\n",
       "        },\n",
       "        \"tickcolor\": \"rgb(0, 0, 0)\",\n",
       "        \"ticktext\": [\n",
       "            \"0\",\n",
       "            \"2\",\n",
       "            \"4\",\n",
       "            \"6\",\n",
       "            \"8\"\n",
       "        ],\n",
       "        \"zeroline\": false,\n",
       "        \"type\": \"-\",\n",
       "        \"tickfont\": {\n",
       "            \"color\": \"rgba(0, 0, 0, 1.000)\",\n",
       "            \"family\": \"sans-serif\",\n",
       "            \"size\": 11\n",
       "        },\n",
       "        \"zerolinecolor\": \"rgba(0, 0, 0, 1.000)\",\n",
       "        \"anchor\": \"x1\"\n",
       "    },\n",
       "    \"legend\": {\n",
       "        \"tracegroupgap\": 0,\n",
       "        \"bordercolor\": \"rgba(0, 0, 0, 1.000)\",\n",
       "        \"bgcolor\": \"rgba(255, 255, 255, 1.000)\",\n",
       "        \"font\": {\n",
       "            \"color\": \"rgba(0, 0, 0, 1.000)\",\n",
       "            \"family\": \"sans-serif\",\n",
       "            \"size\": 11\n",
       "        },\n",
       "        \"y\": 1.0,\n",
       "        \"x\": 1.0\n",
       "    },\n",
       "    \"width\": 600\n",
       "}\n",
       ");\n",
       "    </script>\n",
       "\n",
       "    </body>\n",
       "</html>\n"
      ]
     },
     "execution_count": 32,
     "metadata": {},
     "output_type": "execute_result"
    }
   ],
   "source": [
    "# Check the correlation between levels of flow and losses\n",
    "\n",
    "scatter(solution_2.flows.flow[1:20], comp_loss_df.flow_diff, label = \"lines\")\n",
    "xaxis!(\"Level of flow in solution with losses\")\n",
    "yaxis!(\"Change in flow compared to baseline\")"
   ]
  },
  {
   "cell_type": "code",
   "execution_count": 33,
   "metadata": {},
   "outputs": [
    {
     "data": {
      "text/plain": [
       "0.6521689436638195"
      ]
     },
     "execution_count": 33,
     "metadata": {},
     "output_type": "execute_result"
    }
   ],
   "source": [
    "# Check correlation statistic - its high and positive\n",
    "cor(solution_2.flows.flow[1:20], comp_loss_df.flow_diff)"
   ]
  },
  {
   "cell_type": "markdown",
   "metadata": {},
   "source": [
    "#### How do prices and flows change? What is the largest magnitude difference in prices between the solution with losses and the lossless OPF solution?\n",
    "- Losses increase the system prices at all nodes, except node 1 where they are unnafacted\n",
    "    - They are not affected at node 1, because this getting extra generation here \n",
    "    doesn't require transporting energy across more lines, and therefore doesn't \n",
    "    incurr any losses. \n",
    "    - Prices increase due to the additional generation required to meet the losses as well\n",
    "as the demand. We can think of this change as increasing the net demand of the system. \n",
    "- The largest magnitude in price difference is at node 4. \n",
    "    - This reflects the high losses experiened in getting load to node, and the associated congestion rents. \n",
    "- The biggest changes in flows are associated with lines that have large magnitudes of flow.\n",
    "    - This is because losses are an increasing function of the absolute value of flow. "
   ]
  },
  {
   "cell_type": "markdown",
   "metadata": {},
   "source": [
    "## Question 3 - Security contingencies\n",
    "\n",
    "Power system operators need to ensure that power is delivered reliably even in the event of unexpected outages (**contingencies**). One common contigency that must be planned for is the loss of a transmission line. The security-constrained OPF (SCOPF) run by operators solves for an optimal dispatch that is simultaneously robust (i.e., feasible) to each of the lines failing individually. This is what is known as **N-1 security**, because we assume that at most one component fails in any given scenario.\n",
    "\n",
    "In this problem, we will not code a full SCOPF, but rather investigate what happens to the feasibility of our problem when we remove transmission lines.\n",
    "\n",
    "**A. Setup data**\n",
    "\n",
    "The following code loads the original dataset (with one row per line) and includes a function `format_lines` that converts this to a format that our solver function can use (duplicating rows for both directions, adding susceptance, etc.)."
   ]
  },
  {
   "cell_type": "code",
   "execution_count": 34,
   "metadata": {},
   "outputs": [
    {
     "data": {
      "text/plain": [
       "format_lines (generic function with 1 method)"
      ]
     },
     "execution_count": 34,
     "metadata": {},
     "output_type": "execute_result"
    }
   ],
   "source": [
    "lines = CSV.read(joinpath(datadir,\"Tran14.csv\"), DataFrame);\n",
    "rename!(lines,lowercase.(names(lines)))\n",
    "\n",
    "function format_lines(lines)\n",
    "    # create line ids \n",
    "    lines.id = 1:nrow(lines);\n",
    "    # add set of rows for reverse direction with same parameters\n",
    "    lines2 = copy(lines)\n",
    "    lines2.f = lines2.fromnode\n",
    "    lines2.fromnode = lines.tonode\n",
    "    lines2.tonode = lines2.f\n",
    "    lines2 = lines2[:,names(lines)]\n",
    "    append!(lines,lines2)\n",
    "\n",
    "    # calculate simple susceptance, ignoring resistance as earlier \n",
    "    lines.b = 1 ./ lines.reactance\n",
    "    return(lines)\n",
    "end"
   ]
  },
  {
   "cell_type": "markdown",
   "metadata": {},
   "source": [
    "Next:\n",
    "\n",
    "1. Set the capacity of all lines in the system at 100 MW, except for the line $l_{12}$, which you should set to 200 MW.\n",
    "\n",
    "2. Create a load dataframe `loads_sens` that increases demands everywhere by 10\\%"
   ]
  },
  {
   "cell_type": "code",
   "execution_count": 35,
   "metadata": {},
   "outputs": [],
   "source": [
    "# 1. Set the capacity of all lines in the system at 100 MW, \n",
    "# except for the line $l_{12}$, which you should set to 200 MW.\n",
    "lines.capacity = 100\n",
    "lines.capacity[(lines.fromnode .== 1).&(lines.tonode .== 2)] .= 200;"
   ]
  },
  {
   "cell_type": "code",
   "execution_count": 36,
   "metadata": {},
   "outputs": [],
   "source": [
    "# 2. Create a load dataframe loads_sens that increases demands everywhere by 10%\n",
    "loads_sens = copy(loads) |>\n",
    "    @mutate(demand = _.demand * 1.1) |>\n",
    "    DataFrame;"
   ]
  },
  {
   "cell_type": "markdown",
   "metadata": {},
   "source": [
    "**B. Loop over line contingencies**\n",
    "\n",
    "Create a dataframe `status` with the `fromnode` and `tonode` columns of `lines`.\n",
    "\n",
    "Create a [for loop](https://docs.julialang.org/en/v1/manual/control-flow/#man-loops) that iterates over each line and:\n",
    "- sets the reactance to be a very high value, 1e9 (i.e., no power will be transmitted)\n",
    "- creates a version of the dataframe that our solver function can use via `format_lines`\n",
    "- runs DCOPF\n",
    "- stores the solution status in a `opf` column in the corresponding row of the `status` dataframe\n",
    "\n",
    "Show the `status` results."
   ]
  },
  {
   "cell_type": "code",
   "execution_count": 37,
   "metadata": {},
   "outputs": [],
   "source": [
    "# Create a dataframe status with the fromnode and tonode columns of lines.\n",
    "status = DataFrame(fromnode = lines.fromnode, tonode = lines.tonode)\n",
    "status.id = 1:nrow(status)\n",
    "status.opf = \"\";"
   ]
  },
  {
   "cell_type": "code",
   "execution_count": 38,
   "metadata": {},
   "outputs": [],
   "source": [
    "# Create a for loop that iterates over each line and:\n",
    "# - sets the reactance to be a very high value, 1e9 (i.e., no power will be transmitted)\n",
    "# - creates a version of the dataframe that our \n",
    "    # solver function can use via `format_lines`\n",
    "# - runs DCOPF\n",
    "# - stores the solution status in a `opf` column in the corresponding \n",
    "    # row of the `status` dataframe\n",
    "\n",
    "for i in 1:nrow(status)\n",
    "    lines_vals = copy(lines)\n",
    "    lines_vals.reactance[i] = 10000000000\n",
    "    lines_vals = format_lines(lines_vals)\n",
    "    solution = dcopf_ieee(gens, lines_vals, loads_sens)\n",
    "    status.opf[i] = string(solution.status)\n",
    "end"
   ]
  },
  {
   "cell_type": "code",
   "execution_count": 39,
   "metadata": {},
   "outputs": [
    {
     "data": {
      "text/html": [
       "<table class=\"data-frame\"><thead><tr><th></th><th>fromnode</th><th>tonode</th><th>id</th><th>opf</th></tr><tr><th></th><th>Int64</th><th>Int64</th><th>Int64</th><th>String</th></tr></thead><tbody><p>20 rows × 4 columns</p><tr><th>1</th><td>1</td><td>2</td><td>1</td><td>INFEASIBLE</td></tr><tr><th>2</th><td>1</td><td>5</td><td>2</td><td>OPTIMAL</td></tr><tr><th>3</th><td>2</td><td>3</td><td>3</td><td>INFEASIBLE</td></tr><tr><th>4</th><td>2</td><td>4</td><td>4</td><td>INFEASIBLE</td></tr><tr><th>5</th><td>2</td><td>5</td><td>5</td><td>OPTIMAL</td></tr><tr><th>6</th><td>3</td><td>4</td><td>6</td><td>INFEASIBLE</td></tr><tr><th>7</th><td>4</td><td>5</td><td>7</td><td>OPTIMAL</td></tr><tr><th>8</th><td>4</td><td>7</td><td>8</td><td>OPTIMAL</td></tr><tr><th>9</th><td>4</td><td>9</td><td>9</td><td>OPTIMAL</td></tr><tr><th>10</th><td>5</td><td>6</td><td>10</td><td>OPTIMAL</td></tr><tr><th>11</th><td>6</td><td>11</td><td>11</td><td>OPTIMAL</td></tr><tr><th>12</th><td>6</td><td>12</td><td>12</td><td>OPTIMAL</td></tr><tr><th>13</th><td>6</td><td>13</td><td>13</td><td>OPTIMAL</td></tr><tr><th>14</th><td>7</td><td>8</td><td>14</td><td>DUAL_INFEASIBLE</td></tr><tr><th>15</th><td>7</td><td>9</td><td>15</td><td>OPTIMAL</td></tr><tr><th>16</th><td>9</td><td>10</td><td>16</td><td>OPTIMAL</td></tr><tr><th>17</th><td>9</td><td>14</td><td>17</td><td>OPTIMAL</td></tr><tr><th>18</th><td>10</td><td>11</td><td>18</td><td>OPTIMAL</td></tr><tr><th>19</th><td>12</td><td>13</td><td>19</td><td>OPTIMAL</td></tr><tr><th>20</th><td>13</td><td>14</td><td>20</td><td>OPTIMAL</td></tr></tbody></table>"
      ],
      "text/latex": [
       "\\begin{tabular}{r|cccc}\n",
       "\t& fromnode & tonode & id & opf\\\\\n",
       "\t\\hline\n",
       "\t& Int64 & Int64 & Int64 & String\\\\\n",
       "\t\\hline\n",
       "\t1 & 1 & 2 & 1 & INFEASIBLE \\\\\n",
       "\t2 & 1 & 5 & 2 & OPTIMAL \\\\\n",
       "\t3 & 2 & 3 & 3 & INFEASIBLE \\\\\n",
       "\t4 & 2 & 4 & 4 & INFEASIBLE \\\\\n",
       "\t5 & 2 & 5 & 5 & OPTIMAL \\\\\n",
       "\t6 & 3 & 4 & 6 & INFEASIBLE \\\\\n",
       "\t7 & 4 & 5 & 7 & OPTIMAL \\\\\n",
       "\t8 & 4 & 7 & 8 & OPTIMAL \\\\\n",
       "\t9 & 4 & 9 & 9 & OPTIMAL \\\\\n",
       "\t10 & 5 & 6 & 10 & OPTIMAL \\\\\n",
       "\t11 & 6 & 11 & 11 & OPTIMAL \\\\\n",
       "\t12 & 6 & 12 & 12 & OPTIMAL \\\\\n",
       "\t13 & 6 & 13 & 13 & OPTIMAL \\\\\n",
       "\t14 & 7 & 8 & 14 & DUAL\\_INFEASIBLE \\\\\n",
       "\t15 & 7 & 9 & 15 & OPTIMAL \\\\\n",
       "\t16 & 9 & 10 & 16 & OPTIMAL \\\\\n",
       "\t17 & 9 & 14 & 17 & OPTIMAL \\\\\n",
       "\t18 & 10 & 11 & 18 & OPTIMAL \\\\\n",
       "\t19 & 12 & 13 & 19 & OPTIMAL \\\\\n",
       "\t20 & 13 & 14 & 20 & OPTIMAL \\\\\n",
       "\\end{tabular}\n"
      ],
      "text/plain": [
       "20×4 DataFrame\n",
       "│ Row │ fromnode │ tonode │ id    │ opf             │\n",
       "│     │ \u001b[90mInt64\u001b[39m    │ \u001b[90mInt64\u001b[39m  │ \u001b[90mInt64\u001b[39m │ \u001b[90mString\u001b[39m          │\n",
       "├─────┼──────────┼────────┼───────┼─────────────────┤\n",
       "│ 1   │ 1        │ 2      │ 1     │ INFEASIBLE      │\n",
       "│ 2   │ 1        │ 5      │ 2     │ OPTIMAL         │\n",
       "│ 3   │ 2        │ 3      │ 3     │ INFEASIBLE      │\n",
       "│ 4   │ 2        │ 4      │ 4     │ INFEASIBLE      │\n",
       "│ 5   │ 2        │ 5      │ 5     │ OPTIMAL         │\n",
       "│ 6   │ 3        │ 4      │ 6     │ INFEASIBLE      │\n",
       "│ 7   │ 4        │ 5      │ 7     │ OPTIMAL         │\n",
       "│ 8   │ 4        │ 7      │ 8     │ OPTIMAL         │\n",
       "│ 9   │ 4        │ 9      │ 9     │ OPTIMAL         │\n",
       "│ 10  │ 5        │ 6      │ 10    │ OPTIMAL         │\n",
       "│ 11  │ 6        │ 11     │ 11    │ OPTIMAL         │\n",
       "│ 12  │ 6        │ 12     │ 12    │ OPTIMAL         │\n",
       "│ 13  │ 6        │ 13     │ 13    │ OPTIMAL         │\n",
       "│ 14  │ 7        │ 8      │ 14    │ DUAL_INFEASIBLE │\n",
       "│ 15  │ 7        │ 9      │ 15    │ OPTIMAL         │\n",
       "│ 16  │ 9        │ 10     │ 16    │ OPTIMAL         │\n",
       "│ 17  │ 9        │ 14     │ 17    │ OPTIMAL         │\n",
       "│ 18  │ 10       │ 11     │ 18    │ OPTIMAL         │\n",
       "│ 19  │ 12       │ 13     │ 19    │ OPTIMAL         │\n",
       "│ 20  │ 13       │ 14     │ 20    │ OPTIMAL         │"
      ]
     },
     "execution_count": 39,
     "metadata": {},
     "output_type": "execute_result"
    }
   ],
   "source": [
    "# show the status results\n",
    "status"
   ]
  },
  {
   "cell_type": "markdown",
   "metadata": {},
   "source": [
    "**3. Interpret results**\n",
    "\n",
    "Are all of the cases feasible? If not, how many are infeasible? "
   ]
  },
  {
   "cell_type": "code",
   "execution_count": 40,
   "metadata": {},
   "outputs": [
    {
     "name": "stdout",
     "output_type": "stream",
     "text": [
      "15 out of the 20 are feasible\n"
     ]
    }
   ],
   "source": [
    "# Are all of the cases feasible? If not, how many are infeasible? \n",
    "println(string(length(status.opf[status.opf .== \"OPTIMAL\"])) * \n",
    "    \" out of the 20 are feasible\")"
   ]
  },
  {
   "cell_type": "markdown",
   "metadata": {},
   "source": [
    "Pick two cases where the solution gives a different status. (For our purposes, dual infeasible and primal infeasible are the same.) What is happening here?\n",
    "\n",
    "Given this, do you conclude that the system with the assumed transmission line ratings is secure as-is, or do we need to add more redundancy to the system?"
   ]
  },
  {
   "cell_type": "markdown",
   "metadata": {},
   "source": [
    "##### Pick two cases where the solution gives a different status. (For our purposes, dual infeasible and primal infeasible are the same.) What is happening here?\n",
    "\n",
    "Consider cases in the first two rows of the status dataframe\n",
    "- In the first row, we have an infeasible solution. This is when we eliminate the \n",
    "line connecting nodes 1 and 2. \n",
    "    - Eliminating this line reduces the ability of generator 1 to supply the system. \n",
    "    - Hence, it becomes impossible to supply the system, given it's physical constraints\n",
    "- In the second row, we have a feasible solution, despite the fact that we have broken the line connecting nodes 5 and 2. \n",
    "    - Node 5 can supply its demand using other transimission lines, and hence the system is not infeasible. "
   ]
  },
  {
   "cell_type": "markdown",
   "metadata": {},
   "source": [
    "#### Given this, do you conclude that the system with the assumed transmission line ratings is secure as-is, or do we need to add more redundancy to the system?\n",
    "- I conclude that the system is not N-1 secure, since there are a number of lines for which\n",
    "if they break, the system becomes infeasible.\n",
    "- Therefore, we need to add extra redundancy to the system, if we want to meet this \n",
    "standard. \n"
   ]
  }
 ],
 "metadata": {
  "@webio": {
   "lastCommId": null,
   "lastKernelId": null
  },
  "kernelspec": {
   "display_name": "Julia 1.5.2",
   "language": "julia",
   "name": "julia-1.5"
  },
  "language_info": {
   "file_extension": ".jl",
   "mimetype": "application/julia",
   "name": "julia",
   "version": "1.5.2"
  }
 },
 "nbformat": 4,
 "nbformat_minor": 4
}
