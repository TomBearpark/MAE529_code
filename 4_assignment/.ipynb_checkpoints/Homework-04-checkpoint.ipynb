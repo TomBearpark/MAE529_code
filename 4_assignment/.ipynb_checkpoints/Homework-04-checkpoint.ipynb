{
 "cells": [
  {
   "cell_type": "markdown",
   "metadata": {},
   "source": [
    "# Homework 4"
   ]
  },
  {
   "cell_type": "markdown",
   "metadata": {},
   "source": [
    "This Notebook builds on the DCOPF model introduced in [Notebook 6](https://github.com/east-winds/power-systems-optimization/tree/master/Notebooks) and incorporates some elements of Economic Dispatch introduced in [Notebook 4](https://github.com/east-winds/power-systems-optimization/tree/master/Notebooks).\n",
    "\n",
    "First, load (or install if necessary) a set of packages you'll need for this assignment..."
   ]
  },
  {
   "cell_type": "code",
   "execution_count": 1,
   "metadata": {},
   "outputs": [
    {
     "name": "stderr",
     "output_type": "stream",
     "text": [
      "┌ Warning: ORCA.jl has been deprecated and all savefig functionality\n",
      "│ has been implemented directly in PlotlyBase itself.\n",
      "│ \n",
      "│ By implementing in PlotlyBase.jl, the savefig routines are automatically\n",
      "│ available to PlotlyJS.jl also.\n",
      "└ @ ORCA /Users/tombearpark/.julia/packages/ORCA/U5XaN/src/ORCA.jl:8\n"
     ]
    }
   ],
   "source": [
    "using JuMP;             # optimisation\n",
    "using GLPK;             # solver package\n",
    "using DataFrames;       # data manipulation\n",
    "using CSV;              # load in csv data\n",
    "using Plots; plotly();  # base plots\n",
    "using VegaLite;         # nice plots\n",
    "using Query;            # dplyr like data analysis tools"
   ]
  },
  {
   "cell_type": "markdown",
   "metadata": {},
   "source": [
    "## Question 1: Modifying IEEE-14\n",
    "\n",
    "**A. Increased generation costs**\n",
    "\n",
    "Copy the IEEE 14 bus system and DCOPF solver function from Notebook 6. In addition, add the following line to the return call of the function:\n",
    "```julia\n",
    "status = termination_status(DCOPF)\n",
    "```\n",
    "This tells you the solver termination status for the problem: e.g. was an optimal solution found, was the solution infeasible, was it unbounded, etc.\n",
    "\n",
    "Make the following change to the system:\n",
    "\n",
    "- Increase the variable cost of Generator 1 to \\$30 / MWh\n",
    "\n",
    "Run the DCOPF and output generation, flows, and prices."
   ]
  },
  {
   "cell_type": "code",
   "execution_count": 2,
   "metadata": {},
   "outputs": [],
   "source": [
    "# Load and format the data\n",
    "\n",
    "# Note - tweaked this to use an absolute path, since i'm writing this code \n",
    "# outside of the repo. Left in option for someone else to run it though\n",
    "if ENV[\"USER\"] == \"tombearpark\"\n",
    "    pso_dir = \"/Users/tombearpark/Documents/princeton/1st_year/MAE529/\" *\n",
    "                    \"power-systems-optimization\"\n",
    "    datadir = joinpath(pso_dir,\"Notebooks\",\"ieee_test_cases\") \n",
    "else\n",
    "    datadir = joinpath(\"..\",\"Notebooks\",\"ieee_test_cases\") \n",
    "end\n",
    "\n",
    "\n",
    "gens = CSV.read(joinpath(datadir,\"Gen14.csv\"), DataFrame);\n",
    "lines = CSV.read(joinpath(datadir,\"Tran14.csv\"), DataFrame);\n",
    "loads = CSV.read(joinpath(datadir,\"Load14.csv\"), DataFrame);\n",
    "\n",
    "# Rename all columns to lowercase (by convention)\n",
    "for f in [gens, lines, loads]\n",
    "    rename!(f,lowercase.(names(f)))\n",
    "end\n",
    "\n",
    "# create generator ids \n",
    "gens.id = 1:nrow(gens);\n",
    "\n",
    "# create line ids \n",
    "lines.id = 1:nrow(lines);\n",
    "# add set of rows for reverse direction with same parameters\n",
    "lines2 = copy(lines)\n",
    "lines2.f = lines2.fromnode\n",
    "lines2.fromnode = lines.tonode\n",
    "lines2.tonode = lines2.f\n",
    "lines2 = lines2[:,names(lines)]\n",
    "append!(lines,lines2)\n",
    "\n",
    "# calculate simple susceptance, ignoring resistance as earlier \n",
    "lines.b = 1 ./ lines.reactance\n",
    "\n",
    "# keep only a single time period\n",
    "loads = loads[:,[\"connnode\",\"interval-1_load\"]]\n",
    "rename!(loads,\"interval-1_load\" => \"demand\");"
   ]
  },
  {
   "cell_type": "code",
   "execution_count": 3,
   "metadata": {},
   "outputs": [
    {
     "data": {
      "text/plain": [
       "dcopf_ieee (generic function with 1 method)"
      ]
     },
     "execution_count": 3,
     "metadata": {},
     "output_type": "execute_result"
    }
   ],
   "source": [
    "#=\n",
    "# Copy the IEEE 14 bus system and DCOPF solver function from Notebook 6.\n",
    "# In addition, add the following line to the return call of the function:\n",
    "# status = termination_status(DCOPF)\n",
    "\n",
    "Function to solve DC OPF problem using IEEE test cases\n",
    "Inputs:\n",
    "    gen_info -- dataframe with generator info\n",
    "    line_info -- dataframe with transmission lines info\n",
    "    loads  -- dataframe with load info\n",
    "=#\n",
    "function dcopf_ieee(gens, lines, loads)\n",
    "    DCOPF = Model(GLPK.Optimizer) # You could use Clp as well, with Clp.Optimizer\n",
    "    \n",
    "    # Define sets based on data\n",
    "      # Set of generator buses\n",
    "    G = gens.connnode\n",
    "    \n",
    "      # Set of all nodes\n",
    "    N = sort(union(unique(lines.fromnode), \n",
    "            unique(lines.tonode)))\n",
    "    \n",
    "      # sets J_i and G_i will be described using dataframe indexing below\n",
    "\n",
    "    # Define per unit base units for the system \n",
    "    # used to convert from per unit values to standard unit\n",
    "    # values (e.g. p.u. power flows to MW/MVA)\n",
    "    baseMVA = 100 # base MVA is 100 MVA for this system\n",
    "    \n",
    "    # Decision variables   \n",
    "    @variables(DCOPF, begin\n",
    "        GEN[N]  >= 0     # generation        \n",
    "        # Note: we assume Pmin = 0 for all resources for simplicty here\n",
    "        THETA[N]         # voltage phase angle of bus\n",
    "        FLOW[N,N]        # flows between all pairs of nodes\n",
    "    end)\n",
    "    \n",
    "    # Create slack bus with reference angle = 0; use bus 1 with generator\n",
    "    fix(THETA[1],0)\n",
    "                \n",
    "    # Objective function\n",
    "    @objective(DCOPF, Min, \n",
    "        sum( gens[g,:c1] * GEN[g] for g in G)\n",
    "    )\n",
    "    \n",
    "    # Supply demand balances\n",
    "    @constraint(DCOPF, cBalance[i in N], \n",
    "        sum(GEN[g] for g in gens[gens.connnode .== i,:connnode]) \n",
    "            + sum(load for load in loads[loads.connnode .== i,:demand]) \n",
    "        == sum(FLOW[i,j] for j in lines[lines.fromnode .== i,:tonode])\n",
    "    )\n",
    "\n",
    "    # Max generation constraint\n",
    "    @constraint(DCOPF, cMaxGen[g in G],\n",
    "                    GEN[g] <= gens[g,:pgmax])\n",
    "\n",
    "    # Flow constraints on each branch; \n",
    "    # In DCOPF, line flow is a function of voltage angles\n",
    "       # Create an array of references to the line constraints, \n",
    "       # which we \"fill\" below in loop\n",
    "    cLineFlows = JuMP.Containers.DenseAxisArray{Any}(undef, 1:nrow(lines)) \n",
    "    for l in 1:nrow(lines)\n",
    "        cLineFlows[l] = @constraint(DCOPF, \n",
    "            FLOW[lines[l,:fromnode],lines[l,:tonode]] == \n",
    "            baseMVA * lines[l,:b] * \n",
    "            (THETA[lines[l,:fromnode]] - THETA[lines[l,:tonode]])\n",
    "        )\n",
    "    end\n",
    "    \n",
    "    # Max line flow limits\n",
    "       # Create an array of references to the line constraints, \n",
    "       # which we \"fill\" below in loop\n",
    "    cLineLimits = JuMP.Containers.DenseAxisArray{Any}(undef, 1:nrow(lines)) \n",
    "    for l in 1:nrow(lines)\n",
    "        cLineLimits[l] = @constraint(DCOPF,\n",
    "            FLOW[lines[l,:fromnode],lines[l,:tonode]] <=\n",
    "            lines[l,:capacity]\n",
    "        ) \n",
    "    end\n",
    "\n",
    "    # Solve statement (! indicates runs in place)\n",
    "    optimize!(DCOPF)\n",
    "\n",
    "    # Output variables\n",
    "    generation = DataFrame(\n",
    "        node = gens.connnode,\n",
    "        gen = value.(GEN).data[gens.connnode]\n",
    "        )\n",
    "    \n",
    "    angles = value.(THETA).data\n",
    "    \n",
    "    flows = DataFrame(\n",
    "        fbus = lines.fromnode,\n",
    "        tbus = lines.tonode,\n",
    "        flow = baseMVA * lines.b .* (angles[lines.fromnode] .- \n",
    "                        angles[lines.tonode]))\n",
    "    \n",
    "    # We output the marginal values of the demand constraints, \n",
    "    # which will in fact be the prices to deliver power at a given bus.\n",
    "    prices = DataFrame(\n",
    "        node = N,\n",
    "        value = dual.(cBalance).data)\n",
    "    \n",
    "    # Return the solution and objective as named tuple\n",
    "    return (\n",
    "        generation = generation, \n",
    "        angles,\n",
    "        flows,\n",
    "        prices,\n",
    "        cost = objective_value(DCOPF),\n",
    "        status = termination_status(DCOPF)\n",
    "    )\n",
    "end"
   ]
  },
  {
   "cell_type": "code",
   "execution_count": 4,
   "metadata": {},
   "outputs": [
    {
     "data": {
      "text/plain": [
       "print_cost_and_status (generic function with 1 method)"
      ]
     },
     "execution_count": 4,
     "metadata": {},
     "output_type": "execute_result"
    }
   ],
   "source": [
    "# helper function for printing cost info\n",
    "# input: solution: an optimised JuMP object\n",
    "\n",
    "function print_cost_and_status(solution)\n",
    "    println(\"Termination status was \" * string(solution.status))\n",
    "    println(\"Optimised cost was \" * string(round(solution.cost)))\n",
    "end"
   ]
  },
  {
   "cell_type": "code",
   "execution_count": 5,
   "metadata": {},
   "outputs": [
    {
     "name": "stdout",
     "output_type": "stream",
     "text": [
      "Termination status was OPTIMAL\n",
      "Optimised cost was 5180.0\n"
     ]
    }
   ],
   "source": [
    "# First - run the model with baseline numbers to get a comparison\n",
    "\n",
    "solution = dcopf_ieee(gens, lines, loads);\n",
    "print_cost_and_status(solution)"
   ]
  },
  {
   "cell_type": "code",
   "execution_count": 6,
   "metadata": {},
   "outputs": [
    {
     "name": "stdout",
     "output_type": "stream",
     "text": [
      "Termination status was OPTIMAL\n",
      "Optimised cost was 6370.0\n"
     ]
    }
   ],
   "source": [
    "# Now - Problem 1a)\n",
    "\n",
    "# Make the following change to the system:\n",
    "# Increase the variable cost of Generator 1 to $30 / MWh\n",
    "# Run the DCOPF and output generation, flows, and prices.\n",
    "\n",
    "# Increase the variable cost of generator 1\n",
    "gens_1a = copy(gens) \n",
    "gens_1a.c1[gens_1a.id .==1] .= 30\n",
    "\n",
    "solution_1a = dcopf_ieee(gens_1a, lines, loads);\n",
    "print_cost_and_status(solution_1a)"
   ]
  },
  {
   "cell_type": "code",
   "execution_count": 7,
   "metadata": {},
   "outputs": [
    {
     "data": {
      "text/html": [
       "<table class=\"data-frame\"><thead><tr><th></th><th>baseline</th><th>increased_price_scen</th></tr><tr><th></th><th>Float64</th><th>Float64</th></tr></thead><tbody><p>2 rows × 2 columns</p><tr><th>1</th><td>119.0</td><td>119.0</td></tr><tr><th>2</th><td>140.0</td><td>140.0</td></tr></tbody></table>"
      ],
      "text/latex": [
       "\\begin{tabular}{r|cc}\n",
       "\t& baseline & increased\\_price\\_scen\\\\\n",
       "\t\\hline\n",
       "\t& Float64 & Float64\\\\\n",
       "\t\\hline\n",
       "\t1 & 119.0 & 119.0 \\\\\n",
       "\t2 & 140.0 & 140.0 \\\\\n",
       "\\end{tabular}\n"
      ],
      "text/plain": [
       "2×2 DataFrame\n",
       "│ Row │ baseline │ increased_price_scen │\n",
       "│     │ \u001b[90mFloat64\u001b[39m  │ \u001b[90mFloat64\u001b[39m              │\n",
       "├─────┼──────────┼──────────────────────┤\n",
       "│ 1   │ 119.0    │ 119.0                │\n",
       "│ 2   │ 140.0    │ 140.0                │"
      ]
     },
     "execution_count": 7,
     "metadata": {},
     "output_type": "execute_result"
    }
   ],
   "source": [
    "# Compare generation across models \n",
    "\n",
    "gen_comparison_df = DataFrame(\n",
    "    baseline = solution.generation.gen, \n",
    "    increased_price_scen = solution_1a.generation.gen)"
   ]
  },
  {
   "cell_type": "code",
   "execution_count": 8,
   "metadata": {},
   "outputs": [
    {
     "data": {
      "text/html": [
       "<table class=\"data-frame\"><thead><tr><th></th><th>baseline</th><th>increased_price_scen</th></tr><tr><th></th><th>Float64</th><th>Float64</th></tr></thead><tbody><p>6 rows × 2 columns</p><tr><th>1</th><td>64.0779</td><td>64.0779</td></tr><tr><th>2</th><td>54.9221</td><td>54.9221</td></tr><tr><th>3</th><td>72.7846</td><td>72.7846</td></tr><tr><th>4</th><td>60.9488</td><td>60.9488</td></tr><tr><th>5</th><td>48.6446</td><td>48.6446</td></tr><tr><th>6</th><td>-21.4154</td><td>-21.4154</td></tr></tbody></table>"
      ],
      "text/latex": [
       "\\begin{tabular}{r|cc}\n",
       "\t& baseline & increased\\_price\\_scen\\\\\n",
       "\t\\hline\n",
       "\t& Float64 & Float64\\\\\n",
       "\t\\hline\n",
       "\t1 & 64.0779 & 64.0779 \\\\\n",
       "\t2 & 54.9221 & 54.9221 \\\\\n",
       "\t3 & 72.7846 & 72.7846 \\\\\n",
       "\t4 & 60.9488 & 60.9488 \\\\\n",
       "\t5 & 48.6446 & 48.6446 \\\\\n",
       "\t6 & -21.4154 & -21.4154 \\\\\n",
       "\\end{tabular}\n"
      ],
      "text/plain": [
       "6×2 DataFrame\n",
       "│ Row │ baseline │ increased_price_scen │\n",
       "│     │ \u001b[90mFloat64\u001b[39m  │ \u001b[90mFloat64\u001b[39m              │\n",
       "├─────┼──────────┼──────────────────────┤\n",
       "│ 1   │ 64.0779  │ 64.0779              │\n",
       "│ 2   │ 54.9221  │ 54.9221              │\n",
       "│ 3   │ 72.7846  │ 72.7846              │\n",
       "│ 4   │ 60.9488  │ 60.9488              │\n",
       "│ 5   │ 48.6446  │ 48.6446              │\n",
       "│ 6   │ -21.4154 │ -21.4154             │"
      ]
     },
     "execution_count": 8,
     "metadata": {},
     "output_type": "execute_result"
    }
   ],
   "source": [
    "# Compare flows across models\n",
    "flow_comparison_df = DataFrame(\n",
    "    baseline = solution.flows.flow, \n",
    "    increased_price_scen = solution_1a.flows.flow);\n",
    "head(flow_comparison_df)"
   ]
  },
  {
   "cell_type": "code",
   "execution_count": 9,
   "metadata": {},
   "outputs": [
    {
     "data": {
      "text/html": [
       "<table class=\"data-frame\"><thead><tr><th></th><th>baseline</th><th>increased_price_scen</th></tr><tr><th></th><th>Float64</th><th>Float64</th></tr></thead><tbody><p>14 rows × 2 columns</p><tr><th>1</th><td>20.0</td><td>30.0</td></tr><tr><th>2</th><td>20.0</td><td>30.0</td></tr><tr><th>3</th><td>20.0</td><td>30.0</td></tr><tr><th>4</th><td>20.0</td><td>30.0</td></tr><tr><th>5</th><td>20.0</td><td>30.0</td></tr><tr><th>6</th><td>20.0</td><td>30.0</td></tr><tr><th>7</th><td>20.0</td><td>30.0</td></tr><tr><th>8</th><td>20.0</td><td>30.0</td></tr><tr><th>9</th><td>20.0</td><td>30.0</td></tr><tr><th>10</th><td>20.0</td><td>30.0</td></tr><tr><th>11</th><td>20.0</td><td>30.0</td></tr><tr><th>12</th><td>20.0</td><td>30.0</td></tr><tr><th>13</th><td>20.0</td><td>30.0</td></tr><tr><th>14</th><td>20.0</td><td>30.0</td></tr></tbody></table>"
      ],
      "text/latex": [
       "\\begin{tabular}{r|cc}\n",
       "\t& baseline & increased\\_price\\_scen\\\\\n",
       "\t\\hline\n",
       "\t& Float64 & Float64\\\\\n",
       "\t\\hline\n",
       "\t1 & 20.0 & 30.0 \\\\\n",
       "\t2 & 20.0 & 30.0 \\\\\n",
       "\t3 & 20.0 & 30.0 \\\\\n",
       "\t4 & 20.0 & 30.0 \\\\\n",
       "\t5 & 20.0 & 30.0 \\\\\n",
       "\t6 & 20.0 & 30.0 \\\\\n",
       "\t7 & 20.0 & 30.0 \\\\\n",
       "\t8 & 20.0 & 30.0 \\\\\n",
       "\t9 & 20.0 & 30.0 \\\\\n",
       "\t10 & 20.0 & 30.0 \\\\\n",
       "\t11 & 20.0 & 30.0 \\\\\n",
       "\t12 & 20.0 & 30.0 \\\\\n",
       "\t13 & 20.0 & 30.0 \\\\\n",
       "\t14 & 20.0 & 30.0 \\\\\n",
       "\\end{tabular}\n"
      ],
      "text/plain": [
       "14×2 DataFrame\n",
       "│ Row │ baseline │ increased_price_scen │\n",
       "│     │ \u001b[90mFloat64\u001b[39m  │ \u001b[90mFloat64\u001b[39m              │\n",
       "├─────┼──────────┼──────────────────────┤\n",
       "│ 1   │ 20.0     │ 30.0                 │\n",
       "│ 2   │ 20.0     │ 30.0                 │\n",
       "│ 3   │ 20.0     │ 30.0                 │\n",
       "│ 4   │ 20.0     │ 30.0                 │\n",
       "│ 5   │ 20.0     │ 30.0                 │\n",
       "│ 6   │ 20.0     │ 30.0                 │\n",
       "│ 7   │ 20.0     │ 30.0                 │\n",
       "│ 8   │ 20.0     │ 30.0                 │\n",
       "│ 9   │ 20.0     │ 30.0                 │\n",
       "│ 10  │ 20.0     │ 30.0                 │\n",
       "│ 11  │ 20.0     │ 30.0                 │\n",
       "│ 12  │ 20.0     │ 30.0                 │\n",
       "│ 13  │ 20.0     │ 30.0                 │\n",
       "│ 14  │ 20.0     │ 30.0                 │"
      ]
     },
     "execution_count": 9,
     "metadata": {},
     "output_type": "execute_result"
    }
   ],
   "source": [
    "# Compare prices across models\n",
    "price_comparison_df = DataFrame(\n",
    "    baseline = solution.prices.value, \n",
    "    increased_price_scen = solution_1a.prices.value)"
   ]
  },
  {
   "cell_type": "markdown",
   "metadata": {},
   "source": [
    "Regarding the above results, answer the following:\n",
    "\n",
    "- How has generation changed compared to the default system?\n",
    "- What explains the new prices?\n"
   ]
  },
  {
   "cell_type": "markdown",
   "metadata": {},
   "source": [
    "##### Generation\n",
    "- Generation has not changed at all relative to the default system.\n",
    "    - This is because we still have the total amount of demand on the system, and have not\n",
    "    introduced any losses or anything that affects the supply / demand constraint.\n",
    "    - Therefore, the change in prices just increases the costs of supplying the system, \n",
    "    without affecting the total amount of energy supplied. \n",
    "    \n",
    "##### Prices\n",
    "- We find that prices are uniformly increased in this new scenario from 20 dollars per MWh to 30 dollars per MWh. \n",
    "- This reflects that fact that the generator for which we increased the price\n",
    "was the marginal generator. \n",
    "- Therefore, increases in its price are reflected in system prices. "
   ]
  },
  {
   "cell_type": "markdown",
   "metadata": {},
   "source": [
    "**B. Constrained line**\n",
    "\n",
    "Make the following changes to the system:\n",
    "\n",
    "- Increase the variable cost of Generator 1 to \\$30 / MWh\n",
    "- Reduce flow limit on the line connecting 2 and 3 ($l_{23}$) to 70 MW\n",
    "\n",
    "Run the DCOPF and output generation, flows, and prices."
   ]
  },
  {
   "cell_type": "code",
   "execution_count": 10,
   "metadata": {},
   "outputs": [],
   "source": [
    "# We can use the same generation info as in 1A\n",
    "\n",
    "# Reduce the flow limit on line connecting 2 and 3...\n",
    "lines_1b = copy(lines)\n",
    "lines_1b.capacity[(lines_1b.fromnode .== 2).&(lines_1b.tonode .== 3)] .= 70\n",
    "lines_1b.capacity[(lines_1b.fromnode .== 3).&(lines_1b.tonode .== 2)] .= 70;"
   ]
  },
  {
   "cell_type": "code",
   "execution_count": 11,
   "metadata": {},
   "outputs": [
    {
     "name": "stdout",
     "output_type": "stream",
     "text": [
      "Termination status was OPTIMAL\n",
      "Optimised cost was 7388.0\n"
     ]
    }
   ],
   "source": [
    "# Solve - and print solution\n",
    "solution_1b = dcopf_ieee(gens_1a, lines_1b, loads);\n",
    "print_cost_and_status(solution_1b)"
   ]
  },
  {
   "cell_type": "code",
   "execution_count": 12,
   "metadata": {},
   "outputs": [
    {
     "data": {
      "text/html": [
       "<table class=\"data-frame\"><thead><tr><th></th><th>baseline</th><th>increased_price_scen</th><th>inc_price_and_flow_const</th></tr><tr><th></th><th>Float64</th><th>Float64</th><th>Float64</th></tr></thead><tbody><p>2 rows × 3 columns</p><tr><th>1</th><td>119.0</td><td>119.0</td><td>220.837</td></tr><tr><th>2</th><td>140.0</td><td>140.0</td><td>38.1627</td></tr></tbody></table>"
      ],
      "text/latex": [
       "\\begin{tabular}{r|ccc}\n",
       "\t& baseline & increased\\_price\\_scen & inc\\_price\\_and\\_flow\\_const\\\\\n",
       "\t\\hline\n",
       "\t& Float64 & Float64 & Float64\\\\\n",
       "\t\\hline\n",
       "\t1 & 119.0 & 119.0 & 220.837 \\\\\n",
       "\t2 & 140.0 & 140.0 & 38.1627 \\\\\n",
       "\\end{tabular}\n"
      ],
      "text/plain": [
       "2×3 DataFrame\n",
       "│ Row │ baseline │ increased_price_scen │ inc_price_and_flow_const │\n",
       "│     │ \u001b[90mFloat64\u001b[39m  │ \u001b[90mFloat64\u001b[39m              │ \u001b[90mFloat64\u001b[39m                  │\n",
       "├─────┼──────────┼──────────────────────┼──────────────────────────┤\n",
       "│ 1   │ 119.0    │ 119.0                │ 220.837                  │\n",
       "│ 2   │ 140.0    │ 140.0                │ 38.1627                  │"
      ]
     },
     "execution_count": 12,
     "metadata": {},
     "output_type": "execute_result"
    }
   ],
   "source": [
    "# output generation, flows, and prices\n",
    "gen_comparison_df.inc_price_and_flow_const = solution_1b.generation.gen\n",
    "gen_comparison_df"
   ]
  },
  {
   "cell_type": "code",
   "execution_count": 13,
   "metadata": {},
   "outputs": [
    {
     "data": {
      "text/html": [
       "<table class=\"data-frame\"><thead><tr><th></th><th>baseline</th><th>increased_price_scen</th><th>inc_price_and_flow_const</th></tr><tr><th></th><th>Float64</th><th>Float64</th><th>Float64</th></tr></thead><tbody><p>6 rows × 3 columns</p><tr><th>1</th><td>64.0779</td><td>64.0779</td><td>149.42</td></tr><tr><th>2</th><td>54.9221</td><td>54.9221</td><td>71.417</td></tr><tr><th>3</th><td>72.7846</td><td>72.7846</td><td>70.0</td></tr><tr><th>4</th><td>60.9488</td><td>60.9488</td><td>55.1212</td></tr><tr><th>5</th><td>48.6446</td><td>48.6446</td><td>40.7618</td></tr><tr><th>6</th><td>-21.4154</td><td>-21.4154</td><td>-24.2</td></tr></tbody></table>"
      ],
      "text/latex": [
       "\\begin{tabular}{r|ccc}\n",
       "\t& baseline & increased\\_price\\_scen & inc\\_price\\_and\\_flow\\_const\\\\\n",
       "\t\\hline\n",
       "\t& Float64 & Float64 & Float64\\\\\n",
       "\t\\hline\n",
       "\t1 & 64.0779 & 64.0779 & 149.42 \\\\\n",
       "\t2 & 54.9221 & 54.9221 & 71.417 \\\\\n",
       "\t3 & 72.7846 & 72.7846 & 70.0 \\\\\n",
       "\t4 & 60.9488 & 60.9488 & 55.1212 \\\\\n",
       "\t5 & 48.6446 & 48.6446 & 40.7618 \\\\\n",
       "\t6 & -21.4154 & -21.4154 & -24.2 \\\\\n",
       "\\end{tabular}\n"
      ],
      "text/plain": [
       "6×3 DataFrame\n",
       "│ Row │ baseline │ increased_price_scen │ inc_price_and_flow_const │\n",
       "│     │ \u001b[90mFloat64\u001b[39m  │ \u001b[90mFloat64\u001b[39m              │ \u001b[90mFloat64\u001b[39m                  │\n",
       "├─────┼──────────┼──────────────────────┼──────────────────────────┤\n",
       "│ 1   │ 64.0779  │ 64.0779              │ 149.42                   │\n",
       "│ 2   │ 54.9221  │ 54.9221              │ 71.417                   │\n",
       "│ 3   │ 72.7846  │ 72.7846              │ 70.0                     │\n",
       "│ 4   │ 60.9488  │ 60.9488              │ 55.1212                  │\n",
       "│ 5   │ 48.6446  │ 48.6446              │ 40.7618                  │\n",
       "│ 6   │ -21.4154 │ -21.4154             │ -24.2                    │"
      ]
     },
     "execution_count": 13,
     "metadata": {},
     "output_type": "execute_result"
    }
   ],
   "source": [
    "flow_comparison_df.inc_price_and_flow_const = solution_1b.flows.flow\n",
    "head(flow_comparison_df)"
   ]
  },
  {
   "cell_type": "code",
   "execution_count": 14,
   "metadata": {},
   "outputs": [
    {
     "data": {
      "text/html": [
       "<table class=\"data-frame\"><thead><tr><th></th><th>baseline</th><th>increased_price_scen</th><th>inc_price_and_flow_const</th></tr><tr><th></th><th>Float64</th><th>Float64</th><th>Float64</th></tr></thead><tbody><p>6 rows × 3 columns</p><tr><th>1</th><td>20.0</td><td>30.0</td><td>30.0</td></tr><tr><th>2</th><td>20.0</td><td>30.0</td><td>20.0</td></tr><tr><th>3</th><td>20.0</td><td>30.0</td><td>224.574</td></tr><tr><th>4</th><td>20.0</td><td>30.0</td><td>85.3586</td></tr><tr><th>5</th><td>20.0</td><td>30.0</td><td>67.6948</td></tr><tr><th>6</th><td>20.0</td><td>30.0</td><td>73.7014</td></tr></tbody></table>"
      ],
      "text/latex": [
       "\\begin{tabular}{r|ccc}\n",
       "\t& baseline & increased\\_price\\_scen & inc\\_price\\_and\\_flow\\_const\\\\\n",
       "\t\\hline\n",
       "\t& Float64 & Float64 & Float64\\\\\n",
       "\t\\hline\n",
       "\t1 & 20.0 & 30.0 & 30.0 \\\\\n",
       "\t2 & 20.0 & 30.0 & 20.0 \\\\\n",
       "\t3 & 20.0 & 30.0 & 224.574 \\\\\n",
       "\t4 & 20.0 & 30.0 & 85.3586 \\\\\n",
       "\t5 & 20.0 & 30.0 & 67.6948 \\\\\n",
       "\t6 & 20.0 & 30.0 & 73.7014 \\\\\n",
       "\\end{tabular}\n"
      ],
      "text/plain": [
       "6×3 DataFrame\n",
       "│ Row │ baseline │ increased_price_scen │ inc_price_and_flow_const │\n",
       "│     │ \u001b[90mFloat64\u001b[39m  │ \u001b[90mFloat64\u001b[39m              │ \u001b[90mFloat64\u001b[39m                  │\n",
       "├─────┼──────────┼──────────────────────┼──────────────────────────┤\n",
       "│ 1   │ 20.0     │ 30.0                 │ 30.0                     │\n",
       "│ 2   │ 20.0     │ 30.0                 │ 20.0                     │\n",
       "│ 3   │ 20.0     │ 30.0                 │ 224.574                  │\n",
       "│ 4   │ 20.0     │ 30.0                 │ 85.3586                  │\n",
       "│ 5   │ 20.0     │ 30.0                 │ 67.6948                  │\n",
       "│ 6   │ 20.0     │ 30.0                 │ 73.7014                  │"
      ]
     },
     "execution_count": 14,
     "metadata": {},
     "output_type": "execute_result"
    }
   ],
   "source": [
    "price_comparison_df.inc_price_and_flow_const = solution_1b.prices.value\n",
    "head(price_comparison_df)"
   ]
  },
  {
   "cell_type": "markdown",
   "metadata": {},
   "source": [
    "Regarding the above results, answer the following:\n",
    "\n",
    "- Which node has the highest price and why?\n",
    "- What is the difference in prices across $l_{23}$, also known as the congestion rent? How do you interpret this value (what is it's practical meaning?)"
   ]
  },
  {
   "cell_type": "code",
   "execution_count": 15,
   "metadata": {},
   "outputs": [
    {
     "data": {
      "application/vnd.vegalite.v4+json": {
       "data": {
        "values": [
         {
          "max": "",
          "node": 1,
          "value": 29.99999999999997
         },
         {
          "max": "",
          "node": 2,
          "value": 19.999999999999993
         },
         {
          "max": "Node 3",
          "node": 3,
          "value": 224.57409253798673
         },
         {
          "max": "",
          "node": 4,
          "value": 85.35855803198751
         },
         {
          "max": "",
          "node": 5,
          "value": 67.69477775899955
         },
         {
          "max": "",
          "node": 6,
          "value": 73.7014376370269
         },
         {
          "max": "",
          "node": 7,
          "value": 82.19156519021456
         },
         {
          "max": "",
          "node": 8,
          "value": 82.19156519021456
         },
         {
          "max": "",
          "node": 9,
          "value": 80.52553189582176
         },
         {
          "max": "",
          "node": 10,
          "value": 79.31276144791092
         },
         {
          "max": "",
          "node": 11,
          "value": 76.55611269134022
         },
         {
          "max": "",
          "node": 12,
          "value": 74.24067793216524
         },
         {
          "max": "",
          "node": 13,
          "value": 74.66201935819335
         },
         {
          "max": "",
          "node": 14,
          "value": 77.96185705765235
         }
        ]
       },
       "encoding": {
        "color": {
         "field": "max",
         "type": "nominal"
        },
        "x": {
         "field": "node",
         "type": "quantitative"
        },
        "y": {
         "field": "value",
         "type": "quantitative"
        }
       },
       "mark": "bar",
       "title": "Price at each node"
      },
      "image/png": "[encoded data removed]",
      "image/svg+xml": [
       "<?xml version=\"1.0\" encoding=\"utf-8\"?>\n",
       "<!DOCTYPE svg PUBLIC \"-//W3C//DTD SVG 1.1//EN\" \"http://www.w3.org/Graphics/SVG/1.1/DTD/svg11.dtd\">\n",
       "<svg class=\"marks\" width=\"318\" height=\"259\" viewBox=\"0 0 318 259\" version=\"1.1\" xmlns=\"http://www.w3.org/2000/svg\" xmlns:xlink=\"http://www.w3.org/1999/xlink\"><rect width=\"318\" height=\"259\" fill=\"white\"></rect><g fill=\"none\" stroke-miterlimit=\"10\" transform=\"translate(45,22)\"><g class=\"mark-group role-frame root\" role=\"graphics-object\" aria-roledescription=\"group mark container\"><g transform=\"translate(0,0)\"><path class=\"background\" aria-hidden=\"true\" d=\"M0.5,0.5h200v200h-200Z\" stroke=\"#ddd\"></path><g><g class=\"mark-group role-axis\" aria-hidden=\"true\"><g transform=\"translate(0.5,200.5)\"><path class=\"background\" aria-hidden=\"true\" d=\"M0,0h0v0h0Z\" pointer-events=\"none\"></path><g><g class=\"mark-rule role-axis-grid\" pointer-events=\"none\"><line transform=\"translate(0,-200)\" x2=\"0\" y2=\"200\" stroke=\"#ddd\" stroke-width=\"1\" opacity=\"1\"></line><line transform=\"translate(63,-200)\" x2=\"0\" y2=\"200\" stroke=\"#ddd\" stroke-width=\"1\" opacity=\"1\"></line><line transform=\"translate(125,-200)\" x2=\"0\" y2=\"200\" stroke=\"#ddd\" stroke-width=\"1\" opacity=\"1\"></line><line transform=\"translate(188,-200)\" x2=\"0\" y2=\"200\" stroke=\"#ddd\" stroke-width=\"1\" opacity=\"1\"></line></g></g><path class=\"foreground\" aria-hidden=\"true\" d=\"\" pointer-events=\"none\" display=\"none\"></path></g></g><g class=\"mark-group role-axis\" aria-hidden=\"true\"><g transform=\"translate(0.5,0.5)\"><path class=\"background\" aria-hidden=\"true\" d=\"M0,0h0v0h0Z\" pointer-events=\"none\"></path><g><g class=\"mark-rule role-axis-grid\" pointer-events=\"none\"><line transform=\"translate(0,200)\" x2=\"200\" y2=\"0\" stroke=\"#ddd\" stroke-width=\"1\" opacity=\"1\"></line><line transform=\"translate(0,158)\" x2=\"200\" y2=\"0\" stroke=\"#ddd\" stroke-width=\"1\" opacity=\"1\"></line><line transform=\"translate(0,117)\" x2=\"200\" y2=\"0\" stroke=\"#ddd\" stroke-width=\"1\" opacity=\"1\"></line><line transform=\"translate(0,75)\" x2=\"200\" y2=\"0\" stroke=\"#ddd\" stroke-width=\"1\" opacity=\"1\"></line><line transform=\"translate(0,33)\" x2=\"200\" y2=\"0\" stroke=\"#ddd\" stroke-width=\"1\" opacity=\"1\"></line></g></g><path class=\"foreground\" aria-hidden=\"true\" d=\"\" pointer-events=\"none\" display=\"none\"></path></g></g><g class=\"mark-group role-axis\" role=\"graphics-symbol\" aria-roledescription=\"axis\" aria-label=\"X-axis titled 'node' for a linear scale with values from 0 to 16\"><g transform=\"translate(0.5,200.5)\"><path class=\"background\" aria-hidden=\"true\" d=\"M0,0h0v0h0Z\" pointer-events=\"none\"></path><g><g class=\"mark-rule role-axis-tick\" pointer-events=\"none\"><line transform=\"translate(0,0)\" x2=\"0\" y2=\"5\" stroke=\"#888\" stroke-width=\"1\" opacity=\"1\"></line><line transform=\"translate(63,0)\" x2=\"0\" y2=\"5\" stroke=\"#888\" stroke-width=\"1\" opacity=\"1\"></line><line transform=\"translate(125,0)\" x2=\"0\" y2=\"5\" stroke=\"#888\" stroke-width=\"1\" opacity=\"1\"></line><line transform=\"translate(188,0)\" x2=\"0\" y2=\"5\" stroke=\"#888\" stroke-width=\"1\" opacity=\"1\"></line></g><g class=\"mark-text role-axis-label\" pointer-events=\"none\"><text text-anchor=\"start\" transform=\"translate(0,15)\" font-family=\"sans-serif\" font-size=\"10px\" fill=\"#000\" opacity=\"1\">0</text><text text-anchor=\"middle\" transform=\"translate(62.5,15)\" font-family=\"sans-serif\" font-size=\"10px\" fill=\"#000\" opacity=\"1\">5</text><text text-anchor=\"middle\" transform=\"translate(125,15)\" font-family=\"sans-serif\" font-size=\"10px\" fill=\"#000\" opacity=\"1\">10</text><text text-anchor=\"middle\" transform=\"translate(187.5,15)\" font-family=\"sans-serif\" font-size=\"10px\" fill=\"#000\" opacity=\"1\">15</text></g><g class=\"mark-rule role-axis-domain\" pointer-events=\"none\"><line transform=\"translate(0,0)\" x2=\"200\" y2=\"0\" stroke=\"#888\" stroke-width=\"1\" opacity=\"1\"></line></g><g class=\"mark-text role-axis-title\" pointer-events=\"none\"><text text-anchor=\"middle\" transform=\"translate(100,30)\" font-family=\"sans-serif\" font-size=\"11px\" font-weight=\"bold\" fill=\"#000\" opacity=\"1\">node</text></g></g><path class=\"foreground\" aria-hidden=\"true\" d=\"\" pointer-events=\"none\" display=\"none\"></path></g></g><g class=\"mark-group role-axis\" role=\"graphics-symbol\" aria-roledescription=\"axis\" aria-label=\"Y-axis titled 'value' for a linear scale with values from 0 to 240\"><g transform=\"translate(0.5,0.5)\"><path class=\"background\" aria-hidden=\"true\" d=\"M0,0h0v0h0Z\" pointer-events=\"none\"></path><g><g class=\"mark-rule role-axis-tick\" pointer-events=\"none\"><line transform=\"translate(0,200)\" x2=\"-5\" y2=\"0\" stroke=\"#888\" stroke-width=\"1\" opacity=\"1\"></line><line transform=\"translate(0,158)\" x2=\"-5\" y2=\"0\" stroke=\"#888\" stroke-width=\"1\" opacity=\"1\"></line><line transform=\"translate(0,117)\" x2=\"-5\" y2=\"0\" stroke=\"#888\" stroke-width=\"1\" opacity=\"1\"></line><line transform=\"translate(0,75)\" x2=\"-5\" y2=\"0\" stroke=\"#888\" stroke-width=\"1\" opacity=\"1\"></line><line transform=\"translate(0,33)\" x2=\"-5\" y2=\"0\" stroke=\"#888\" stroke-width=\"1\" opacity=\"1\"></line></g><g class=\"mark-text role-axis-label\" pointer-events=\"none\"><text text-anchor=\"end\" transform=\"translate(-7,203)\" font-family=\"sans-serif\" font-size=\"10px\" fill=\"#000\" opacity=\"1\">0</text><text text-anchor=\"end\" transform=\"translate(-7,161.33333333333331)\" font-family=\"sans-serif\" font-size=\"10px\" fill=\"#000\" opacity=\"1\">50</text><text text-anchor=\"end\" transform=\"translate(-7,119.66666666666666)\" font-family=\"sans-serif\" font-size=\"10px\" fill=\"#000\" opacity=\"1\">100</text><text text-anchor=\"end\" transform=\"translate(-7,78)\" font-family=\"sans-serif\" font-size=\"10px\" fill=\"#000\" opacity=\"1\">150</text><text text-anchor=\"end\" transform=\"translate(-7,36.33333333333333)\" font-family=\"sans-serif\" font-size=\"10px\" fill=\"#000\" opacity=\"1\">200</text></g><g class=\"mark-rule role-axis-domain\" pointer-events=\"none\"><line transform=\"translate(0,200)\" x2=\"0\" y2=\"-200\" stroke=\"#888\" stroke-width=\"1\" opacity=\"1\"></line></g><g class=\"mark-text role-axis-title\" pointer-events=\"none\"><text text-anchor=\"middle\" transform=\"translate(-29,100) rotate(-90) translate(0,-2)\" font-family=\"sans-serif\" font-size=\"11px\" font-weight=\"bold\" fill=\"#000\" opacity=\"1\">value</text></g></g><path class=\"foreground\" aria-hidden=\"true\" d=\"\" pointer-events=\"none\" display=\"none\"></path></g></g><g class=\"mark-rect role-mark marks\" role=\"graphics-object\" aria-roledescription=\"rect mark container\"><path aria-label=\"node: 1; value: 30; max: \" role=\"graphics-symbol\" aria-roledescription=\"bar\" d=\"M10,175.00000000000003h5v24.99999999999997h-5Z\" fill=\"#4c78a8\"></path><path aria-label=\"node: 2; value: 20; max: \" role=\"graphics-symbol\" aria-roledescription=\"bar\" d=\"M22.5,183.33333333333334h5v16.666666666666657h-5Z\" fill=\"#4c78a8\"></path><path aria-label=\"node: 3; value: 224.574092538; max: Node 3\" role=\"graphics-symbol\" aria-roledescription=\"bar\" d=\"M35,12.854922885011067h5v187.14507711498894h-5Z\" fill=\"#f58518\"></path><path aria-label=\"node: 4; value: 85.358558032; max: \" role=\"graphics-symbol\" aria-roledescription=\"bar\" d=\"M47.5,128.86786830667708h5v71.13213169332292h-5Z\" fill=\"#4c78a8\"></path><path aria-label=\"node: 5; value: 67.694777759; max: \" role=\"graphics-symbol\" aria-roledescription=\"bar\" d=\"M60,143.5876852008337h5v56.412314799166296h-5Z\" fill=\"#4c78a8\"></path><path aria-label=\"node: 6; value: 73.701437637; max: \" role=\"graphics-symbol\" aria-roledescription=\"bar\" d=\"M72.5,138.58213530247758h5v61.41786469752242h-5Z\" fill=\"#4c78a8\"></path><path aria-label=\"node: 7; value: 82.1915651902; max: \" role=\"graphics-symbol\" aria-roledescription=\"bar\" d=\"M85,131.50702900815455h5v68.49297099184545h-5Z\" fill=\"#4c78a8\"></path><path aria-label=\"node: 8; value: 82.1915651902; max: \" role=\"graphics-symbol\" aria-roledescription=\"bar\" d=\"M97.5,131.50702900815455h5v68.49297099184545h-5Z\" fill=\"#4c78a8\"></path><path aria-label=\"node: 9; value: 80.5255318958; max: \" role=\"graphics-symbol\" aria-roledescription=\"bar\" d=\"M110,132.89539008681518h5v67.10460991318482h-5Z\" fill=\"#4c78a8\"></path><path aria-label=\"node: 10; value: 79.3127614479; max: \" role=\"graphics-symbol\" aria-roledescription=\"bar\" d=\"M122.5,133.9060321267409h5v66.09396787325909h-5Z\" fill=\"#4c78a8\"></path><path aria-label=\"node: 11; value: 76.5561126913; max: \" role=\"graphics-symbol\" aria-roledescription=\"bar\" d=\"M135,136.20323942388316h5v63.79676057611684h-5Z\" fill=\"#4c78a8\"></path><path aria-label=\"node: 12; value: 74.2406779322; max: \" role=\"graphics-symbol\" aria-roledescription=\"bar\" d=\"M147.5,138.1327683898623h5v61.86723161013771h-5Z\" fill=\"#4c78a8\"></path><path aria-label=\"node: 13; value: 74.6620193582; max: \" role=\"graphics-symbol\" aria-roledescription=\"bar\" d=\"M160,137.78165053483886h5v62.21834946516114h-5Z\" fill=\"#4c78a8\"></path><path aria-label=\"node: 14; value: 77.9618570577; max: \" role=\"graphics-symbol\" aria-roledescription=\"bar\" d=\"M172.5,135.0317857852897h5v64.96821421471029h-5Z\" fill=\"#4c78a8\"></path></g><g class=\"mark-group role-legend\" role=\"graphics-symbol\" aria-roledescription=\"legend\" aria-label=\"Symbol legend titled 'max' for fill color with 2 values: , Node 3\"><g transform=\"translate(218,0)\"><path class=\"background\" aria-hidden=\"true\" d=\"M0,0h50v40h-50Z\" pointer-events=\"none\"></path><g><g class=\"mark-group role-legend-entry\"><g transform=\"translate(0,16)\"><path class=\"background\" aria-hidden=\"true\" d=\"M0,0h0v0h0Z\" pointer-events=\"none\"></path><g><g class=\"mark-group role-scope\" role=\"graphics-object\" aria-roledescription=\"group mark container\"><g transform=\"translate(0,0)\"><path class=\"background\" aria-hidden=\"true\" d=\"M0,0h50v11h-50Z\" pointer-events=\"none\" opacity=\"1\"></path><g><g class=\"mark-symbol role-legend-symbol\" pointer-events=\"none\"><path transform=\"translate(6,6)\" d=\"M-5,-5h10v10h-10Z\" fill=\"#4c78a8\" stroke-width=\"1.5\" opacity=\"1\"></path></g><g class=\"mark-text role-legend-label\" pointer-events=\"none\"><text text-anchor=\"start\" transform=\"translate(16,9)\" font-family=\"sans-serif\" font-size=\"10px\" fill=\"#000\" opacity=\"1\"></text></g></g><path class=\"foreground\" aria-hidden=\"true\" d=\"\" pointer-events=\"none\" display=\"none\"></path></g><g transform=\"translate(0,13)\"><path class=\"background\" aria-hidden=\"true\" d=\"M0,0h50v11h-50Z\" pointer-events=\"none\" opacity=\"1\"></path><g><g class=\"mark-symbol role-legend-symbol\" pointer-events=\"none\"><path transform=\"translate(6,6)\" d=\"M-5,-5h10v10h-10Z\" fill=\"#f58518\" stroke-width=\"1.5\" opacity=\"1\"></path></g><g class=\"mark-text role-legend-label\" pointer-events=\"none\"><text text-anchor=\"start\" transform=\"translate(16,9)\" font-family=\"sans-serif\" font-size=\"10px\" fill=\"#000\" opacity=\"1\">Node 3</text></g></g><path class=\"foreground\" aria-hidden=\"true\" d=\"\" pointer-events=\"none\" display=\"none\"></path></g></g></g><path class=\"foreground\" aria-hidden=\"true\" d=\"\" pointer-events=\"none\" display=\"none\"></path></g></g><g class=\"mark-text role-legend-title\" pointer-events=\"none\"><text text-anchor=\"start\" transform=\"translate(0,9)\" font-family=\"sans-serif\" font-size=\"11px\" font-weight=\"bold\" fill=\"#000\" opacity=\"1\">max</text></g></g><path class=\"foreground\" aria-hidden=\"true\" d=\"\" pointer-events=\"none\" display=\"none\"></path></g></g><g class=\"mark-group role-title\"><g transform=\"translate(100,-17)\"><path class=\"background\" aria-hidden=\"true\" d=\"M0,0h0v0h0Z\" pointer-events=\"none\"></path><g><g class=\"mark-text role-title-text\" role=\"graphics-symbol\" aria-roledescription=\"title\" aria-label=\"Title text 'Price at each node'\" pointer-events=\"none\"><text text-anchor=\"middle\" transform=\"translate(0,10)\" font-family=\"sans-serif\" font-size=\"13px\" font-weight=\"bold\" fill=\"#000\" opacity=\"1\">Price at each node</text></g></g><path class=\"foreground\" aria-hidden=\"true\" d=\"\" pointer-events=\"none\" display=\"none\"></path></g></g></g><path class=\"foreground\" aria-hidden=\"true\" d=\"\" display=\"none\"></path></g></g></g></svg>\n"
      ],
      "text/plain": [
       "@vlplot(\n",
       "    title=\"Price at each node\",\n",
       "    mark=\"bar\",\n",
       "    encoding={\n",
       "        x={\n",
       "            field=\"node\"\n",
       "        },\n",
       "        y={\n",
       "            field=\"value\"\n",
       "        },\n",
       "        color={\n",
       "            field=\"max\"\n",
       "        }\n",
       "    },\n",
       "    data={\n",
       "        values=...\n",
       "    }\n",
       ")"
      ]
     },
     "execution_count": 15,
     "metadata": {},
     "output_type": "execute_result"
    }
   ],
   "source": [
    "solution_1b.prices.max = \"\"\n",
    "solution_1b.prices.max[\n",
    "    solution_1b.prices.value .== maximum(solution_1b.prices.value)] .= \"Node 3\"\n",
    "solution_1b.prices |>\n",
    "    @vlplot(:bar, x = :node, y = :value, color = :max, title = \"Price at each node\")"
   ]
  },
  {
   "cell_type": "markdown",
   "metadata": {},
   "source": [
    "##### Which node has the highest price and why?\n",
    "- As we can see from the above plot, Node 3 has the highest price, by a long way. \n",
    "- This reflects the there is a lot of congestion at this node, and therefore\n",
    "the marginal cost of increasing supply at this node is very high. \n",
    "- Given the physics of the system, increasing the load at node 3 would require significant\n",
    "extra generation (ie more than just the additional load). "
   ]
  },
  {
   "cell_type": "code",
   "execution_count": 16,
   "metadata": {},
   "outputs": [
    {
     "data": {
      "text/plain": [
       "204.57409253798673"
      ]
     },
     "execution_count": 16,
     "metadata": {},
     "output_type": "execute_result"
    }
   ],
   "source": [
    "cong_rest = solution_1b.prices.value[solution_1b.prices.node .== 3][1]  - \n",
    "    solution_1b.prices.value[solution_1b.prices.node .== 2][1]"
   ]
  },
  {
   "cell_type": "markdown",
   "metadata": {},
   "source": [
    "##### What is the difference in prices across $l_{23}$, also known as the congestion rent? How do you interpret this value (what is it's practical meaning?)\n",
    "- The difference in prices across node 2 and 3 is more than 200 dollars per MWh. \n",
    "- I interpret this as being the additional cost required to supply an extra unit of \n",
    "energy at node 3 compared to at node 2. This is due to the congestion at node 3.\n",
    "- It would reduce costs a lot to move future extra demand to node 2 rather than node 3, to reduce the congestion rent to the system."
   ]
  },
  {
   "cell_type": "markdown",
   "metadata": {},
   "source": [
    "**C. Demand increase**\n",
    "\n",
    "Make the following changes to the system:\n",
    "\n",
    "- Increase the variable cost of Generator 1 to \\$30 / MWh\n",
    "- Reduce flow limit on the line connecting 2 and 3 ($l_{23}$) to 70 MW\n",
    "- Increase demands everywhere by 5\\%."
   ]
  },
  {
   "cell_type": "code",
   "execution_count": 17,
   "metadata": {},
   "outputs": [
    {
     "data": {
      "text/html": [
       "<table class=\"data-frame\"><thead><tr><th></th><th>connnode</th><th>demand</th></tr><tr><th></th><th>Int64</th><th>Float64</th></tr></thead><tbody><p>11 rows × 2 columns</p><tr><th>1</th><td>2</td><td>-22.785</td></tr><tr><th>2</th><td>3</td><td>-98.91</td></tr><tr><th>3</th><td>4</td><td>-50.19</td></tr><tr><th>4</th><td>5</td><td>-7.98</td></tr><tr><th>5</th><td>6</td><td>-11.76</td></tr><tr><th>6</th><td>9</td><td>-30.975</td></tr><tr><th>7</th><td>10</td><td>-9.45</td></tr><tr><th>8</th><td>11</td><td>-3.675</td></tr><tr><th>9</th><td>12</td><td>-6.405</td></tr><tr><th>10</th><td>13</td><td>-14.175</td></tr><tr><th>11</th><td>14</td><td>-15.645</td></tr></tbody></table>"
      ],
      "text/latex": [
       "\\begin{tabular}{r|cc}\n",
       "\t& connnode & demand\\\\\n",
       "\t\\hline\n",
       "\t& Int64 & Float64\\\\\n",
       "\t\\hline\n",
       "\t1 & 2 & -22.785 \\\\\n",
       "\t2 & 3 & -98.91 \\\\\n",
       "\t3 & 4 & -50.19 \\\\\n",
       "\t4 & 5 & -7.98 \\\\\n",
       "\t5 & 6 & -11.76 \\\\\n",
       "\t6 & 9 & -30.975 \\\\\n",
       "\t7 & 10 & -9.45 \\\\\n",
       "\t8 & 11 & -3.675 \\\\\n",
       "\t9 & 12 & -6.405 \\\\\n",
       "\t10 & 13 & -14.175 \\\\\n",
       "\t11 & 14 & -15.645 \\\\\n",
       "\\end{tabular}\n"
      ],
      "text/plain": [
       "11×2 DataFrame\n",
       "│ Row │ connnode │ demand  │\n",
       "│     │ \u001b[90mInt64\u001b[39m    │ \u001b[90mFloat64\u001b[39m │\n",
       "├─────┼──────────┼─────────┤\n",
       "│ 1   │ 2        │ -22.785 │\n",
       "│ 2   │ 3        │ -98.91  │\n",
       "│ 3   │ 4        │ -50.19  │\n",
       "│ 4   │ 5        │ -7.98   │\n",
       "│ 5   │ 6        │ -11.76  │\n",
       "│ 6   │ 9        │ -30.975 │\n",
       "│ 7   │ 10       │ -9.45   │\n",
       "│ 8   │ 11       │ -3.675  │\n",
       "│ 9   │ 12       │ -6.405  │\n",
       "│ 10  │ 13       │ -14.175 │\n",
       "│ 11  │ 14       │ -15.645 │"
      ]
     },
     "execution_count": 17,
     "metadata": {},
     "output_type": "execute_result"
    }
   ],
   "source": [
    "# Increase demands everywhere by 5%\n",
    "\n",
    "loads_1c = copy(loads) |>\n",
    "    @mutate(demand = _.demand * 1.05) |>\n",
    "    DataFrame"
   ]
  },
  {
   "cell_type": "markdown",
   "metadata": {},
   "source": [
    "Calculate the total available generating capacity:"
   ]
  },
  {
   "cell_type": "code",
   "execution_count": 18,
   "metadata": {},
   "outputs": [
    {
     "data": {
      "text/plain": [
       "472.4"
      ]
     },
     "execution_count": 18,
     "metadata": {},
     "output_type": "execute_result"
    }
   ],
   "source": [
    "total_capacity = sum(gens_1a.pgmax)"
   ]
  },
  {
   "cell_type": "markdown",
   "metadata": {},
   "source": [
    "Calculate the new total demand:"
   ]
  },
  {
   "cell_type": "code",
   "execution_count": 19,
   "metadata": {},
   "outputs": [
    {
     "data": {
      "text/plain": [
       "271.94999999999993"
      ]
     },
     "execution_count": 19,
     "metadata": {},
     "output_type": "execute_result"
    }
   ],
   "source": [
    "total_demand = -sum(loads_1c.demand)"
   ]
  },
  {
   "cell_type": "markdown",
   "metadata": {},
   "source": [
    "Run the DCOPF and show prices."
   ]
  },
  {
   "cell_type": "code",
   "execution_count": 20,
   "metadata": {},
   "outputs": [
    {
     "name": "stdout",
     "output_type": "stream",
     "text": [
      "Termination status was INFEASIBLE\n",
      "Optimised cost was 7636.0\n"
     ]
    }
   ],
   "source": [
    "solution_1c = dcopf_ieee(gens_1a, lines_1b, loads_1c);\n",
    "print_cost_and_status(solution_1c)"
   ]
  },
  {
   "cell_type": "code",
   "execution_count": 21,
   "metadata": {},
   "outputs": [
    {
     "data": {
      "text/html": [
       "<table class=\"data-frame\"><thead><tr><th></th><th>node</th><th>value</th></tr><tr><th></th><th>Int64</th><th>Float64</th></tr></thead><tbody><p>14 rows × 2 columns</p><tr><th>1</th><td>1</td><td>NaN</td></tr><tr><th>2</th><td>2</td><td>NaN</td></tr><tr><th>3</th><td>3</td><td>NaN</td></tr><tr><th>4</th><td>4</td><td>NaN</td></tr><tr><th>5</th><td>5</td><td>NaN</td></tr><tr><th>6</th><td>6</td><td>NaN</td></tr><tr><th>7</th><td>7</td><td>NaN</td></tr><tr><th>8</th><td>8</td><td>NaN</td></tr><tr><th>9</th><td>9</td><td>1.0</td></tr><tr><th>10</th><td>10</td><td>NaN</td></tr><tr><th>11</th><td>11</td><td>NaN</td></tr><tr><th>12</th><td>12</td><td>NaN</td></tr><tr><th>13</th><td>13</td><td>NaN</td></tr><tr><th>14</th><td>14</td><td>NaN</td></tr></tbody></table>"
      ],
      "text/latex": [
       "\\begin{tabular}{r|cc}\n",
       "\t& node & value\\\\\n",
       "\t\\hline\n",
       "\t& Int64 & Float64\\\\\n",
       "\t\\hline\n",
       "\t1 & 1 & NaN \\\\\n",
       "\t2 & 2 & NaN \\\\\n",
       "\t3 & 3 & NaN \\\\\n",
       "\t4 & 4 & NaN \\\\\n",
       "\t5 & 5 & NaN \\\\\n",
       "\t6 & 6 & NaN \\\\\n",
       "\t7 & 7 & NaN \\\\\n",
       "\t8 & 8 & NaN \\\\\n",
       "\t9 & 9 & 1.0 \\\\\n",
       "\t10 & 10 & NaN \\\\\n",
       "\t11 & 11 & NaN \\\\\n",
       "\t12 & 12 & NaN \\\\\n",
       "\t13 & 13 & NaN \\\\\n",
       "\t14 & 14 & NaN \\\\\n",
       "\\end{tabular}\n"
      ],
      "text/plain": [
       "14×2 DataFrame\n",
       "│ Row │ node  │ value   │\n",
       "│     │ \u001b[90mInt64\u001b[39m │ \u001b[90mFloat64\u001b[39m │\n",
       "├─────┼───────┼─────────┤\n",
       "│ 1   │ 1     │ NaN     │\n",
       "│ 2   │ 2     │ NaN     │\n",
       "│ 3   │ 3     │ NaN     │\n",
       "│ 4   │ 4     │ NaN     │\n",
       "│ 5   │ 5     │ NaN     │\n",
       "│ 6   │ 6     │ NaN     │\n",
       "│ 7   │ 7     │ NaN     │\n",
       "│ 8   │ 8     │ NaN     │\n",
       "│ 9   │ 9     │ 1.0     │\n",
       "│ 10  │ 10    │ NaN     │\n",
       "│ 11  │ 11    │ NaN     │\n",
       "│ 12  │ 12    │ NaN     │\n",
       "│ 13  │ 13    │ NaN     │\n",
       "│ 14  │ 14    │ NaN     │"
      ]
     },
     "execution_count": 21,
     "metadata": {},
     "output_type": "execute_result"
    }
   ],
   "source": [
    "solution_1c.prices"
   ]
  },
  {
   "cell_type": "markdown",
   "metadata": {},
   "source": [
    "**What is happening in this system?** "
   ]
  },
  {
   "cell_type": "markdown",
   "metadata": {},
   "source": [
    "- We cannot meet demand, given the constraints on our system \n",
    "- Despite us having enough available generation, we can't get it to the demand in a feasible way, given the physics of the system. \n",
    "- Therefore, prices are NaN (we can think of this as being infinite). "
   ]
  },
  {
   "cell_type": "markdown",
   "metadata": {},
   "source": [
    "## Question 2: Linear losses\n",
    "\n",
    "Up until now, we have ignored transmission losses. A quadratic approximation of losses is given by:\n",
    "$$\n",
    "\\begin{align}\n",
    "LOSS_{ij} &\\approx \\frac{G_{ij}}{BaseMVA} (\\theta_i-\\theta_j)^2 \\\\\n",
    " & \\approx \\frac{1}{BaseMVA} \\frac{R_{ij}}{R_{ij}^2+X_{ij}^2}(\\theta_i-\\theta_j)^2\n",
    "\\end{align}\n",
    "$$\n",
    "\n",
    "where $G$ is the line's conductance, $R$ is the line's resistance and $X$ is the line's reactance. See the `lines` data frame for these parameters.\n",
    "\n",
    "For our purposes, we will approximate this quadratic via:\n",
    "\n",
    "\n",
    "$$\n",
    "LOSS_{ij} \\geq \\frac{R_{ij}}{BaseMVA} \\times (MaxFlow_{ij})^2 \n",
    "\\left(\\frac{|FLOW_{ij}|}{MaxFlow_{ij}} - 0.165 \\right)\n",
    "$$\n",
    "\n",
    "where $MaxFlow_{ij}=200 MW$ in this problem. Note the greater than equal sign, as we do not want to have negative losses.\n",
    "\n",
    "This approximation is based on Fitiwi et al. (2016), \"Finding a representative network losses model for large-scale transmission expansion planning with renewable energy sources,\" *Energy* 101: 343-358, https://doi.org/10.1016/j.energy.2016.02.015. \n",
    "\n",
    "Note that this is a linear approximation of transmission losses, which are actually a quadratic function of power flows. Fitiwi et al. 2016 and other papers describe piece-wise or segment-wise linear approximations of the quadratic function which provide a tighter lower bound approximation of losses, but we'll use a single linear term for this assignment. \n",
    "\n",
    "See Jenkins & Sepulveda et al. 2017, \"Enhanced decision support for a changing electricity landscape: the GenX configurable electricity resource capacity expansion model\", MIT Energy Initiative Working Paper 2017-10 http://bit.ly/GenXModel Section 5.8, for an example of a linear segment-wise approximation of quadratic transmission losses. \n",
    "\n",
    "\n",
    "**A. Code linear losses**\n",
    "\n",
    "Reload the original data from Notebook 6 and copy the IEEE 14 bus system and DCOPF solver function from Notebook 6 into a new function `dcopf_ieee_lossy`.\n",
    "\n",
    "Make the following changes:\n",
    "- Increase the variable cost of Generator 1 to \\$30 / MWh\n",
    "- Change all transmission line capacities to 200 MW\n",
    "\n",
    "Implement losses into the supply/demand balance equations. A standard way to implement absolute values in linear programming is by introducing two non-negative auxiliary variables $x^+$, $x^-$ $\\geq 0$:\n",
    "\n",
    "$$\n",
    "x = x^+ - x^-\n",
    "$$\n",
    "\n",
    "and the absolute value can be represented as:\n",
    "\n",
    "$$\n",
    "|x| = x^+ + x^-\n",
    "$$\n",
    "\n",
    "(You should satisfy yourself that this equality holds.)\n",
    "\n",
    "It makes the formulation easier if losses are added to the supply/demand balance constraint in each node by splitting losses in half between the receiving and sending end.\n",
    "\n",
    "Indicate which equations and variables you have added and explain your steps using inline code comments (e.g. `# Comment`).\n",
    "\n",
    "Run the lossy DCOPF and output generation, flows, losses, and prices."
   ]
  },
  {
   "cell_type": "code",
   "execution_count": 22,
   "metadata": {},
   "outputs": [
    {
     "data": {
      "text/plain": [
       "dcopf_ieee_lossy (generic function with 1 method)"
      ]
     },
     "execution_count": 22,
     "metadata": {},
     "output_type": "execute_result"
    }
   ],
   "source": [
    "#=\n",
    "Function to solve DC OPF problem using IEEE test cases. Includes quadratic \n",
    "loss approximation \n",
    "Inputs:\n",
    "    gen_info -- dataframe with generator info\n",
    "    line_info -- dataframe with transmission lines info\n",
    "    loads  -- dataframe with load info\n",
    "=#\n",
    "function dcopf_ieee_lossy(gens, lines, loads)\n",
    "\n",
    "    DCOPF = Model(GLPK.Optimizer) \n",
    "    G = gens.connnode\n",
    "    N = sort(union(unique(lines.fromnode), \n",
    "            unique(lines.tonode)))\n",
    "    baseMVA = 100\n",
    "    \n",
    "    # Decision variables  - I have added an auxialiary Flow Absolute value var\n",
    "    @variables(DCOPF, begin\n",
    "        GEN[N]  >= 0               # generation        \n",
    "        # Note: we assume Pmin = 0 for all resources for simplicty here\n",
    "        THETA[N]                   # voltage phase angle of bus\n",
    "        FLOW[N,N]                  # flows between all pairs of nodes\n",
    "        FLOW_abs[N,N] >= 0         # Include auxilliary variable\n",
    "    end)\n",
    "\n",
    "    # Constraint for Flow variables - constrain the absolute value version\n",
    "    # borrowing idea from here: \n",
    "    # https://github.com/jump-dev/JuMP.jl/issues/48#issuecomment-25575389\n",
    "    cAbs_Flows_neg = JuMP.Containers.DenseAxisArray{Any}(undef, 1:nrow(lines)) \n",
    "    cAbs_Flows_pos = JuMP.Containers.DenseAxisArray{Any}(undef, 1:nrow(lines)) \n",
    "    for l in 1:nrow(lines)\n",
    "        cAbs_Flows_neg[l] = @constraint(\n",
    "            DCOPF, \n",
    "            FLOW_abs[lines[l,:fromnode],lines[l,:tonode]] >= \n",
    "            - FLOW[lines[l,:fromnode],lines[l,:tonode]]  \n",
    "            )        \n",
    "        cAbs_Flows_pos[l] = @constraint(\n",
    "            DCOPF, \n",
    "            FLOW_abs[lines[l,:fromnode],lines[l,:tonode]] >= \n",
    "            FLOW[lines[l,:fromnode],lines[l,:tonode]]  \n",
    "            )        \n",
    "    end\n",
    "\n",
    "    # Create slack bus with reference angle = 0; use bus 1 with generator\n",
    "    fix(THETA[1],0)\n",
    "                \n",
    "    # Objective function\n",
    "    @objective(DCOPF, Min, \n",
    "        sum( gens[g,:c1] * GEN[g] for g in G)\n",
    "    )\n",
    "    \n",
    "    # Set the max flow - erroring if we aren't in the simple sitution defined \n",
    "    # in this particular problem\n",
    "    if length(unique(lines.capacity)) .== 1\n",
    "        MaxFlow = maximum(lines.capacity)\n",
    "    else\n",
    "        throw(DomainError(\"Only coded it up for homogenous max flow\"))\n",
    "    end\n",
    "\n",
    "    # expression for losses - coded from question math defintiion\n",
    "    eLoss = JuMP.Containers.DenseAxisArray{Any}(undef, 1:nrow(lines)) \n",
    "    for l in 1:nrow(lines)\n",
    "        eLoss[l] = @expression(DCOPF, \n",
    "            lines.resistance[l] ./\n",
    "                baseMVA .* MaxFlow ^ 2 .*\n",
    "                ((FLOW_abs[lines.fromnode[l],lines.tonode[l]] \n",
    "                    ./ MaxFlow) .- 0.165)\n",
    "        )\n",
    "    end\n",
    "    \n",
    "    # Supply demand balances - add in losses expression\n",
    "    # split losses as being half for each direction, for coding convenience\n",
    "    @constraint(DCOPF, \n",
    "        cBalance[i in N], \n",
    "        sum(GEN[g] for g in gens[gens.connnode .== i,:connnode]) \n",
    "            + sum(load for load in loads[loads.connnode .== i,:demand]) \n",
    "        == sum(FLOW[i,j] + 0.5 * eLoss[i]\n",
    "            for j in lines[lines.fromnode .== i,:tonode]) \n",
    "    )\n",
    "\n",
    "    # Max generation constraint\n",
    "    @constraint(DCOPF, cMaxGen[g in G],\n",
    "                    GEN[g] <= gens[g,:pgmax])\n",
    "\n",
    "    # Flow constraints on each branch; \n",
    "    # In DCOPF, line flow is a function of voltage angles\n",
    "       # Create an array of references to the line constraints, \n",
    "       # which we \"fill\" below in loop\n",
    "    cLineFlows = JuMP.Containers.DenseAxisArray{Any}(undef, 1:nrow(lines)) \n",
    "    for l in 1:nrow(lines)\n",
    "        cLineFlows[l] = @constraint(DCOPF, \n",
    "            FLOW[lines[l,:fromnode],lines[l,:tonode]] == \n",
    "            baseMVA * lines[l,:b] * \n",
    "            (THETA[lines[l,:fromnode]] - THETA[lines[l,:tonode]])\n",
    "        )\n",
    "    end\n",
    "    \n",
    "    # Max line flow limits\n",
    "       # Create an array of references to the line constraints, \n",
    "       # which we \"fill\" below in loop\n",
    "    cLineLimits = JuMP.Containers.DenseAxisArray{Any}(undef, 1:nrow(lines)) \n",
    "    for l in 1:nrow(lines)\n",
    "        cLineLimits[l] = @constraint(DCOPF,\n",
    "            FLOW[lines[l,:fromnode],lines[l,:tonode]] <=\n",
    "            lines[l,:capacity]\n",
    "        ) \n",
    "    end\n",
    "\n",
    "    # Solve statement (! indicates runs in place)\n",
    "    optimize!(DCOPF)\n",
    "\n",
    "    # Output variables\n",
    "    generation = DataFrame(\n",
    "        node = gens.connnode,\n",
    "        gen = value.(GEN).data[gens.connnode]\n",
    "        )\n",
    "    \n",
    "    angles = value.(THETA).data\n",
    "    \n",
    "    flows = DataFrame(\n",
    "        fbus = lines.fromnode,\n",
    "        tbus = lines.tonode,\n",
    "        flow = baseMVA * lines.b .* (angles[lines.fromnode] .- \n",
    "                        angles[lines.tonode]))\n",
    "    \n",
    "    # We output the marginal values of the demand constraints, \n",
    "    # which will in fact be the prices to deliver power at a given bus.\n",
    "    prices = DataFrame(\n",
    "        node = N,\n",
    "        value = dual.(cBalance).data)\n",
    "\n",
    "    # Return the solution and objective as named tuple\n",
    "    return (\n",
    "        generation = generation, \n",
    "        angles,\n",
    "        flows,\n",
    "        prices,\n",
    "        cost = objective_value(DCOPF),\n",
    "        status = termination_status(DCOPF),\n",
    "        flows_raw = DataFrame(value.(FLOW).data),\n",
    "        flows_raw_abs = DataFrame(value.(FLOW_abs).data),\n",
    "        losses = DataFrame(Loss = value.(eLoss).data)\n",
    "    )\n",
    "end\n"
   ]
  },
  {
   "cell_type": "code",
   "execution_count": 23,
   "metadata": {},
   "outputs": [
    {
     "data": {
      "text/html": [
       "<table class=\"data-frame\"><thead><tr><th></th><th>fromnode</th><th>tonode</th><th>resistance</th><th>reactance</th><th>contingencymarked</th><th>capacity</th><th>id</th><th>b</th></tr><tr><th></th><th>Int64</th><th>Int64</th><th>Float64</th><th>Float64</th><th>Int64</th><th>Int64</th><th>Int64</th><th>Float64</th></tr></thead><tbody><p>6 rows × 8 columns</p><tr><th>1</th><td>1</td><td>2</td><td>0.01938</td><td>0.05917</td><td>1</td><td>200</td><td>1</td><td>16.9005</td></tr><tr><th>2</th><td>1</td><td>5</td><td>0.05403</td><td>0.22304</td><td>1</td><td>200</td><td>2</td><td>4.4835</td></tr><tr><th>3</th><td>2</td><td>3</td><td>0.04699</td><td>0.19797</td><td>1</td><td>200</td><td>3</td><td>5.05127</td></tr><tr><th>4</th><td>2</td><td>4</td><td>0.05811</td><td>0.17632</td><td>1</td><td>200</td><td>4</td><td>5.67151</td></tr><tr><th>5</th><td>2</td><td>5</td><td>0.05695</td><td>0.17388</td><td>1</td><td>200</td><td>5</td><td>5.75109</td></tr><tr><th>6</th><td>3</td><td>4</td><td>0.06701</td><td>0.17103</td><td>1</td><td>200</td><td>6</td><td>5.84693</td></tr></tbody></table>"
      ],
      "text/latex": [
       "\\begin{tabular}{r|cccccccc}\n",
       "\t& fromnode & tonode & resistance & reactance & contingencymarked & capacity & id & b\\\\\n",
       "\t\\hline\n",
       "\t& Int64 & Int64 & Float64 & Float64 & Int64 & Int64 & Int64 & Float64\\\\\n",
       "\t\\hline\n",
       "\t1 & 1 & 2 & 0.01938 & 0.05917 & 1 & 200 & 1 & 16.9005 \\\\\n",
       "\t2 & 1 & 5 & 0.05403 & 0.22304 & 1 & 200 & 2 & 4.4835 \\\\\n",
       "\t3 & 2 & 3 & 0.04699 & 0.19797 & 1 & 200 & 3 & 5.05127 \\\\\n",
       "\t4 & 2 & 4 & 0.05811 & 0.17632 & 1 & 200 & 4 & 5.67151 \\\\\n",
       "\t5 & 2 & 5 & 0.05695 & 0.17388 & 1 & 200 & 5 & 5.75109 \\\\\n",
       "\t6 & 3 & 4 & 0.06701 & 0.17103 & 1 & 200 & 6 & 5.84693 \\\\\n",
       "\\end{tabular}\n"
      ],
      "text/plain": [
       "6×8 DataFrame. Omitted printing of 3 columns\n",
       "│ Row │ fromnode │ tonode │ resistance │ reactance │ contingencymarked │\n",
       "│     │ \u001b[90mInt64\u001b[39m    │ \u001b[90mInt64\u001b[39m  │ \u001b[90mFloat64\u001b[39m    │ \u001b[90mFloat64\u001b[39m   │ \u001b[90mInt64\u001b[39m             │\n",
       "├─────┼──────────┼────────┼────────────┼───────────┼───────────────────┤\n",
       "│ 1   │ 1        │ 2      │ 0.01938    │ 0.05917   │ 1                 │\n",
       "│ 2   │ 1        │ 5      │ 0.05403    │ 0.22304   │ 1                 │\n",
       "│ 3   │ 2        │ 3      │ 0.04699    │ 0.19797   │ 1                 │\n",
       "│ 4   │ 2        │ 4      │ 0.05811    │ 0.17632   │ 1                 │\n",
       "│ 5   │ 2        │ 5      │ 0.05695    │ 0.17388   │ 1                 │\n",
       "│ 6   │ 3        │ 4      │ 0.06701    │ 0.17103   │ 1                 │"
      ]
     },
     "execution_count": 23,
     "metadata": {},
     "output_type": "execute_result"
    }
   ],
   "source": [
    "# Increase the variable cost of Generator 1 to $30 / MWh\n",
    "#  we use gens_1a dataframe, which already has that\n",
    "\n",
    "# Change all transmission line capacities to 200 MW\n",
    "lines_2 = copy(lines)\n",
    "lines_2.capacity .= 200\n",
    "head(lines_2)"
   ]
  },
  {
   "cell_type": "code",
   "execution_count": 24,
   "metadata": {},
   "outputs": [
    {
     "name": "stdout",
     "output_type": "stream",
     "text": [
      "Termination status was OPTIMAL\n",
      "Optimised cost was 6451.0\n"
     ]
    }
   ],
   "source": [
    "# Approximate the quadratic\n",
    "# Current version runs, with no changes \n",
    "solution_2 = dcopf_ieee_lossy(gens_1a, lines_2, loads);\n",
    "print_cost_and_status(solution_2)"
   ]
  },
  {
   "cell_type": "code",
   "execution_count": 25,
   "metadata": {},
   "outputs": [
    {
     "data": {
      "text/html": [
       "<table class=\"data-frame\"><thead><tr><th></th><th>node</th><th>gen</th></tr><tr><th></th><th>Int64</th><th>Float64</th></tr></thead><tbody><p>2 rows × 2 columns</p><tr><th>1</th><td>1</td><td>121.709</td></tr><tr><th>2</th><td>2</td><td>140.0</td></tr></tbody></table>"
      ],
      "text/latex": [
       "\\begin{tabular}{r|cc}\n",
       "\t& node & gen\\\\\n",
       "\t\\hline\n",
       "\t& Int64 & Float64\\\\\n",
       "\t\\hline\n",
       "\t1 & 1 & 121.709 \\\\\n",
       "\t2 & 2 & 140.0 \\\\\n",
       "\\end{tabular}\n"
      ],
      "text/plain": [
       "2×2 DataFrame\n",
       "│ Row │ node  │ gen     │\n",
       "│     │ \u001b[90mInt64\u001b[39m │ \u001b[90mFloat64\u001b[39m │\n",
       "├─────┼───────┼─────────┤\n",
       "│ 1   │ 1     │ 121.709 │\n",
       "│ 2   │ 2     │ 140.0   │"
      ]
     },
     "execution_count": 25,
     "metadata": {},
     "output_type": "execute_result"
    }
   ],
   "source": [
    "# output generation\n",
    "solution_2.generation"
   ]
  },
  {
   "cell_type": "code",
   "execution_count": 26,
   "metadata": {},
   "outputs": [
    {
     "data": {
      "text/html": [
       "<table class=\"data-frame\"><thead><tr><th></th><th>fbus</th><th>tbus</th><th>flow</th></tr><tr><th></th><th>Int64</th><th>Int64</th><th>Float64</th></tr></thead><tbody><p>40 rows × 3 columns</p><tr><th>1</th><td>1</td><td>2</td><td>66.5431</td></tr><tr><th>2</th><td>1</td><td>5</td><td>53.8654</td></tr><tr><th>3</th><td>2</td><td>3</td><td>74.0428</td></tr><tr><th>4</th><td>2</td><td>4</td><td>59.8405</td></tr><tr><th>5</th><td>2</td><td>5</td><td>46.4503</td></tr><tr><th>6</th><td>3</td><td>4</td><td>-24.0144</td></tr><tr><th>7</th><td>4</td><td>5</td><td>-58.7578</td></tr><tr><th>8</th><td>4</td><td>7</td><td>24.9014</td></tr><tr><th>9</th><td>4</td><td>9</td><td>14.0841</td></tr><tr><th>10</th><td>5</td><td>6</td><td>30.8939</td></tr><tr><th>11</th><td>6</td><td>11</td><td>5.95002</td></tr><tr><th>12</th><td>6</td><td>12</td><td>3.1705</td></tr><tr><th>13</th><td>6</td><td>13</td><td>12.9819</td></tr><tr><th>14</th><td>7</td><td>8</td><td>0.0</td></tr><tr><th>15</th><td>7</td><td>9</td><td>23.8698</td></tr><tr><th>16</th><td>9</td><td>10</td><td>1.41156</td></tr><tr><th>17</th><td>9</td><td>14</td><td>7.0423</td></tr><tr><th>18</th><td>10</td><td>11</td><td>-7.58844</td></tr><tr><th>19</th><td>12</td><td>13</td><td>4.40319</td></tr><tr><th>20</th><td>13</td><td>14</td><td>7.8577</td></tr><tr><th>21</th><td>2</td><td>1</td><td>-66.5431</td></tr><tr><th>22</th><td>5</td><td>1</td><td>-53.8654</td></tr><tr><th>23</th><td>3</td><td>2</td><td>-74.0428</td></tr><tr><th>24</th><td>4</td><td>2</td><td>-59.8405</td></tr><tr><th>25</th><td>5</td><td>2</td><td>-46.4503</td></tr><tr><th>26</th><td>4</td><td>3</td><td>24.0144</td></tr><tr><th>27</th><td>5</td><td>4</td><td>58.7578</td></tr><tr><th>28</th><td>7</td><td>4</td><td>-24.9014</td></tr><tr><th>29</th><td>9</td><td>4</td><td>-14.0841</td></tr><tr><th>30</th><td>6</td><td>5</td><td>-30.8939</td></tr><tr><th>&vellip;</th><td>&vellip;</td><td>&vellip;</td><td>&vellip;</td></tr></tbody></table>"
      ],
      "text/latex": [
       "\\begin{tabular}{r|ccc}\n",
       "\t& fbus & tbus & flow\\\\\n",
       "\t\\hline\n",
       "\t& Int64 & Int64 & Float64\\\\\n",
       "\t\\hline\n",
       "\t1 & 1 & 2 & 66.5431 \\\\\n",
       "\t2 & 1 & 5 & 53.8654 \\\\\n",
       "\t3 & 2 & 3 & 74.0428 \\\\\n",
       "\t4 & 2 & 4 & 59.8405 \\\\\n",
       "\t5 & 2 & 5 & 46.4503 \\\\\n",
       "\t6 & 3 & 4 & -24.0144 \\\\\n",
       "\t7 & 4 & 5 & -58.7578 \\\\\n",
       "\t8 & 4 & 7 & 24.9014 \\\\\n",
       "\t9 & 4 & 9 & 14.0841 \\\\\n",
       "\t10 & 5 & 6 & 30.8939 \\\\\n",
       "\t11 & 6 & 11 & 5.95002 \\\\\n",
       "\t12 & 6 & 12 & 3.1705 \\\\\n",
       "\t13 & 6 & 13 & 12.9819 \\\\\n",
       "\t14 & 7 & 8 & 0.0 \\\\\n",
       "\t15 & 7 & 9 & 23.8698 \\\\\n",
       "\t16 & 9 & 10 & 1.41156 \\\\\n",
       "\t17 & 9 & 14 & 7.0423 \\\\\n",
       "\t18 & 10 & 11 & -7.58844 \\\\\n",
       "\t19 & 12 & 13 & 4.40319 \\\\\n",
       "\t20 & 13 & 14 & 7.8577 \\\\\n",
       "\t21 & 2 & 1 & -66.5431 \\\\\n",
       "\t22 & 5 & 1 & -53.8654 \\\\\n",
       "\t23 & 3 & 2 & -74.0428 \\\\\n",
       "\t24 & 4 & 2 & -59.8405 \\\\\n",
       "\t25 & 5 & 2 & -46.4503 \\\\\n",
       "\t26 & 4 & 3 & 24.0144 \\\\\n",
       "\t27 & 5 & 4 & 58.7578 \\\\\n",
       "\t28 & 7 & 4 & -24.9014 \\\\\n",
       "\t29 & 9 & 4 & -14.0841 \\\\\n",
       "\t30 & 6 & 5 & -30.8939 \\\\\n",
       "\t$\\dots$ & $\\dots$ & $\\dots$ & $\\dots$ \\\\\n",
       "\\end{tabular}\n"
      ],
      "text/plain": [
       "40×3 DataFrame\n",
       "│ Row │ fbus  │ tbus  │ flow     │\n",
       "│     │ \u001b[90mInt64\u001b[39m │ \u001b[90mInt64\u001b[39m │ \u001b[90mFloat64\u001b[39m  │\n",
       "├─────┼───────┼───────┼──────────┤\n",
       "│ 1   │ 1     │ 2     │ 66.5431  │\n",
       "│ 2   │ 1     │ 5     │ 53.8654  │\n",
       "│ 3   │ 2     │ 3     │ 74.0428  │\n",
       "│ 4   │ 2     │ 4     │ 59.8405  │\n",
       "│ 5   │ 2     │ 5     │ 46.4503  │\n",
       "│ 6   │ 3     │ 4     │ -24.0144 │\n",
       "│ 7   │ 4     │ 5     │ -58.7578 │\n",
       "│ 8   │ 4     │ 7     │ 24.9014  │\n",
       "│ 9   │ 4     │ 9     │ 14.0841  │\n",
       "│ 10  │ 5     │ 6     │ 30.8939  │\n",
       "⋮\n",
       "│ 30  │ 6     │ 5     │ -30.8939 │\n",
       "│ 31  │ 11    │ 6     │ -5.95002 │\n",
       "│ 32  │ 12    │ 6     │ -3.1705  │\n",
       "│ 33  │ 13    │ 6     │ -12.9819 │\n",
       "│ 34  │ 8     │ 7     │ 0.0      │\n",
       "│ 35  │ 9     │ 7     │ -23.8698 │\n",
       "│ 36  │ 10    │ 9     │ -1.41156 │\n",
       "│ 37  │ 14    │ 9     │ -7.0423  │\n",
       "│ 38  │ 11    │ 10    │ 7.58844  │\n",
       "│ 39  │ 13    │ 12    │ -4.40319 │\n",
       "│ 40  │ 14    │ 13    │ -7.8577  │"
      ]
     },
     "execution_count": 26,
     "metadata": {},
     "output_type": "execute_result"
    }
   ],
   "source": [
    "# output flows\n",
    "solution_2.flows "
   ]
  },
  {
   "cell_type": "code",
   "execution_count": 27,
   "metadata": {},
   "outputs": [
    {
     "data": {
      "text/html": [
       "<table class=\"data-frame\"><thead><tr><th></th><th>Loss</th></tr><tr><th></th><th>Float64</th></tr></thead><tbody><p>40 rows × 1 columns</p><tr><th>1</th><td>1.30013</td></tr><tr><th>2</th><td>2.25472</td></tr><tr><th>3</th><td>3.8572</td></tr><tr><th>4</th><td>3.1194</td></tr><tr><th>5</th><td>1.53199</td></tr><tr><th>6</th><td>-1.20425</td></tr><tr><th>7</th><td>0.687734</td></tr><tr><th>8</th><td>0.0</td></tr><tr><th>9</th><td>0.0</td></tr><tr><th>10</th><td>0.0</td></tr><tr><th>11</th><td>-5.13841</td></tr><tr><th>12</th><td>-7.33269</td></tr><tr><th>13</th><td>-2.64839</td></tr><tr><th>14</th><td>0.0</td></tr><tr><th>15</th><td>0.0</td></tr><tr><th>16</th><td>-2.00966</td></tr><tr><th>17</th><td>-6.59897</td></tr><tr><th>18</th><td>-4.17004</td></tr><tr><th>19</th><td>-12.6352</td></tr><tr><th>20</th><td>-8.59515</td></tr><tr><th>21</th><td>1.30013</td></tr><tr><th>22</th><td>2.25472</td></tr><tr><th>23</th><td>3.8572</td></tr><tr><th>24</th><td>3.1194</td></tr><tr><th>25</th><td>1.53199</td></tr><tr><th>26</th><td>-1.20425</td></tr><tr><th>27</th><td>0.687734</td></tr><tr><th>28</th><td>0.0</td></tr><tr><th>29</th><td>0.0</td></tr><tr><th>30</th><td>0.0</td></tr><tr><th>&vellip;</th><td>&vellip;</td></tr></tbody></table>"
      ],
      "text/latex": [
       "\\begin{tabular}{r|c}\n",
       "\t& Loss\\\\\n",
       "\t\\hline\n",
       "\t& Float64\\\\\n",
       "\t\\hline\n",
       "\t1 & 1.30013 \\\\\n",
       "\t2 & 2.25472 \\\\\n",
       "\t3 & 3.8572 \\\\\n",
       "\t4 & 3.1194 \\\\\n",
       "\t5 & 1.53199 \\\\\n",
       "\t6 & -1.20425 \\\\\n",
       "\t7 & 0.687734 \\\\\n",
       "\t8 & 0.0 \\\\\n",
       "\t9 & 0.0 \\\\\n",
       "\t10 & 0.0 \\\\\n",
       "\t11 & -5.13841 \\\\\n",
       "\t12 & -7.33269 \\\\\n",
       "\t13 & -2.64839 \\\\\n",
       "\t14 & 0.0 \\\\\n",
       "\t15 & 0.0 \\\\\n",
       "\t16 & -2.00966 \\\\\n",
       "\t17 & -6.59897 \\\\\n",
       "\t18 & -4.17004 \\\\\n",
       "\t19 & -12.6352 \\\\\n",
       "\t20 & -8.59515 \\\\\n",
       "\t21 & 1.30013 \\\\\n",
       "\t22 & 2.25472 \\\\\n",
       "\t23 & 3.8572 \\\\\n",
       "\t24 & 3.1194 \\\\\n",
       "\t25 & 1.53199 \\\\\n",
       "\t26 & -1.20425 \\\\\n",
       "\t27 & 0.687734 \\\\\n",
       "\t28 & 0.0 \\\\\n",
       "\t29 & 0.0 \\\\\n",
       "\t30 & 0.0 \\\\\n",
       "\t$\\dots$ & $\\dots$ \\\\\n",
       "\\end{tabular}\n"
      ],
      "text/plain": [
       "40×1 DataFrame\n",
       "│ Row │ Loss     │\n",
       "│     │ \u001b[90mFloat64\u001b[39m  │\n",
       "├─────┼──────────┤\n",
       "│ 1   │ 1.30013  │\n",
       "│ 2   │ 2.25472  │\n",
       "│ 3   │ 3.8572   │\n",
       "│ 4   │ 3.1194   │\n",
       "│ 5   │ 1.53199  │\n",
       "│ 6   │ -1.20425 │\n",
       "│ 7   │ 0.687734 │\n",
       "│ 8   │ 0.0      │\n",
       "│ 9   │ 0.0      │\n",
       "│ 10  │ 0.0      │\n",
       "⋮\n",
       "│ 30  │ 0.0      │\n",
       "│ 31  │ -5.13841 │\n",
       "│ 32  │ -7.33269 │\n",
       "│ 33  │ -2.64839 │\n",
       "│ 34  │ 0.0      │\n",
       "│ 35  │ 0.0      │\n",
       "│ 36  │ -2.00966 │\n",
       "│ 37  │ -6.59897 │\n",
       "│ 38  │ -4.17004 │\n",
       "│ 39  │ -12.6352 │\n",
       "│ 40  │ -8.59515 │"
      ]
     },
     "execution_count": 27,
     "metadata": {},
     "output_type": "execute_result"
    }
   ],
   "source": [
    "# output losses\n",
    "solution_2.losses"
   ]
  },
  {
   "cell_type": "code",
   "execution_count": 28,
   "metadata": {},
   "outputs": [
    {
     "data": {
      "text/html": [
       "<table class=\"data-frame\"><thead><tr><th></th><th>node</th><th>value</th></tr><tr><th></th><th>Int64</th><th>Float64</th></tr></thead><tbody><p>14 rows × 2 columns</p><tr><th>1</th><td>1</td><td>30.0</td></tr><tr><th>2</th><td>2</td><td>31.0821</td></tr><tr><th>3</th><td>3</td><td>41.8474</td></tr><tr><th>4</th><td>4</td><td>38.4599</td></tr><tr><th>5</th><td>5</td><td>37.0216</td></tr><tr><th>6</th><td>6</td><td>34.6598</td></tr><tr><th>7</th><td>7</td><td>39.7052</td></tr><tr><th>8</th><td>8</td><td>39.7052</td></tr><tr><th>9</th><td>9</td><td>40.3603</td></tr><tr><th>10</th><td>10</td><td>40.7531</td></tr><tr><th>11</th><td>11</td><td>41.6461</td></tr><tr><th>12</th><td>12</td><td>44.2729</td></tr><tr><th>13</th><td>13</td><td>43.2804</td></tr><tr><th>14</th><td>14</td><td>41.637</td></tr></tbody></table>"
      ],
      "text/latex": [
       "\\begin{tabular}{r|cc}\n",
       "\t& node & value\\\\\n",
       "\t\\hline\n",
       "\t& Int64 & Float64\\\\\n",
       "\t\\hline\n",
       "\t1 & 1 & 30.0 \\\\\n",
       "\t2 & 2 & 31.0821 \\\\\n",
       "\t3 & 3 & 41.8474 \\\\\n",
       "\t4 & 4 & 38.4599 \\\\\n",
       "\t5 & 5 & 37.0216 \\\\\n",
       "\t6 & 6 & 34.6598 \\\\\n",
       "\t7 & 7 & 39.7052 \\\\\n",
       "\t8 & 8 & 39.7052 \\\\\n",
       "\t9 & 9 & 40.3603 \\\\\n",
       "\t10 & 10 & 40.7531 \\\\\n",
       "\t11 & 11 & 41.6461 \\\\\n",
       "\t12 & 12 & 44.2729 \\\\\n",
       "\t13 & 13 & 43.2804 \\\\\n",
       "\t14 & 14 & 41.637 \\\\\n",
       "\\end{tabular}\n"
      ],
      "text/plain": [
       "14×2 DataFrame\n",
       "│ Row │ node  │ value   │\n",
       "│     │ \u001b[90mInt64\u001b[39m │ \u001b[90mFloat64\u001b[39m │\n",
       "├─────┼───────┼─────────┤\n",
       "│ 1   │ 1     │ 30.0    │\n",
       "│ 2   │ 2     │ 31.0821 │\n",
       "│ 3   │ 3     │ 41.8474 │\n",
       "│ 4   │ 4     │ 38.4599 │\n",
       "│ 5   │ 5     │ 37.0216 │\n",
       "│ 6   │ 6     │ 34.6598 │\n",
       "│ 7   │ 7     │ 39.7052 │\n",
       "│ 8   │ 8     │ 39.7052 │\n",
       "│ 9   │ 9     │ 40.3603 │\n",
       "│ 10  │ 10    │ 40.7531 │\n",
       "│ 11  │ 11    │ 41.6461 │\n",
       "│ 12  │ 12    │ 44.2729 │\n",
       "│ 13  │ 13    │ 43.2804 │\n",
       "│ 14  │ 14    │ 41.637  │"
      ]
     },
     "execution_count": 28,
     "metadata": {},
     "output_type": "execute_result"
    }
   ],
   "source": [
    "# output prices\n",
    "solution_2.prices"
   ]
  },
  {
   "cell_type": "markdown",
   "metadata": {},
   "source": [
    "**B. Interpret results**\n",
    "\n",
    "Run the same parameters in the lossless OPF from problem 1. How do prices and flows change? What is the largest magnitude difference in prices between the solution with losses and the lossless OPF solution?"
   ]
  },
  {
   "cell_type": "code",
   "execution_count": 29,
   "metadata": {},
   "outputs": [
    {
     "name": "stdout",
     "output_type": "stream",
     "text": [
      "Termination status was OPTIMAL\n",
      "Optimised cost was 6370.0\n"
     ]
    }
   ],
   "source": [
    "# Compare to without the losses\n",
    "# Run the same parameters in the lossless OPF from problem 1. \n",
    "# How do prices and flows change? What is the largest magnitude \n",
    "# difference in prices between the solution with losses \n",
    "# and the lossless OPF solution?\n",
    "\n",
    "solution_2_no_losses = dcopf_ieee(gens_1a, lines_2, loads);\n",
    "print_cost_and_status(solution_2_no_losses)"
   ]
  },
  {
   "cell_type": "code",
   "execution_count": 30,
   "metadata": {},
   "outputs": [
    {
     "data": {
      "application/vnd.vegalite.v4+json": {
       "data": {
        "values": [
         {
          "node": 1,
          "price_diff": -4.263256414560601e-14,
          "with_losses": 29.999999999999986,
          "without_losses": 30.00000000000003
         },
         {
          "node": 2,
          "price_diff": 1.0821074661476011,
          "with_losses": 31.082107466147615,
          "without_losses": 30.000000000000014
         },
         {
          "node": 3,
          "price_diff": 11.847404772141388,
          "with_losses": 41.8474047721414,
          "without_losses": 30.000000000000014
         },
         {
          "node": 4,
          "price_diff": 8.459896698232015,
          "with_losses": 38.45989669823205,
          "without_losses": 30.000000000000036
         },
         {
          "node": 5,
          "price_diff": 7.021633778621361,
          "with_losses": 37.02163377862138,
          "without_losses": 30.000000000000018
         },
         {
          "node": 6,
          "price_diff": 4.659805548927231,
          "with_losses": 34.659805548927274,
          "without_losses": 30.000000000000043
         },
         {
          "node": 7,
          "price_diff": 9.705163327078445,
          "with_losses": 39.7051633270785,
          "without_losses": 30.000000000000057
         },
         {
          "node": 8,
          "price_diff": 9.705163327078399,
          "with_losses": 39.70516332707846,
          "without_losses": 30.00000000000006
         },
         {
          "node": 9,
          "price_diff": 10.360250271605004,
          "with_losses": 40.36025027160506,
          "without_losses": 30.000000000000057
         },
         {
          "node": 10,
          "price_diff": 10.753125536927012,
          "with_losses": 40.753125536927044,
          "without_losses": 30.000000000000032
         },
         {
          "node": 11,
          "price_diff": 11.64613798912113,
          "with_losses": 41.646137989121186,
          "without_losses": 30.000000000000057
         },
         {
          "node": 12,
          "price_diff": 14.272855347161087,
          "with_losses": 44.272855347161126,
          "without_losses": 30.00000000000004
         },
         {
          "node": 13,
          "price_diff": 13.28044579233259,
          "with_losses": 43.28044579233263,
          "without_losses": 30.00000000000004
         },
         {
          "node": 14,
          "price_diff": 11.637033041485779,
          "with_losses": 41.63703304148583,
          "without_losses": 30.00000000000005
         }
        ]
       },
       "encoding": {
        "x": {
         "field": "node",
         "type": "quantitative"
        },
        "y": {
         "field": "price_diff",
         "type": "quantitative"
        }
       },
       "mark": "bar",
       "title": "price with losses minus price without"
      },
      "image/png": "[encoded data removed]",
      "image/svg+xml": [
       "<?xml version=\"1.0\" encoding=\"utf-8\"?>\n",
       "<!DOCTYPE svg PUBLIC \"-//W3C//DTD SVG 1.1//EN\" \"http://www.w3.org/Graphics/SVG/1.1/DTD/svg11.dtd\">\n",
       "<svg class=\"marks\" width=\"261\" height=\"259\" viewBox=\"0 0 261 259\" version=\"1.1\" xmlns=\"http://www.w3.org/2000/svg\" xmlns:xlink=\"http://www.w3.org/1999/xlink\"><rect width=\"261\" height=\"259\" fill=\"white\"></rect><g fill=\"none\" stroke-miterlimit=\"10\" transform=\"translate(39,22)\"><g class=\"mark-group role-frame root\" role=\"graphics-object\" aria-roledescription=\"group mark container\"><g transform=\"translate(0,0)\"><path class=\"background\" aria-hidden=\"true\" d=\"M0.5,0.5h200v200h-200Z\" stroke=\"#ddd\"></path><g><g class=\"mark-group role-axis\" aria-hidden=\"true\"><g transform=\"translate(0.5,200.5)\"><path class=\"background\" aria-hidden=\"true\" d=\"M0,0h0v0h0Z\" pointer-events=\"none\"></path><g><g class=\"mark-rule role-axis-grid\" pointer-events=\"none\"><line transform=\"translate(0,-200)\" x2=\"0\" y2=\"200\" stroke=\"#ddd\" stroke-width=\"1\" opacity=\"1\"></line><line transform=\"translate(63,-200)\" x2=\"0\" y2=\"200\" stroke=\"#ddd\" stroke-width=\"1\" opacity=\"1\"></line><line transform=\"translate(125,-200)\" x2=\"0\" y2=\"200\" stroke=\"#ddd\" stroke-width=\"1\" opacity=\"1\"></line><line transform=\"translate(188,-200)\" x2=\"0\" y2=\"200\" stroke=\"#ddd\" stroke-width=\"1\" opacity=\"1\"></line></g></g><path class=\"foreground\" aria-hidden=\"true\" d=\"\" pointer-events=\"none\" display=\"none\"></path></g></g><g class=\"mark-group role-axis\" aria-hidden=\"true\"><g transform=\"translate(0.5,0.5)\"><path class=\"background\" aria-hidden=\"true\" d=\"M0,0h0v0h0Z\" pointer-events=\"none\"></path><g><g class=\"mark-rule role-axis-grid\" pointer-events=\"none\"><line transform=\"translate(0,178)\" x2=\"200\" y2=\"0\" stroke=\"#ddd\" stroke-width=\"1\" opacity=\"1\"></line><line transform=\"translate(0,122)\" x2=\"200\" y2=\"0\" stroke=\"#ddd\" stroke-width=\"1\" opacity=\"1\"></line><line transform=\"translate(0,67)\" x2=\"200\" y2=\"0\" stroke=\"#ddd\" stroke-width=\"1\" opacity=\"1\"></line><line transform=\"translate(0,11)\" x2=\"200\" y2=\"0\" stroke=\"#ddd\" stroke-width=\"1\" opacity=\"1\"></line></g></g><path class=\"foreground\" aria-hidden=\"true\" d=\"\" pointer-events=\"none\" display=\"none\"></path></g></g><g class=\"mark-group role-axis\" role=\"graphics-symbol\" aria-roledescription=\"axis\" aria-label=\"X-axis titled 'node' for a linear scale with values from 0 to 16\"><g transform=\"translate(0.5,200.5)\"><path class=\"background\" aria-hidden=\"true\" d=\"M0,0h0v0h0Z\" pointer-events=\"none\"></path><g><g class=\"mark-rule role-axis-tick\" pointer-events=\"none\"><line transform=\"translate(0,0)\" x2=\"0\" y2=\"5\" stroke=\"#888\" stroke-width=\"1\" opacity=\"1\"></line><line transform=\"translate(63,0)\" x2=\"0\" y2=\"5\" stroke=\"#888\" stroke-width=\"1\" opacity=\"1\"></line><line transform=\"translate(125,0)\" x2=\"0\" y2=\"5\" stroke=\"#888\" stroke-width=\"1\" opacity=\"1\"></line><line transform=\"translate(188,0)\" x2=\"0\" y2=\"5\" stroke=\"#888\" stroke-width=\"1\" opacity=\"1\"></line></g><g class=\"mark-text role-axis-label\" pointer-events=\"none\"><text text-anchor=\"start\" transform=\"translate(0,15)\" font-family=\"sans-serif\" font-size=\"10px\" fill=\"#000\" opacity=\"1\">0</text><text text-anchor=\"middle\" transform=\"translate(62.5,15)\" font-family=\"sans-serif\" font-size=\"10px\" fill=\"#000\" opacity=\"1\">5</text><text text-anchor=\"middle\" transform=\"translate(125,15)\" font-family=\"sans-serif\" font-size=\"10px\" fill=\"#000\" opacity=\"1\">10</text><text text-anchor=\"middle\" transform=\"translate(187.5,15)\" font-family=\"sans-serif\" font-size=\"10px\" fill=\"#000\" opacity=\"1\">15</text></g><g class=\"mark-rule role-axis-domain\" pointer-events=\"none\"><line transform=\"translate(0,0)\" x2=\"200\" y2=\"0\" stroke=\"#888\" stroke-width=\"1\" opacity=\"1\"></line></g><g class=\"mark-text role-axis-title\" pointer-events=\"none\"><text text-anchor=\"middle\" transform=\"translate(100,30)\" font-family=\"sans-serif\" font-size=\"11px\" font-weight=\"bold\" fill=\"#000\" opacity=\"1\">node</text></g></g><path class=\"foreground\" aria-hidden=\"true\" d=\"\" pointer-events=\"none\" display=\"none\"></path></g></g><g class=\"mark-group role-axis\" role=\"graphics-symbol\" aria-roledescription=\"axis\" aria-label=\"Y-axis titled 'price_diff' for a linear scale with values from -2 to 16\"><g transform=\"translate(0.5,0.5)\"><path class=\"background\" aria-hidden=\"true\" d=\"M0,0h0v0h0Z\" pointer-events=\"none\"></path><g><g class=\"mark-rule role-axis-tick\" pointer-events=\"none\"><line transform=\"translate(0,178)\" x2=\"-5\" y2=\"0\" stroke=\"#888\" stroke-width=\"1\" opacity=\"1\"></line><line transform=\"translate(0,122)\" x2=\"-5\" y2=\"0\" stroke=\"#888\" stroke-width=\"1\" opacity=\"1\"></line><line transform=\"translate(0,67)\" x2=\"-5\" y2=\"0\" stroke=\"#888\" stroke-width=\"1\" opacity=\"1\"></line><line transform=\"translate(0,11)\" x2=\"-5\" y2=\"0\" stroke=\"#888\" stroke-width=\"1\" opacity=\"1\"></line></g><g class=\"mark-text role-axis-label\" pointer-events=\"none\"><text text-anchor=\"end\" transform=\"translate(-7,180.77777777777777)\" font-family=\"sans-serif\" font-size=\"10px\" fill=\"#000\" opacity=\"1\">0</text><text text-anchor=\"end\" transform=\"translate(-7,125.22222222222223)\" font-family=\"sans-serif\" font-size=\"10px\" fill=\"#000\" opacity=\"1\">5</text><text text-anchor=\"end\" transform=\"translate(-7,69.66666666666667)\" font-family=\"sans-serif\" font-size=\"10px\" fill=\"#000\" opacity=\"1\">10</text><text text-anchor=\"end\" transform=\"translate(-7,14.111111111111116)\" font-family=\"sans-serif\" font-size=\"10px\" fill=\"#000\" opacity=\"1\">15</text></g><g class=\"mark-rule role-axis-domain\" pointer-events=\"none\"><line transform=\"translate(0,200)\" x2=\"0\" y2=\"-200\" stroke=\"#888\" stroke-width=\"1\" opacity=\"1\"></line></g><g class=\"mark-text role-axis-title\" pointer-events=\"none\"><text text-anchor=\"middle\" transform=\"translate(-23,100) rotate(-90) translate(0,-2)\" font-family=\"sans-serif\" font-size=\"11px\" font-weight=\"bold\" fill=\"#000\" opacity=\"1\">price_diff</text></g></g><path class=\"foreground\" aria-hidden=\"true\" d=\"\" pointer-events=\"none\" display=\"none\"></path></g></g><g class=\"mark-rect role-mark marks\" role=\"graphics-object\" aria-roledescription=\"rect mark container\"><path aria-label=\"node: 1; price_diff: -4.26325641456e-14\" role=\"graphics-symbol\" aria-roledescription=\"bar\" d=\"M10,177.77777777777777h5v4.831690603168681e-13h-5Z\" fill=\"#4c78a8\"></path><path aria-label=\"node: 2; price_diff: 1.08210746615\" role=\"graphics-symbol\" aria-roledescription=\"bar\" d=\"M22.5,165.75436148724887h5v12.0234162905289h-5Z\" fill=\"#4c78a8\"></path><path aria-label=\"node: 3; price_diff: 11.8474047721\" role=\"graphics-symbol\" aria-roledescription=\"bar\" d=\"M35,46.1399469762068h5v131.63783080157097h-5Z\" fill=\"#4c78a8\"></path><path aria-label=\"node: 4; price_diff: 8.45989669823\" role=\"graphics-symbol\" aria-roledescription=\"bar\" d=\"M47.5,83.77892557519984h5v93.99885220257794h-5Z\" fill=\"#4c78a8\"></path><path aria-label=\"node: 5; price_diff: 7.02163377862\" role=\"graphics-symbol\" aria-roledescription=\"bar\" d=\"M60,99.75962468198487h5v78.0181530957929h-5Z\" fill=\"#4c78a8\"></path><path aria-label=\"node: 6; price_diff: 4.65980554893\" role=\"graphics-symbol\" aria-roledescription=\"bar\" d=\"M72.5,126.00216056747522h5v51.775617210302556h-5Z\" fill=\"#4c78a8\"></path><path aria-label=\"node: 7; price_diff: 9.70516332708\" role=\"graphics-symbol\" aria-roledescription=\"bar\" d=\"M85,69.94262969912839h5v107.83514807864938h-5Z\" fill=\"#4c78a8\"></path><path aria-label=\"node: 8; price_diff: 9.70516332708\" role=\"graphics-symbol\" aria-roledescription=\"bar\" d=\"M97.5,69.9426296991289h5v107.83514807864887h-5Z\" fill=\"#4c78a8\"></path><path aria-label=\"node: 9; price_diff: 10.3602502716\" role=\"graphics-symbol\" aria-roledescription=\"bar\" d=\"M110,62.66388587105551h5v115.11389190672226h-5Z\" fill=\"#4c78a8\"></path><path aria-label=\"node: 10; price_diff: 10.7531255369\" role=\"graphics-symbol\" aria-roledescription=\"bar\" d=\"M122.5,58.29860514525542h5v119.47917263252235h-5Z\" fill=\"#4c78a8\"></path><path aria-label=\"node: 11; price_diff: 11.6461379891\" role=\"graphics-symbol\" aria-roledescription=\"bar\" d=\"M135,48.37624456532079h5v129.40153321245697h-5Z\" fill=\"#4c78a8\"></path><path aria-label=\"node: 12; price_diff: 14.2728553472\" role=\"graphics-symbol\" aria-roledescription=\"bar\" d=\"M147.5,19.190496142654577h5v158.5872816351232h-5Z\" fill=\"#4c78a8\"></path><path aria-label=\"node: 13; price_diff: 13.2804457923\" role=\"graphics-symbol\" aria-roledescription=\"bar\" d=\"M160,30.217268974082344h5v147.56050880369543h-5Z\" fill=\"#4c78a8\"></path><path aria-label=\"node: 14; price_diff: 11.6370330415\" role=\"graphics-symbol\" aria-roledescription=\"bar\" d=\"M172.5,48.477410650158006h5v129.30036712761978h-5Z\" fill=\"#4c78a8\"></path></g><g class=\"mark-group role-title\"><g transform=\"translate(100,-17)\"><path class=\"background\" aria-hidden=\"true\" d=\"M0,0h0v0h0Z\" pointer-events=\"none\"></path><g><g class=\"mark-text role-title-text\" role=\"graphics-symbol\" aria-roledescription=\"title\" aria-label=\"Title text 'price with losses minus price without'\" pointer-events=\"none\"><text text-anchor=\"middle\" transform=\"translate(0,10)\" font-family=\"sans-serif\" font-size=\"13px\" font-weight=\"bold\" fill=\"#000\" opacity=\"1\">price with losses minus price without</text></g></g><path class=\"foreground\" aria-hidden=\"true\" d=\"\" pointer-events=\"none\" display=\"none\"></path></g></g></g><path class=\"foreground\" aria-hidden=\"true\" d=\"\" display=\"none\"></path></g></g></g></svg>\n"
      ],
      "text/plain": [
       "@vlplot(\n",
       "    title=\"price with losses minus price without\",\n",
       "    mark=\"bar\",\n",
       "    encoding={\n",
       "        x={\n",
       "            field=\"node\"\n",
       "        },\n",
       "        y={\n",
       "            field=\"price_diff\"\n",
       "        }\n",
       "    },\n",
       "    data={\n",
       "        values=...\n",
       "    }\n",
       ")"
      ]
     },
     "execution_count": 30,
     "metadata": {},
     "output_type": "execute_result"
    }
   ],
   "source": [
    "# Plot a comparison of the prices \n",
    "comp_price_df = DataFrame(with_losses = solution_2.prices.value, \n",
    "    without_losses = solution_2_no_losses.prices.value)\n",
    "comp_price_df.price_diff = comp_price_df.with_losses .- comp_price_df.without_losses\n",
    "comp_price_df.node = 1:14\n",
    "comp_price_df |>\n",
    "    @vlplot(:bar, x = :node, y = :price_diff, title = \"price with losses minus price without\")"
   ]
  },
  {
   "cell_type": "code",
   "execution_count": 31,
   "metadata": {},
   "outputs": [
    {
     "data": {
      "application/vnd.vegalite.v4+json": {
       "data": {
        "values": [
         {
          "flow_diff": 2.465181473707048,
          "id": 1,
          "with_losses": 66.54312598589689,
          "without_losses": 64.07794451218984
         },
         {
          "flow_diff": -1.0566344868542075,
          "id": 2,
          "with_losses": 53.86542100095624,
          "without_losses": 54.92205548781045
         },
         {
          "flow_diff": 1.258243839896707,
          "id": 3,
          "with_losses": 74.04282733202947,
          "without_losses": 72.78458349213277
         },
         {
          "flow_diff": -1.108245118483545,
          "id": 4,
          "with_losses": 59.840514571835,
          "without_losses": 60.948759690318546
         },
         {
          "flow_diff": -2.194252034432985,
          "id": 5,
          "with_losses": 46.450349295305735,
          "without_losses": 48.64460132973872
         },
         {
          "flow_diff": -2.5989610727671746,
          "id": 6,
          "with_losses": -24.014377580634545,
          "without_losses": -21.41541650786737
         },
         {
          "flow_diff": -4.42010839364022,
          "id": 7,
          "with_losses": -58.75784359625239,
          "without_losses": -54.33773520261217
         },
         {
          "flow_diff": -4.372608205190623,
          "id": 8,
          "with_losses": 24.901377441270935,
          "without_losses": 29.273985646461558
         },
         {
          "flow_diff": -2.713001101266009,
          "id": 9,
          "with_losses": 14.084091637335302,
          "without_losses": 16.79709273860131
         },
         {
          "flow_diff": -10.734984484397987,
          "id": 10,
          "with_losses": 30.893937130538998,
          "without_losses": 41.628921614936985
         },
         {
          "flow_diff": -0.08094419578297352,
          "id": 11,
          "with_losses": 5.950021466279566,
          "without_losses": 6.030965662062539
         },
         {
          "flow_diff": -4.334431220716301,
          "id": 12,
          "with_losses": 3.170500382090992,
          "without_losses": 7.504931602807292
         },
         {
          "flow_diff": -3.9111028346118424,
          "id": 13,
          "with_losses": 12.981921515455394,
          "without_losses": 16.893024350067236
         },
         {
          "flow_diff": 0,
          "id": 14,
          "with_losses": 0,
          "without_losses": 0
         },
         {
          "flow_diff": -5.4042098412204815,
          "id": 15,
          "with_losses": 23.869775805241073,
          "without_losses": 29.273985646461554
         },
         {
          "flow_diff": -5.05746972648259,
          "id": 16,
          "with_losses": 1.4115646114549385,
          "without_losses": 6.469034337937528
         },
         {
          "flow_diff": -3.0597412160040625,
          "id": 17,
          "with_losses": 7.042302831121414,
          "without_losses": 10.102044047125476
         },
         {
          "flow_diff": -5.057469726482507,
          "id": 18,
          "with_losses": -7.588435388544979,
          "without_losses": -2.530965662062471
         },
         {
          "flow_diff": 2.9982563753579754,
          "id": 19,
          "with_losses": 4.403187978165287,
          "without_losses": 1.4049316028073118
         },
         {
          "flow_diff": 3.0597412160041007,
          "id": 20,
          "with_losses": 7.857697168878603,
          "without_losses": 4.797955952874502
         },
         {
          "flow_diff": -2.465181473707048,
          "id": 21,
          "with_losses": -66.54312598589689,
          "without_losses": -64.07794451218984
         },
         {
          "flow_diff": 1.0566344868542075,
          "id": 22,
          "with_losses": -53.86542100095624,
          "without_losses": -54.92205548781045
         },
         {
          "flow_diff": -1.258243839896707,
          "id": 23,
          "with_losses": -74.04282733202947,
          "without_losses": -72.78458349213277
         },
         {
          "flow_diff": 1.108245118483545,
          "id": 24,
          "with_losses": -59.840514571835,
          "without_losses": -60.948759690318546
         },
         {
          "flow_diff": 2.194252034432985,
          "id": 25,
          "with_losses": -46.450349295305735,
          "without_losses": -48.64460132973872
         },
         {
          "flow_diff": 2.5989610727671746,
          "id": 26,
          "with_losses": 24.014377580634545,
          "without_losses": 21.41541650786737
         },
         {
          "flow_diff": 4.42010839364022,
          "id": 27,
          "with_losses": 58.75784359625239,
          "without_losses": 54.33773520261217
         },
         {
          "flow_diff": 4.372608205190623,
          "id": 28,
          "with_losses": -24.901377441270935,
          "without_losses": -29.273985646461558
         },
         {
          "flow_diff": 2.713001101266009,
          "id": 29,
          "with_losses": -14.084091637335302,
          "without_losses": -16.79709273860131
         },
         {
          "flow_diff": 10.734984484397987,
          "id": 30,
          "with_losses": -30.893937130538998,
          "without_losses": -41.628921614936985
         },
         {
          "flow_diff": 0.08094419578297352,
          "id": 31,
          "with_losses": -5.950021466279566,
          "without_losses": -6.030965662062539
         },
         {
          "flow_diff": 4.334431220716301,
          "id": 32,
          "with_losses": -3.170500382090992,
          "without_losses": -7.504931602807292
         },
         {
          "flow_diff": 3.9111028346118424,
          "id": 33,
          "with_losses": -12.981921515455394,
          "without_losses": -16.893024350067236
         },
         {
          "flow_diff": 0,
          "id": 34,
          "with_losses": 0,
          "without_losses": 0
         },
         {
          "flow_diff": 5.4042098412204815,
          "id": 35,
          "with_losses": -23.869775805241073,
          "without_losses": -29.273985646461554
         },
         {
          "flow_diff": 5.05746972648259,
          "id": 36,
          "with_losses": -1.4115646114549385,
          "without_losses": -6.469034337937528
         },
         {
          "flow_diff": 3.0597412160040625,
          "id": 37,
          "with_losses": -7.042302831121414,
          "without_losses": -10.102044047125476
         },
         {
          "flow_diff": 5.057469726482507,
          "id": 38,
          "with_losses": 7.588435388544979,
          "without_losses": 2.530965662062471
         },
         {
          "flow_diff": -2.9982563753579754,
          "id": 39,
          "with_losses": -4.403187978165287,
          "without_losses": -1.4049316028073118
         },
         {
          "flow_diff": -3.0597412160041007,
          "id": 40,
          "with_losses": -7.857697168878603,
          "without_losses": -4.797955952874502
         }
        ]
       },
       "encoding": {
        "x": {
         "field": "id",
         "type": "quantitative"
        },
        "y": {
         "field": "flow_diff",
         "type": "quantitative"
        }
       },
       "mark": "bar"
      },
      "image/png": "[encoded data removed]",
      "image/svg+xml": [
       "<?xml version=\"1.0\" encoding=\"utf-8\"?>\n",
       "<!DOCTYPE svg PUBLIC \"-//W3C//DTD SVG 1.1//EN\" \"http://www.w3.org/Graphics/SVG/1.1/DTD/svg11.dtd\">\n",
       "<svg class=\"marks\" width=\"247\" height=\"242\" viewBox=\"0 0 247 242\" version=\"1.1\" xmlns=\"http://www.w3.org/2000/svg\" xmlns:xlink=\"http://www.w3.org/1999/xlink\"><rect width=\"247\" height=\"242\" fill=\"white\"></rect><g fill=\"none\" stroke-miterlimit=\"10\" transform=\"translate(42,5)\"><g class=\"mark-group role-frame root\" role=\"graphics-object\" aria-roledescription=\"group mark container\"><g transform=\"translate(0,0)\"><path class=\"background\" aria-hidden=\"true\" d=\"M0.5,0.5h200v200h-200Z\" stroke=\"#ddd\"></path><g><g class=\"mark-group role-axis\" aria-hidden=\"true\"><g transform=\"translate(0.5,200.5)\"><path class=\"background\" aria-hidden=\"true\" d=\"M0,0h0v0h0Z\" pointer-events=\"none\"></path><g><g class=\"mark-rule role-axis-grid\" pointer-events=\"none\"><line transform=\"translate(20,-200)\" x2=\"0\" y2=\"200\" stroke=\"#ddd\" stroke-width=\"1\" opacity=\"1\"></line><line transform=\"translate(60,-200)\" x2=\"0\" y2=\"200\" stroke=\"#ddd\" stroke-width=\"1\" opacity=\"1\"></line><line transform=\"translate(100,-200)\" x2=\"0\" y2=\"200\" stroke=\"#ddd\" stroke-width=\"1\" opacity=\"1\"></line><line transform=\"translate(140,-200)\" x2=\"0\" y2=\"200\" stroke=\"#ddd\" stroke-width=\"1\" opacity=\"1\"></line><line transform=\"translate(180,-200)\" x2=\"0\" y2=\"200\" stroke=\"#ddd\" stroke-width=\"1\" opacity=\"1\"></line></g></g><path class=\"foreground\" aria-hidden=\"true\" d=\"\" pointer-events=\"none\" display=\"none\"></path></g></g><g class=\"mark-group role-axis\" aria-hidden=\"true\"><g transform=\"translate(0.5,0.5)\"><path class=\"background\" aria-hidden=\"true\" d=\"M0,0h0v0h0Z\" pointer-events=\"none\"></path><g><g class=\"mark-rule role-axis-grid\" pointer-events=\"none\"><line transform=\"translate(0,183)\" x2=\"200\" y2=\"0\" stroke=\"#ddd\" stroke-width=\"1\" opacity=\"1\"></line><line transform=\"translate(0,142)\" x2=\"200\" y2=\"0\" stroke=\"#ddd\" stroke-width=\"1\" opacity=\"1\"></line><line transform=\"translate(0,100)\" x2=\"200\" y2=\"0\" stroke=\"#ddd\" stroke-width=\"1\" opacity=\"1\"></line><line transform=\"translate(0,58)\" x2=\"200\" y2=\"0\" stroke=\"#ddd\" stroke-width=\"1\" opacity=\"1\"></line><line transform=\"translate(0,17)\" x2=\"200\" y2=\"0\" stroke=\"#ddd\" stroke-width=\"1\" opacity=\"1\"></line></g></g><path class=\"foreground\" aria-hidden=\"true\" d=\"\" pointer-events=\"none\" display=\"none\"></path></g></g><g class=\"mark-group role-axis\" role=\"graphics-symbol\" aria-roledescription=\"axis\" aria-label=\"X-axis titled 'id' for a linear scale with values from -5 to 45\"><g transform=\"translate(0.5,200.5)\"><path class=\"background\" aria-hidden=\"true\" d=\"M0,0h0v0h0Z\" pointer-events=\"none\"></path><g><g class=\"mark-rule role-axis-tick\" pointer-events=\"none\"><line transform=\"translate(20,0)\" x2=\"0\" y2=\"5\" stroke=\"#888\" stroke-width=\"1\" opacity=\"1\"></line><line transform=\"translate(60,0)\" x2=\"0\" y2=\"5\" stroke=\"#888\" stroke-width=\"1\" opacity=\"1\"></line><line transform=\"translate(100,0)\" x2=\"0\" y2=\"5\" stroke=\"#888\" stroke-width=\"1\" opacity=\"1\"></line><line transform=\"translate(140,0)\" x2=\"0\" y2=\"5\" stroke=\"#888\" stroke-width=\"1\" opacity=\"1\"></line><line transform=\"translate(180,0)\" x2=\"0\" y2=\"5\" stroke=\"#888\" stroke-width=\"1\" opacity=\"1\"></line></g><g class=\"mark-text role-axis-label\" pointer-events=\"none\"><text text-anchor=\"middle\" transform=\"translate(20,15)\" font-family=\"sans-serif\" font-size=\"10px\" fill=\"#000\" opacity=\"1\">0</text><text text-anchor=\"middle\" transform=\"translate(60,15)\" font-family=\"sans-serif\" font-size=\"10px\" fill=\"#000\" opacity=\"1\">10</text><text text-anchor=\"middle\" transform=\"translate(100,15)\" font-family=\"sans-serif\" font-size=\"10px\" fill=\"#000\" opacity=\"1\">20</text><text text-anchor=\"middle\" transform=\"translate(140,15)\" font-family=\"sans-serif\" font-size=\"10px\" fill=\"#000\" opacity=\"1\">30</text><text text-anchor=\"middle\" transform=\"translate(180,15)\" font-family=\"sans-serif\" font-size=\"10px\" fill=\"#000\" opacity=\"1\">40</text></g><g class=\"mark-rule role-axis-domain\" pointer-events=\"none\"><line transform=\"translate(0,0)\" x2=\"200\" y2=\"0\" stroke=\"#888\" stroke-width=\"1\" opacity=\"1\"></line></g><g class=\"mark-text role-axis-title\" pointer-events=\"none\"><text text-anchor=\"middle\" transform=\"translate(100,30)\" font-family=\"sans-serif\" font-size=\"11px\" font-weight=\"bold\" fill=\"#000\" opacity=\"1\">id</text></g></g><path class=\"foreground\" aria-hidden=\"true\" d=\"\" pointer-events=\"none\" display=\"none\"></path></g></g><g class=\"mark-group role-axis\" role=\"graphics-symbol\" aria-roledescription=\"axis\" aria-label=\"Y-axis titled 'flow_diff' for a linear scale with values from -12 to 12\"><g transform=\"translate(0.5,0.5)\"><path class=\"background\" aria-hidden=\"true\" d=\"M0,0h0v0h0Z\" pointer-events=\"none\"></path><g><g class=\"mark-rule role-axis-tick\" pointer-events=\"none\"><line transform=\"translate(0,183)\" x2=\"-5\" y2=\"0\" stroke=\"#888\" stroke-width=\"1\" opacity=\"1\"></line><line transform=\"translate(0,142)\" x2=\"-5\" y2=\"0\" stroke=\"#888\" stroke-width=\"1\" opacity=\"1\"></line><line transform=\"translate(0,100)\" x2=\"-5\" y2=\"0\" stroke=\"#888\" stroke-width=\"1\" opacity=\"1\"></line><line transform=\"translate(0,58)\" x2=\"-5\" y2=\"0\" stroke=\"#888\" stroke-width=\"1\" opacity=\"1\"></line><line transform=\"translate(0,17)\" x2=\"-5\" y2=\"0\" stroke=\"#888\" stroke-width=\"1\" opacity=\"1\"></line></g><g class=\"mark-text role-axis-label\" pointer-events=\"none\"><text text-anchor=\"end\" transform=\"translate(-7,186.33333333333331)\" font-family=\"sans-serif\" font-size=\"10px\" fill=\"#000\" opacity=\"1\">-10</text><text text-anchor=\"end\" transform=\"translate(-7,144.66666666666666)\" font-family=\"sans-serif\" font-size=\"10px\" fill=\"#000\" opacity=\"1\">-5</text><text text-anchor=\"end\" transform=\"translate(-7,103)\" font-family=\"sans-serif\" font-size=\"10px\" fill=\"#000\" opacity=\"1\">0</text><text text-anchor=\"end\" transform=\"translate(-7,61.33333333333333)\" font-family=\"sans-serif\" font-size=\"10px\" fill=\"#000\" opacity=\"1\">5</text><text text-anchor=\"end\" transform=\"translate(-7,19.666666666666675)\" font-family=\"sans-serif\" font-size=\"10px\" fill=\"#000\" opacity=\"1\">10</text></g><g class=\"mark-rule role-axis-domain\" pointer-events=\"none\"><line transform=\"translate(0,200)\" x2=\"0\" y2=\"-200\" stroke=\"#888\" stroke-width=\"1\" opacity=\"1\"></line></g><g class=\"mark-text role-axis-title\" pointer-events=\"none\"><text text-anchor=\"middle\" transform=\"translate(-26,100) rotate(-90) translate(0,-2)\" font-family=\"sans-serif\" font-size=\"11px\" font-weight=\"bold\" fill=\"#000\" opacity=\"1\">flow_diff</text></g></g><path class=\"foreground\" aria-hidden=\"true\" d=\"\" pointer-events=\"none\" display=\"none\"></path></g></g><g class=\"mark-rect role-mark marks\" role=\"graphics-object\" aria-roledescription=\"rect mark container\"><path aria-label=\"id: 1; flow_diff: 2.46518147371\" role=\"graphics-symbol\" aria-roledescription=\"bar\" d=\"M21.5,79.45682105244127h5v20.54317894755873h-5Z\" fill=\"#4c78a8\"></path><path aria-label=\"id: 2; flow_diff: -1.05663448685\" role=\"graphics-symbol\" aria-roledescription=\"bar\" d=\"M25.500000000000004,100h5v8.805287390451738h-5Z\" fill=\"#4c78a8\"></path><path aria-label=\"id: 3; flow_diff: 1.2582438399\" role=\"graphics-symbol\" aria-roledescription=\"bar\" d=\"M29.5,89.51463466752745h5v10.485365332472554h-5Z\" fill=\"#4c78a8\"></path><path aria-label=\"id: 4; flow_diff: -1.10824511848\" role=\"graphics-symbol\" aria-roledescription=\"bar\" d=\"M33.5,100h5v9.235375987362858h-5Z\" fill=\"#4c78a8\"></path><path aria-label=\"id: 5; flow_diff: -2.19425203443\" role=\"graphics-symbol\" aria-roledescription=\"bar\" d=\"M37.5,100h5v18.28543362027486h-5Z\" fill=\"#4c78a8\"></path><path aria-label=\"id: 6; flow_diff: -2.59896107277\" role=\"graphics-symbol\" aria-roledescription=\"bar\" d=\"M41.5,100h5v21.65800893972647h-5Z\" fill=\"#4c78a8\"></path><path aria-label=\"id: 7; flow_diff: -4.42010839364\" role=\"graphics-symbol\" aria-roledescription=\"bar\" d=\"M45.5,100h5v36.83423661366851h-5Z\" fill=\"#4c78a8\"></path><path aria-label=\"id: 8; flow_diff: -4.37260820519\" role=\"graphics-symbol\" aria-roledescription=\"bar\" d=\"M49.5,100h5v36.43840170992186h-5Z\" fill=\"#4c78a8\"></path><path aria-label=\"id: 9; flow_diff: -2.71300110127\" role=\"graphics-symbol\" aria-roledescription=\"bar\" d=\"M53.50000000000001,100h5v22.60834251055006h-5Z\" fill=\"#4c78a8\"></path><path aria-label=\"id: 10; flow_diff: -10.7349844844\" role=\"graphics-symbol\" aria-roledescription=\"bar\" d=\"M57.5,100h5v89.4582040366499h-5Z\" fill=\"#4c78a8\"></path><path aria-label=\"id: 11; flow_diff: -0.080944195783\" role=\"graphics-symbol\" aria-roledescription=\"bar\" d=\"M61.5,100h5v0.6745349648581254h-5Z\" fill=\"#4c78a8\"></path><path aria-label=\"id: 12; flow_diff: -4.33443122072\" role=\"graphics-symbol\" aria-roledescription=\"bar\" d=\"M65.5,100h5v36.12026017263585h-5Z\" fill=\"#4c78a8\"></path><path aria-label=\"id: 13; flow_diff: -3.91110283461\" role=\"graphics-symbol\" aria-roledescription=\"bar\" d=\"M69.5,100h5v32.592523621765366h-5Z\" fill=\"#4c78a8\"></path><path aria-label=\"id: 14; flow_diff: 0\" role=\"graphics-symbol\" aria-roledescription=\"bar\" d=\"M73.5,100h5v0h-5Z\" fill=\"#4c78a8\"></path><path aria-label=\"id: 15; flow_diff: -5.40420984122\" role=\"graphics-symbol\" aria-roledescription=\"bar\" d=\"M77.5,100h5v45.03508201017067h-5Z\" fill=\"#4c78a8\"></path><path aria-label=\"id: 16; flow_diff: -5.05746972648\" role=\"graphics-symbol\" aria-roledescription=\"bar\" d=\"M81.5,100h5v42.14558105402156h-5Z\" fill=\"#4c78a8\"></path><path aria-label=\"id: 17; flow_diff: -3.059741216\" role=\"graphics-symbol\" aria-roledescription=\"bar\" d=\"M85.5,100h5v25.497843466700544h-5Z\" fill=\"#4c78a8\"></path><path aria-label=\"id: 18; flow_diff: -5.05746972648\" role=\"graphics-symbol\" aria-roledescription=\"bar\" d=\"M89.5,100h5v42.14558105402091h-5Z\" fill=\"#4c78a8\"></path><path aria-label=\"id: 19; flow_diff: 2.99825637536\" role=\"graphics-symbol\" aria-roledescription=\"bar\" d=\"M93.5,75.01453020535021h5v24.985469794649788h-5Z\" fill=\"#4c78a8\"></path><path aria-label=\"id: 20; flow_diff: 3.059741216\" role=\"graphics-symbol\" aria-roledescription=\"bar\" d=\"M97.5,74.50215653329917h5v25.49784346670083h-5Z\" fill=\"#4c78a8\"></path><path aria-label=\"id: 21; flow_diff: -2.46518147371\" role=\"graphics-symbol\" aria-roledescription=\"bar\" d=\"M101.5,100h5v20.543178947558744h-5Z\" fill=\"#4c78a8\"></path><path aria-label=\"id: 22; flow_diff: 1.05663448685\" role=\"graphics-symbol\" aria-roledescription=\"bar\" d=\"M105.5,91.19471260954828h5v8.805287390451724h-5Z\" fill=\"#4c78a8\"></path><path aria-label=\"id: 23; flow_diff: -1.2582438399\" role=\"graphics-symbol\" aria-roledescription=\"bar\" d=\"M109.50000000000001,100h5v10.485365332472568h-5Z\" fill=\"#4c78a8\"></path><path aria-label=\"id: 24; flow_diff: 1.10824511848\" role=\"graphics-symbol\" aria-roledescription=\"bar\" d=\"M113.49999999999999,90.76462401263711h5v9.235375987362886h-5Z\" fill=\"#4c78a8\"></path><path aria-label=\"id: 25; flow_diff: 2.19425203443\" role=\"graphics-symbol\" aria-roledescription=\"bar\" d=\"M117.5,81.71456637972511h5v18.285433620274887h-5Z\" fill=\"#4c78a8\"></path><path aria-label=\"id: 26; flow_diff: 2.59896107277\" role=\"graphics-symbol\" aria-roledescription=\"bar\" d=\"M121.5,78.34199106027356h5v21.658008939726443h-5Z\" fill=\"#4c78a8\"></path><path aria-label=\"id: 27; flow_diff: 4.42010839364\" role=\"graphics-symbol\" aria-roledescription=\"bar\" d=\"M125.5,63.165763386331506h5v36.834236613668494h-5Z\" fill=\"#4c78a8\"></path><path aria-label=\"id: 28; flow_diff: 4.37260820519\" role=\"graphics-symbol\" aria-roledescription=\"bar\" d=\"M129.5,63.561598290078145h5v36.438401709921855h-5Z\" fill=\"#4c78a8\"></path><path aria-label=\"id: 29; flow_diff: 2.71300110127\" role=\"graphics-symbol\" aria-roledescription=\"bar\" d=\"M133.5,77.39165748944991h5v22.608342510550088h-5Z\" fill=\"#4c78a8\"></path><path aria-label=\"id: 30; flow_diff: 10.7349844844\" role=\"graphics-symbol\" aria-roledescription=\"bar\" d=\"M137.5,10.541795963350097h5v89.4582040366499h-5Z\" fill=\"#4c78a8\"></path><path aria-label=\"id: 31; flow_diff: 0.080944195783\" role=\"graphics-symbol\" aria-roledescription=\"bar\" d=\"M141.5,99.3254650351419h5v0.6745349648580969h-5Z\" fill=\"#4c78a8\"></path><path aria-label=\"id: 32; flow_diff: 4.33443122072\" role=\"graphics-symbol\" aria-roledescription=\"bar\" d=\"M145.5,63.87973982736417h5v36.12026017263583h-5Z\" fill=\"#4c78a8\"></path><path aria-label=\"id: 33; flow_diff: 3.91110283461\" role=\"graphics-symbol\" aria-roledescription=\"bar\" d=\"M149.5,67.40747637823465h5v32.59252362176535h-5Z\" fill=\"#4c78a8\"></path><path aria-label=\"id: 34; flow_diff: 0\" role=\"graphics-symbol\" aria-roledescription=\"bar\" d=\"M153.5,100h5v0h-5Z\" fill=\"#4c78a8\"></path><path aria-label=\"id: 35; flow_diff: 5.40420984122\" role=\"graphics-symbol\" aria-roledescription=\"bar\" d=\"M157.5,54.96491798982932h5v45.03508201017068h-5Z\" fill=\"#4c78a8\"></path><path aria-label=\"id: 36; flow_diff: 5.05746972648\" role=\"graphics-symbol\" aria-roledescription=\"bar\" d=\"M161.5,57.8544189459784h5v42.1455810540216h-5Z\" fill=\"#4c78a8\"></path><path aria-label=\"id: 37; flow_diff: 3.059741216\" role=\"graphics-symbol\" aria-roledescription=\"bar\" d=\"M165.5,74.50215653329948h5v25.497843466700516h-5Z\" fill=\"#4c78a8\"></path><path aria-label=\"id: 38; flow_diff: 5.05746972648\" role=\"graphics-symbol\" aria-roledescription=\"bar\" d=\"M169.5,57.85441894597909h5v42.14558105402091h-5Z\" fill=\"#4c78a8\"></path><path aria-label=\"id: 39; flow_diff: -2.99825637536\" role=\"graphics-symbol\" aria-roledescription=\"bar\" d=\"M173.5,100h5v24.985469794649788h-5Z\" fill=\"#4c78a8\"></path><path aria-label=\"id: 40; flow_diff: -3.059741216\" role=\"graphics-symbol\" aria-roledescription=\"bar\" d=\"M177.5,100h5v25.497843466700857h-5Z\" fill=\"#4c78a8\"></path></g></g><path class=\"foreground\" aria-hidden=\"true\" d=\"\" display=\"none\"></path></g></g></g></svg>\n"
      ],
      "text/plain": [
       "@vlplot(\n",
       "    mark=\"bar\",\n",
       "    encoding={\n",
       "        x={\n",
       "            field=\"id\"\n",
       "        },\n",
       "        y={\n",
       "            field=\"flow_diff\"\n",
       "        }\n",
       "    },\n",
       "    data={\n",
       "        values=...\n",
       "    }\n",
       ")"
      ]
     },
     "execution_count": 31,
     "metadata": {},
     "output_type": "execute_result"
    }
   ],
   "source": [
    "# Comparison of flows\n",
    "# Include both directional differences, although I probably should subset to just\n",
    "# one direction, since they are just mirror images\n",
    "comp_loss_df = DataFrame(with_losses = solution_2.flows.flow, \n",
    "    without_losses = solution_2_no_losses.flows.flow)\n",
    "comp_loss_df.flow_diff = comp_loss_df.with_losses .- comp_loss_df.without_losses\n",
    "comp_loss_df.id = 1:40\n",
    "comp_loss_df |>\n",
    "    @vlplot(:bar, x = :id, y = :flow_diff)\n"
   ]
  },
  {
   "cell_type": "markdown",
   "metadata": {},
   "source": [
    "#### How do prices and flows change? What is the largest magnitude difference in prices between the solution with losses and the lossless OPF solution?\n",
    "- Losses increase the system prices at all nodes, except node 1 where they are unnafacted\n",
    "    - They are not affected at node 1, because this getting extra generation here \n",
    "    doesn't require transporting energy across more lines, and therefore doesn't \n",
    "    incurr any losses. \n",
    "- Prices increase due to the additional generation required to meet the losses as well\n",
    "as the demand. We can think of this change as increasing the net demand of the system. \n",
    "- The largest magnitude in price difference is at node 12. \n",
    "    - This reflects the high losses experiened in getting load to node 12. \n",
    "    "
   ]
  },
  {
   "cell_type": "markdown",
   "metadata": {},
   "source": [
    "## Question 3 - Security contingencies\n",
    "\n",
    "Power system operators need to ensure that power is delivered reliably even in the event of unexpected outages (**contingencies**). One common contigency that must be planned for is the loss of a transmission line. The security-constrained OPF (SCOPF) run by operators solves for an optimal dispatch that is simultaneously robust (i.e., feasible) to each of the lines failing individually. This is what is known as **N-1 security**, because we assume that at most one component fails in any given scenario.\n",
    "\n",
    "In this problem, we will not code a full SCOPF, but rather investigate what happens to the feasibility of our problem when we remove transmission lines.\n",
    "\n",
    "**A. Setup data**\n",
    "\n",
    "The following code loads the original dataset (with one row per line) and includes a function `format_lines` that converts this to a format that our solver function can use (duplicating rows for both directions, adding susceptance, etc.)."
   ]
  },
  {
   "cell_type": "code",
   "execution_count": 32,
   "metadata": {},
   "outputs": [
    {
     "data": {
      "text/plain": [
       "format_lines (generic function with 1 method)"
      ]
     },
     "execution_count": 32,
     "metadata": {},
     "output_type": "execute_result"
    }
   ],
   "source": [
    "lines = CSV.read(joinpath(datadir,\"Tran14.csv\"), DataFrame);\n",
    "rename!(lines,lowercase.(names(lines)))\n",
    "\n",
    "function format_lines(lines)\n",
    "    # create line ids \n",
    "    lines.id = 1:nrow(lines);\n",
    "    # add set of rows for reverse direction with same parameters\n",
    "    lines2 = copy(lines)\n",
    "    lines2.f = lines2.fromnode\n",
    "    lines2.fromnode = lines.tonode\n",
    "    lines2.tonode = lines2.f\n",
    "    lines2 = lines2[:,names(lines)]\n",
    "    append!(lines,lines2)\n",
    "\n",
    "    # calculate simple susceptance, ignoring resistance as earlier \n",
    "    lines.b = 1 ./ lines.reactance\n",
    "    return(lines)\n",
    "end"
   ]
  },
  {
   "cell_type": "markdown",
   "metadata": {},
   "source": [
    "Next:\n",
    "\n",
    "1. Set the capacity of all lines in the system at 100 MW, except for the line $l_{12}$, which you should set to 200 MW.\n",
    "\n",
    "2. Create a load dataframe `loads_sens` that increases demands everywhere by 10\\%"
   ]
  },
  {
   "cell_type": "code",
   "execution_count": 33,
   "metadata": {},
   "outputs": [],
   "source": [
    "# 1. Set the capacity of all lines in the system at 100 MW, \n",
    "# except for the line $l_{12}$, which you should set to 200 MW.\n",
    "lines.capacity = 100\n",
    "lines.capacity[(lines.fromnode .== 1).&(lines.tonode .== 2)] .= 200;"
   ]
  },
  {
   "cell_type": "code",
   "execution_count": 34,
   "metadata": {},
   "outputs": [],
   "source": [
    "# 2. Create a load dataframe loads_sens that increases demands everywhere by 10%\n",
    "loads_sens = copy(loads) |>\n",
    "    @mutate(demand = _.demand * 1.1) |>\n",
    "    DataFrame;"
   ]
  },
  {
   "cell_type": "markdown",
   "metadata": {},
   "source": [
    "**B. Loop over line contingencies**\n",
    "\n",
    "Create a dataframe `status` with the `fromnode` and `tonode` columns of `lines`.\n",
    "\n",
    "Create a [for loop](https://docs.julialang.org/en/v1/manual/control-flow/#man-loops) that iterates over each line and:\n",
    "- sets the reactance to be a very high value, 1e9 (i.e., no power will be transmitted)\n",
    "- creates a version of the dataframe that our solver function can use via `format_lines`\n",
    "- runs DCOPF\n",
    "- stores the solution status in a `opf` column in the corresponding row of the `status` dataframe\n",
    "\n",
    "Show the `status` results."
   ]
  },
  {
   "cell_type": "code",
   "execution_count": 35,
   "metadata": {},
   "outputs": [],
   "source": [
    "# Create a dataframe status with the fromnode and tonode columns of lines.\n",
    "status = DataFrame(fromnode = lines.fromnode, tonode = lines.tonode)\n",
    "status.id = 1:nrow(status)\n",
    "status.opf = \"\";"
   ]
  },
  {
   "cell_type": "code",
   "execution_count": 36,
   "metadata": {},
   "outputs": [],
   "source": [
    "# Create a for loop that iterates over each line and:\n",
    "# - sets the reactance to be a very high value, 1e9 (i.e., no power will be transmitted)\n",
    "# - creates a version of the dataframe that our \n",
    "    # solver function can use via `format_lines`\n",
    "# - runs DCOPF\n",
    "# - stores the solution status in a `opf` column in the corresponding \n",
    "    # row of the `status` dataframe\n",
    "\n",
    "for i in 1:nrow(status)\n",
    "    lines_vals = copy(lines)\n",
    "    lines_vals.reactance[i] = 10000000000\n",
    "    lines_vals = format_lines(lines_vals)\n",
    "    solution = dcopf_ieee(gens, lines_vals, loads_sens)\n",
    "    status.opf[i] = string(solution.status)\n",
    "end"
   ]
  },
  {
   "cell_type": "code",
   "execution_count": 37,
   "metadata": {},
   "outputs": [
    {
     "data": {
      "text/html": [
       "<table class=\"data-frame\"><thead><tr><th></th><th>fromnode</th><th>tonode</th><th>id</th><th>opf</th></tr><tr><th></th><th>Int64</th><th>Int64</th><th>Int64</th><th>String</th></tr></thead><tbody><p>20 rows × 4 columns</p><tr><th>1</th><td>1</td><td>2</td><td>1</td><td>INFEASIBLE</td></tr><tr><th>2</th><td>1</td><td>5</td><td>2</td><td>OPTIMAL</td></tr><tr><th>3</th><td>2</td><td>3</td><td>3</td><td>INFEASIBLE</td></tr><tr><th>4</th><td>2</td><td>4</td><td>4</td><td>INFEASIBLE</td></tr><tr><th>5</th><td>2</td><td>5</td><td>5</td><td>OPTIMAL</td></tr><tr><th>6</th><td>3</td><td>4</td><td>6</td><td>INFEASIBLE</td></tr><tr><th>7</th><td>4</td><td>5</td><td>7</td><td>OPTIMAL</td></tr><tr><th>8</th><td>4</td><td>7</td><td>8</td><td>OPTIMAL</td></tr><tr><th>9</th><td>4</td><td>9</td><td>9</td><td>OPTIMAL</td></tr><tr><th>10</th><td>5</td><td>6</td><td>10</td><td>OPTIMAL</td></tr><tr><th>11</th><td>6</td><td>11</td><td>11</td><td>OPTIMAL</td></tr><tr><th>12</th><td>6</td><td>12</td><td>12</td><td>OPTIMAL</td></tr><tr><th>13</th><td>6</td><td>13</td><td>13</td><td>OPTIMAL</td></tr><tr><th>14</th><td>7</td><td>8</td><td>14</td><td>DUAL_INFEASIBLE</td></tr><tr><th>15</th><td>7</td><td>9</td><td>15</td><td>OPTIMAL</td></tr><tr><th>16</th><td>9</td><td>10</td><td>16</td><td>OPTIMAL</td></tr><tr><th>17</th><td>9</td><td>14</td><td>17</td><td>OPTIMAL</td></tr><tr><th>18</th><td>10</td><td>11</td><td>18</td><td>OPTIMAL</td></tr><tr><th>19</th><td>12</td><td>13</td><td>19</td><td>OPTIMAL</td></tr><tr><th>20</th><td>13</td><td>14</td><td>20</td><td>OPTIMAL</td></tr></tbody></table>"
      ],
      "text/latex": [
       "\\begin{tabular}{r|cccc}\n",
       "\t& fromnode & tonode & id & opf\\\\\n",
       "\t\\hline\n",
       "\t& Int64 & Int64 & Int64 & String\\\\\n",
       "\t\\hline\n",
       "\t1 & 1 & 2 & 1 & INFEASIBLE \\\\\n",
       "\t2 & 1 & 5 & 2 & OPTIMAL \\\\\n",
       "\t3 & 2 & 3 & 3 & INFEASIBLE \\\\\n",
       "\t4 & 2 & 4 & 4 & INFEASIBLE \\\\\n",
       "\t5 & 2 & 5 & 5 & OPTIMAL \\\\\n",
       "\t6 & 3 & 4 & 6 & INFEASIBLE \\\\\n",
       "\t7 & 4 & 5 & 7 & OPTIMAL \\\\\n",
       "\t8 & 4 & 7 & 8 & OPTIMAL \\\\\n",
       "\t9 & 4 & 9 & 9 & OPTIMAL \\\\\n",
       "\t10 & 5 & 6 & 10 & OPTIMAL \\\\\n",
       "\t11 & 6 & 11 & 11 & OPTIMAL \\\\\n",
       "\t12 & 6 & 12 & 12 & OPTIMAL \\\\\n",
       "\t13 & 6 & 13 & 13 & OPTIMAL \\\\\n",
       "\t14 & 7 & 8 & 14 & DUAL\\_INFEASIBLE \\\\\n",
       "\t15 & 7 & 9 & 15 & OPTIMAL \\\\\n",
       "\t16 & 9 & 10 & 16 & OPTIMAL \\\\\n",
       "\t17 & 9 & 14 & 17 & OPTIMAL \\\\\n",
       "\t18 & 10 & 11 & 18 & OPTIMAL \\\\\n",
       "\t19 & 12 & 13 & 19 & OPTIMAL \\\\\n",
       "\t20 & 13 & 14 & 20 & OPTIMAL \\\\\n",
       "\\end{tabular}\n"
      ],
      "text/plain": [
       "20×4 DataFrame\n",
       "│ Row │ fromnode │ tonode │ id    │ opf             │\n",
       "│     │ \u001b[90mInt64\u001b[39m    │ \u001b[90mInt64\u001b[39m  │ \u001b[90mInt64\u001b[39m │ \u001b[90mString\u001b[39m          │\n",
       "├─────┼──────────┼────────┼───────┼─────────────────┤\n",
       "│ 1   │ 1        │ 2      │ 1     │ INFEASIBLE      │\n",
       "│ 2   │ 1        │ 5      │ 2     │ OPTIMAL         │\n",
       "│ 3   │ 2        │ 3      │ 3     │ INFEASIBLE      │\n",
       "│ 4   │ 2        │ 4      │ 4     │ INFEASIBLE      │\n",
       "│ 5   │ 2        │ 5      │ 5     │ OPTIMAL         │\n",
       "│ 6   │ 3        │ 4      │ 6     │ INFEASIBLE      │\n",
       "│ 7   │ 4        │ 5      │ 7     │ OPTIMAL         │\n",
       "│ 8   │ 4        │ 7      │ 8     │ OPTIMAL         │\n",
       "│ 9   │ 4        │ 9      │ 9     │ OPTIMAL         │\n",
       "│ 10  │ 5        │ 6      │ 10    │ OPTIMAL         │\n",
       "│ 11  │ 6        │ 11     │ 11    │ OPTIMAL         │\n",
       "│ 12  │ 6        │ 12     │ 12    │ OPTIMAL         │\n",
       "│ 13  │ 6        │ 13     │ 13    │ OPTIMAL         │\n",
       "│ 14  │ 7        │ 8      │ 14    │ DUAL_INFEASIBLE │\n",
       "│ 15  │ 7        │ 9      │ 15    │ OPTIMAL         │\n",
       "│ 16  │ 9        │ 10     │ 16    │ OPTIMAL         │\n",
       "│ 17  │ 9        │ 14     │ 17    │ OPTIMAL         │\n",
       "│ 18  │ 10       │ 11     │ 18    │ OPTIMAL         │\n",
       "│ 19  │ 12       │ 13     │ 19    │ OPTIMAL         │\n",
       "│ 20  │ 13       │ 14     │ 20    │ OPTIMAL         │"
      ]
     },
     "execution_count": 37,
     "metadata": {},
     "output_type": "execute_result"
    }
   ],
   "source": [
    "# show the status results\n",
    "status"
   ]
  },
  {
   "cell_type": "markdown",
   "metadata": {},
   "source": [
    "**3. Interpret results**\n",
    "\n",
    "Are all of the cases feasible? If not, how many are infeasible? "
   ]
  },
  {
   "cell_type": "code",
   "execution_count": 38,
   "metadata": {},
   "outputs": [
    {
     "name": "stdout",
     "output_type": "stream",
     "text": [
      "15 out of the 20 are feasible\n"
     ]
    }
   ],
   "source": [
    "# Are all of the cases feasible? If not, how many are infeasible? \n",
    "println(string(length(status.opf[status.opf .== \"OPTIMAL\"])) * \n",
    "    \" out of the 20 are feasible\")"
   ]
  },
  {
   "cell_type": "markdown",
   "metadata": {},
   "source": [
    "Pick two cases where the solution gives a different status. (For our purposes, dual infeasible and primal infeasible are the same.) What is happening here?\n",
    "\n",
    "Given this, do you conclude that the system with the assumed transmission line ratings is secure as-is, or do we need to add more redundancy to the system?"
   ]
  },
  {
   "cell_type": "markdown",
   "metadata": {},
   "source": [
    "##### Pick two cases where the solution gives a different status. (For our purposes, dual infeasible and primal infeasible are the same.) What is happening here?\n",
    "\n",
    "Consider cases in the first two rows of the status dataframe\n",
    "- In the first row, we have an infeasible solution. This is when we eliminate the \n",
    "line connecting nodes 1 and 2. \n",
    "    - Eliminating this line reduces the ability of generator 1 to supply the system. \n",
    "    - Hence, it becomes impossible to supply the system, given it's physical constraints\n",
    "- In the second row, we have a feasible solution, despite the fact that we have broken the line connecting nodes 5 and 2. \n",
    "    - Node 5 can supply its demand using other transimission lines, and hence the system is not infeasible. "
   ]
  },
  {
   "cell_type": "markdown",
   "metadata": {},
   "source": [
    "#### Given this, do you conclude that the system with the assumed transmission line ratings is secure as-is, or do we need to add more redundancy to the system?\n",
    "- I conclude that the system is not N-1 secure, since there are a number of lines for which\n",
    "if they break, the system becomes infeasible.\n",
    "- Therefore, we need to add extra redundancy to the system, if we want to meet this \n",
    "standard. \n"
   ]
  }
 ],
 "metadata": {
  "@webio": {
   "lastCommId": null,
   "lastKernelId": null
  },
  "kernelspec": {
   "display_name": "Julia 1.5.2",
   "language": "julia",
   "name": "julia-1.5"
  },
  "language_info": {
   "file_extension": ".jl",
   "mimetype": "application/julia",
   "name": "julia",
   "version": "1.5.2"
  }
 },
 "nbformat": 4,
 "nbformat_minor": 4
}
